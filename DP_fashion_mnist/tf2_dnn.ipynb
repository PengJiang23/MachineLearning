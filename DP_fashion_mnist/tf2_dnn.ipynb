{
 "cells": [
  {
   "cell_type": "code",
   "execution_count": 8,
   "metadata": {
    "collapsed": true,
    "ExecuteTime": {
     "start_time": "2023-07-20T13:19:39.879568Z",
     "end_time": "2023-07-20T13:19:39.886088Z"
    }
   },
   "outputs": [],
   "source": [
    "import matplotlib as mpl\n",
    "import matplotlib.pyplot as plt\n",
    "%matplotlib inline\n",
    "import numpy as np\n",
    "import sklearn\n",
    "import pandas as pd\n",
    "import os\n",
    "import sys\n",
    "import time\n",
    "import tensorflow as tf\n",
    "\n",
    "from tensorflow import keras"
   ]
  },
  {
   "cell_type": "code",
   "execution_count": 9,
   "outputs": [],
   "source": [
    "fashion_mnist = keras.datasets.fashion_mnist\n",
    "(x_train_all, y_train_all), (x_test, y_test) = fashion_mnist.load_data()\n",
    "x_valid, x_train = x_train_all[:5000], x_train_all[5000:]\n",
    "y_valid, y_train = y_train_all[:5000], y_train_all[5000:]"
   ],
   "metadata": {
    "collapsed": false,
    "ExecuteTime": {
     "start_time": "2023-07-20T13:19:39.883088Z",
     "end_time": "2023-07-20T13:19:40.100476Z"
    }
   }
  },
  {
   "cell_type": "code",
   "execution_count": 10,
   "outputs": [],
   "source": [
    "# x = (x - u) / std\n",
    "\n",
    "from sklearn.preprocessing import StandardScaler\n",
    "\n",
    "scaler = StandardScaler()\n",
    "# x_train: [None, 28, 28] -> [None, 784]\n",
    "x_train_scaled = scaler.fit_transform(\n",
    "    x_train.astype(np.float32).reshape(-1, 1)).reshape(-1, 28, 28)\n",
    "x_valid_scaled = scaler.transform(\n",
    "    x_valid.astype(np.float32).reshape(-1, 1)).reshape(-1, 28, 28)\n",
    "x_test_scaled = scaler.transform(\n",
    "    x_test.astype(np.float32).reshape(-1, 1)).reshape(-1, 28, 28)"
   ],
   "metadata": {
    "collapsed": false,
    "ExecuteTime": {
     "start_time": "2023-07-20T13:19:40.100476Z",
     "end_time": "2023-07-20T13:19:40.734629Z"
    }
   }
  },
  {
   "cell_type": "code",
   "execution_count": 11,
   "outputs": [],
   "source": [
    "# tf.keras.models.Sequential()\n",
    "\n",
    "model = keras.models.Sequential()\n",
    "model.add(keras.layers.Flatten(input_shape=[28, 28]))\n",
    "#这次我们做20层\n",
    "for _ in range(20):\n",
    "    model.add(keras.layers.Dense(100, activation=\"relu\"))\n",
    "#结果层\n",
    "model.add(keras.layers.Dense(10, activation=\"softmax\"))\n",
    "\n",
    "model.compile(loss=\"sparse_categorical_crossentropy\",\n",
    "              optimizer=keras.optimizers.SGD(0.001),\n",
    "              metrics=[\"accuracy\"])"
   ],
   "metadata": {
    "collapsed": false,
    "ExecuteTime": {
     "start_time": "2023-07-20T13:19:40.721629Z",
     "end_time": "2023-07-20T13:19:41.171052Z"
    }
   }
  },
  {
   "cell_type": "code",
   "execution_count": 12,
   "outputs": [
    {
     "name": "stdout",
     "output_type": "stream",
     "text": [
      "Model: \"sequential_1\"\n",
      "_________________________________________________________________\n",
      " Layer (type)                Output Shape              Param #   \n",
      "=================================================================\n",
      " flatten_1 (Flatten)         (None, 784)               0         \n",
      "                                                                 \n",
      " dense_21 (Dense)            (None, 100)               78500     \n",
      "                                                                 \n",
      " dense_22 (Dense)            (None, 100)               10100     \n",
      "                                                                 \n",
      " dense_23 (Dense)            (None, 100)               10100     \n",
      "                                                                 \n",
      " dense_24 (Dense)            (None, 100)               10100     \n",
      "                                                                 \n",
      " dense_25 (Dense)            (None, 100)               10100     \n",
      "                                                                 \n",
      " dense_26 (Dense)            (None, 100)               10100     \n",
      "                                                                 \n",
      " dense_27 (Dense)            (None, 100)               10100     \n",
      "                                                                 \n",
      " dense_28 (Dense)            (None, 100)               10100     \n",
      "                                                                 \n",
      " dense_29 (Dense)            (None, 100)               10100     \n",
      "                                                                 \n",
      " dense_30 (Dense)            (None, 100)               10100     \n",
      "                                                                 \n",
      " dense_31 (Dense)            (None, 100)               10100     \n",
      "                                                                 \n",
      " dense_32 (Dense)            (None, 100)               10100     \n",
      "                                                                 \n",
      " dense_33 (Dense)            (None, 100)               10100     \n",
      "                                                                 \n",
      " dense_34 (Dense)            (None, 100)               10100     \n",
      "                                                                 \n",
      " dense_35 (Dense)            (None, 100)               10100     \n",
      "                                                                 \n",
      " dense_36 (Dense)            (None, 100)               10100     \n",
      "                                                                 \n",
      " dense_37 (Dense)            (None, 100)               10100     \n",
      "                                                                 \n",
      " dense_38 (Dense)            (None, 100)               10100     \n",
      "                                                                 \n",
      " dense_39 (Dense)            (None, 100)               10100     \n",
      "                                                                 \n",
      " dense_40 (Dense)            (None, 100)               10100     \n",
      "                                                                 \n",
      " dense_41 (Dense)            (None, 10)                1010      \n",
      "                                                                 \n",
      "=================================================================\n",
      "Total params: 271,410\n",
      "Trainable params: 271,410\n",
      "Non-trainable params: 0\n",
      "_________________________________________________________________\n"
     ]
    }
   ],
   "source": [
    "model.summary()"
   ],
   "metadata": {
    "collapsed": false,
    "ExecuteTime": {
     "start_time": "2023-07-20T13:19:41.172050Z",
     "end_time": "2023-07-20T13:19:41.231091Z"
    }
   }
  },
  {
   "cell_type": "code",
   "execution_count": 13,
   "outputs": [
    {
     "data": {
      "text/plain": "[<keras.layers.reshaping.flatten.Flatten at 0x2f4e25f94b0>,\n <keras.layers.core.dense.Dense at 0x2f4e25f9ba0>,\n <keras.layers.core.dense.Dense at 0x2f4e25fb160>,\n <keras.layers.core.dense.Dense at 0x2f4e25fbee0>,\n <keras.layers.core.dense.Dense at 0x2f4e25fb790>,\n <keras.layers.core.dense.Dense at 0x2f4e25fbb20>,\n <keras.layers.core.dense.Dense at 0x2f329c31780>,\n <keras.layers.core.dense.Dense at 0x2f329c30df0>,\n <keras.layers.core.dense.Dense at 0x2f329c318a0>,\n <keras.layers.core.dense.Dense at 0x2f329c33d00>,\n <keras.layers.core.dense.Dense at 0x2f329c33550>,\n <keras.layers.core.dense.Dense at 0x2f329c33ee0>,\n <keras.layers.core.dense.Dense at 0x2f2ffb86140>,\n <keras.layers.core.dense.Dense at 0x2f2ffb85360>,\n <keras.layers.core.dense.Dense at 0x2f2ffb85a80>,\n <keras.layers.core.dense.Dense at 0x2f2ffb87f10>,\n <keras.layers.core.dense.Dense at 0x2f2ffb87130>,\n <keras.layers.core.dense.Dense at 0x2f2ffb87910>,\n <keras.layers.core.dense.Dense at 0x2f4e2631d20>,\n <keras.layers.core.dense.Dense at 0x2f2ffb85450>,\n <keras.layers.core.dense.Dense at 0x2f2ffb85480>,\n <keras.layers.core.dense.Dense at 0x2f329c31d80>]"
     },
     "execution_count": 13,
     "metadata": {},
     "output_type": "execute_result"
    }
   ],
   "source": [
    "model.layers"
   ],
   "metadata": {
    "collapsed": false,
    "ExecuteTime": {
     "start_time": "2023-07-20T13:19:41.202220Z",
     "end_time": "2023-07-20T13:19:41.240085Z"
    }
   }
  },
  {
   "cell_type": "code",
   "execution_count": 18,
   "outputs": [
    {
     "name": "stdout",
     "output_type": "stream",
     "text": [
      "Epoch 1/100\n",
      "1719/1719 [==============================] - 13s 8ms/step - loss: 0.3677 - accuracy: 0.8761 - val_loss: 0.4423 - val_accuracy: 0.8456\n",
      "Epoch 2/100\n",
      "1719/1719 [==============================] - 13s 7ms/step - loss: 0.3641 - accuracy: 0.8779 - val_loss: 0.4517 - val_accuracy: 0.8504\n",
      "Epoch 3/100\n",
      "1719/1719 [==============================] - 14s 8ms/step - loss: 0.3526 - accuracy: 0.8795 - val_loss: 0.4417 - val_accuracy: 0.8444\n",
      "Epoch 4/100\n",
      "1719/1719 [==============================] - 14s 8ms/step - loss: 0.3470 - accuracy: 0.8838 - val_loss: 0.4330 - val_accuracy: 0.8544\n",
      "Epoch 5/100\n",
      "1719/1719 [==============================] - 13s 8ms/step - loss: 0.3471 - accuracy: 0.8832 - val_loss: 0.4138 - val_accuracy: 0.8552\n",
      "Epoch 6/100\n",
      "1719/1719 [==============================] - 13s 8ms/step - loss: 0.3467 - accuracy: 0.8821 - val_loss: 0.4807 - val_accuracy: 0.8438\n",
      "Epoch 7/100\n",
      "1719/1719 [==============================] - 13s 8ms/step - loss: 0.3391 - accuracy: 0.8870 - val_loss: 0.4270 - val_accuracy: 0.8564\n",
      "Epoch 8/100\n",
      "1719/1719 [==============================] - 13s 8ms/step - loss: 0.3319 - accuracy: 0.8885 - val_loss: 0.4204 - val_accuracy: 0.8594\n",
      "Epoch 9/100\n",
      "1719/1719 [==============================] - 13s 8ms/step - loss: 0.3247 - accuracy: 0.8905 - val_loss: 0.4806 - val_accuracy: 0.8434\n",
      "Epoch 10/100\n",
      "1719/1719 [==============================] - 13s 8ms/step - loss: 0.3214 - accuracy: 0.8922 - val_loss: 0.4259 - val_accuracy: 0.8580\n"
     ]
    }
   ],
   "source": [
    "# Tensorboard, earlystopping, ModelCheckpoint\n",
    "logdir = './dnn-callbacks'\n",
    "if not os.path.exists(logdir):\n",
    "    os.mkdir(logdir)\n",
    "output_model_file = os.path.join(logdir,\n",
    "                                 \"fashion_mnist_model.h5\")\n",
    "\n",
    "callbacks = [\n",
    "    keras.callbacks.TensorBoard(logdir),\n",
    "    keras.callbacks.ModelCheckpoint(output_model_file,\n",
    "                                    save_best_only=True),\n",
    "    keras.callbacks.EarlyStopping(patience=5, min_delta=1e-3),\n",
    "]\n",
    "with tf.device('/CPU:0'):\n",
    "    history = model.fit(x_train_scaled, y_train, epochs=100,\n",
    "                    validation_data=(x_valid_scaled, y_valid),\n",
    "                    callbacks=callbacks)"
   ],
   "metadata": {
    "collapsed": false,
    "ExecuteTime": {
     "start_time": "2023-07-20T13:34:28.548496Z",
     "end_time": "2023-07-20T13:36:41.327283Z"
    }
   }
  },
  {
   "cell_type": "code",
   "execution_count": 15,
   "outputs": [
    {
     "data": {
      "text/plain": "{'loss': [2.3017330169677734,\n  2.2993781566619873,\n  2.2950191497802734,\n  2.2853448390960693,\n  2.2637743949890137,\n  2.2088520526885986,\n  2.03695011138916,\n  1.546913743019104,\n  1.1048015356063843,\n  0.9504444599151611,\n  0.8777900338172913,\n  0.8044156432151794,\n  0.756478488445282,\n  0.7162677645683289,\n  0.6827604174613953,\n  0.6560496687889099,\n  0.6278110146522522,\n  0.6037927269935608,\n  0.5845241546630859,\n  0.5719491243362427,\n  0.5504859089851379,\n  0.5366157293319702,\n  0.5248487591743469,\n  0.5062515139579773,\n  0.49357491731643677,\n  0.48654407262802124,\n  0.4750604033470154,\n  0.4630574882030487,\n  0.45109397172927856,\n  0.44266843795776367,\n  0.44084611535072327,\n  0.42668408155441284,\n  0.41884803771972656,\n  0.41365358233451843,\n  0.4029243588447571,\n  0.3950927257537842,\n  0.390304833650589,\n  0.3824184238910675,\n  0.37739503383636475,\n  0.37207508087158203],\n 'accuracy': [0.13169090449810028,\n  0.11269091069698334,\n  0.19096364080905914,\n  0.21345454454421997,\n  0.24852727353572845,\n  0.23632727563381195,\n  0.21212726831436157,\n  0.35016363859176636,\n  0.5345090627670288,\n  0.6117454767227173,\n  0.6498727202415466,\n  0.6850727200508118,\n  0.7078909277915955,\n  0.7279090881347656,\n  0.7411817908287048,\n  0.7516909241676331,\n  0.7617999911308289,\n  0.7729272842407227,\n  0.7791091203689575,\n  0.7858181595802307,\n  0.7962363362312317,\n  0.8009272813796997,\n  0.808509111404419,\n  0.8172181844711304,\n  0.823199987411499,\n  0.8276545405387878,\n  0.8316909074783325,\n  0.83643639087677,\n  0.8420727252960205,\n  0.846818208694458,\n  0.8460727334022522,\n  0.8514181971549988,\n  0.8553272485733032,\n  0.8572545647621155,\n  0.8611454367637634,\n  0.864690899848938,\n  0.8655818104743958,\n  0.8690545558929443,\n  0.8705636262893677,\n  0.873163640499115],\n 'val_loss': [2.300811529159546,\n  2.2976770401000977,\n  2.2913389205932617,\n  2.2771034240722656,\n  2.244077205657959,\n  2.1543314456939697,\n  1.8620688915252686,\n  1.2320672273635864,\n  0.919503390789032,\n  0.8327356576919556,\n  0.7857591509819031,\n  0.720130205154419,\n  0.7103642821311951,\n  0.6798556447029114,\n  0.6445802450180054,\n  0.7425378561019897,\n  0.5806194543838501,\n  0.5940508842468262,\n  0.5446594953536987,\n  0.6126410365104675,\n  0.8057950735092163,\n  0.6307233572006226,\n  0.5237805843353271,\n  0.4964873492717743,\n  0.5860052704811096,\n  0.5019622445106506,\n  0.5094079971313477,\n  0.47832244634628296,\n  0.46816495060920715,\n  0.503514289855957,\n  0.5236122608184814,\n  0.461712509393692,\n  0.44968169927597046,\n  0.4423839747905731,\n  0.4369044899940491,\n  0.4401177167892456,\n  0.46569493412971497,\n  0.4530569911003113,\n  0.4381100535392761,\n  0.45471954345703125],\n 'val_accuracy': [0.09139999747276306,\n  0.1096000000834465,\n  0.2531999945640564,\n  0.25699999928474426,\n  0.24799999594688416,\n  0.2298000007867813,\n  0.2282000035047531,\n  0.46219998598098755,\n  0.6466000080108643,\n  0.6549999713897705,\n  0.7057999968528748,\n  0.7360000014305115,\n  0.7175999879837036,\n  0.7373999953269958,\n  0.758400022983551,\n  0.7246000170707703,\n  0.7946000099182129,\n  0.7843999862670898,\n  0.8068000078201294,\n  0.7752000093460083,\n  0.6845999956130981,\n  0.7652000188827515,\n  0.8086000084877014,\n  0.821399986743927,\n  0.7748000025749207,\n  0.824400007724762,\n  0.8281999826431274,\n  0.8325999975204468,\n  0.8330000042915344,\n  0.821399986743927,\n  0.8203999996185303,\n  0.8389999866485596,\n  0.8407999873161316,\n  0.8478000164031982,\n  0.848800003528595,\n  0.8479999899864197,\n  0.8414000272750854,\n  0.840399980545044,\n  0.8518000245094299,\n  0.849399983882904]}"
     },
     "execution_count": 15,
     "metadata": {},
     "output_type": "execute_result"
    }
   ],
   "source": [
    "history.history"
   ],
   "metadata": {
    "collapsed": false,
    "ExecuteTime": {
     "start_time": "2023-07-20T13:30:09.747020Z",
     "end_time": "2023-07-20T13:30:09.790341Z"
    }
   }
  },
  {
   "cell_type": "code",
   "execution_count": 16,
   "outputs": [
    {
     "data": {
      "text/plain": "<Figure size 800x500 with 1 Axes>",
      "image/png": "[encoded data removed]"
     },
     "metadata": {},
     "output_type": "display_data"
    }
   ],
   "source": [
    "def plot_learning_curves(history):\n",
    "    pd.DataFrame(history.history).plot(figsize=(8, 5))\n",
    "    plt.grid(True)\n",
    "    plt.gca().set_ylim(0, 3)\n",
    "    plt.show()\n",
    "\n",
    "plot_learning_curves(history)\n",
    "\n",
    "#如果初期变化效果不明显\n",
    "# 1. 参数众多，训练不充分\n",
    "# 2. 梯度消失 -> 链式法则 -> 复合函数f(g(x))求导，前期参数太多"
   ],
   "metadata": {
    "collapsed": false,
    "ExecuteTime": {
     "start_time": "2023-07-20T13:30:09.761342Z",
     "end_time": "2023-07-20T13:30:09.872170Z"
    }
   }
  },
  {
   "cell_type": "code",
   "execution_count": 17,
   "outputs": [
    {
     "data": {
      "text/plain": "[0.48554229736328125, 0.833899974822998]"
     },
     "execution_count": 17,
     "metadata": {},
     "output_type": "execute_result"
    }
   ],
   "source": [
    "model.evaluate(x_test_scaled, y_test, verbose=0)"
   ],
   "metadata": {
    "collapsed": false,
    "ExecuteTime": {
     "start_time": "2023-07-20T13:30:09.888097Z",
     "end_time": "2023-07-20T13:30:10.982642Z"
    }
   }
  }
 ],
 "metadata": {
  "kernelspec": {
   "display_name": "Python 3",
   "language": "python",
   "name": "python3"
  },
  "language_info": {
   "codemirror_mode": {
    "name": "ipython",
    "version": 2
   },
   "file_extension": ".py",
   "mimetype": "text/x-python",
   "name": "python",
   "nbconvert_exporter": "python",
   "pygments_lexer": "ipython2",
   "version": "2.7.6"
  }
 },
 "nbformat": 4,
 "nbformat_minor": 0
}
