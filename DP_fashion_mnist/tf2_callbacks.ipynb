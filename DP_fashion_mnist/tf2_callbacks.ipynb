{
 "cells": [
  {
   "cell_type": "code",
   "execution_count": 1,
   "outputs": [
    {
     "name": "stderr",
     "output_type": "stream",
     "text": [
      "2023-07-19 10:11:03.761137: I tensorflow/tsl/cuda/cudart_stub.cc:28] Could not find cuda drivers on your machine, GPU will not be used.\n",
      "2023-07-19 10:11:03.871146: I tensorflow/tsl/cuda/cudart_stub.cc:28] Could not find cuda drivers on your machine, GPU will not be used.\n",
      "2023-07-19 10:11:03.873365: I tensorflow/core/platform/cpu_feature_guard.cc:182] This TensorFlow binary is optimized to use available CPU instructions in performance-critical operations.\n",
      "To enable the following instructions: AVX2 FMA, in other operations, rebuild TensorFlow with the appropriate compiler flags.\n",
      "2023-07-19 10:11:05.203294: W tensorflow/compiler/tf2tensorrt/utils/py_utils.cc:38] TF-TRT Warning: Could not find TensorRT\n"
     ]
    }
   ],
   "source": [
    "import matplotlib as mpl\n",
    "import matplotlib.pyplot as plt\n",
    "import numpy as np\n",
    "import sklearn\n",
    "import pandas as pd\n",
    "import os\n",
    "import sys\n",
    "import time\n",
    "import tensorflow as tf\n",
    "\n",
    "from tensorflow import keras\n",
    "from sklearn.preprocessing import StandardScaler"
   ],
   "metadata": {
    "collapsed": false,
    "ExecuteTime": {
     "start_time": "2023-07-19T10:11:02.305308Z",
     "end_time": "2023-07-19T10:11:06.508177Z"
    }
   }
  },
  {
   "cell_type": "code",
   "execution_count": 2,
   "outputs": [],
   "source": [
    "# callbacks 解决准确率问题\n",
    "# fashion_mnist图像分类数据集   60000个样本，每个样本28*28的特征  target 0-9 对应不同衣服种类\n",
    "fashion_mnist = keras.datasets.fashion_mnist\n",
    "# 数据加载本地用户.keras文件中\n",
    "(x_train_all, y_train_all), (x_test, y_test) = fashion_mnist.load_data()\n",
    "# 验证集、训练集\n",
    "x_valid, x_train = x_train_all[:5000], x_train_all[5000:]\n",
    "y_valid, y_train = y_train_all[:5000], y_train_all[5000:]"
   ],
   "metadata": {
    "collapsed": false,
    "ExecuteTime": {
     "start_time": "2023-07-19T10:11:06.525362Z",
     "end_time": "2023-07-19T10:11:07.159437Z"
    }
   }
  },
  {
   "cell_type": "code",
   "execution_count": 3,
   "outputs": [],
   "source": [
    "std = StandardScaler()\n",
    "x_train_std = std.fit_transform(x_train.astype(np.float32).reshape(-1, 1)).reshape(-1, 28, 28)\n",
    "x_valid_std = std.transform(x_valid.astype(np.float32).reshape(-1, 1)).reshape(-1, 28, 28)\n",
    "x_test_std = std.transform(x_test.astype(np.float32).reshape(-1, 1)).reshape(-1, 28, 28)"
   ],
   "metadata": {
    "collapsed": false,
    "ExecuteTime": {
     "start_time": "2023-07-19T10:11:07.167965Z",
     "end_time": "2023-07-19T10:11:08.140440Z"
    }
   }
  },
  {
   "cell_type": "code",
   "execution_count": 4,
   "outputs": [
    {
     "name": "stdout",
     "output_type": "stream",
     "text": [
      "Epoch 1/100\n",
      "1719/1719 [==============================] - 13s 7ms/step - loss: 0.8604 - accuracy: 0.7138 - val_loss: 0.6093 - val_accuracy: 0.7936\n",
      "Epoch 2/100\n",
      "  15/1719 [..............................] - ETA: 12s - loss: 0.6587 - accuracy: 0.7833"
     ]
    },
    {
     "name": "stderr",
     "output_type": "stream",
     "text": [
      "/home/jiangpeng/.virtualenvs/tf2/lib/python3.10/site-packages/keras/src/engine/training.py:3000: UserWarning: You are saving your model as an HDF5 file via `model.save()`. This file format is considered legacy. We recommend using instead the native Keras format, e.g. `model.save('my_model.keras')`.\n",
      "  saving_api.save_model(\n"
     ]
    },
    {
     "name": "stdout",
     "output_type": "stream",
     "text": [
      "1719/1719 [==============================] - 12s 7ms/step - loss: 0.5767 - accuracy: 0.8007 - val_loss: 0.5178 - val_accuracy: 0.8234\n",
      "Epoch 3/100\n",
      "1719/1719 [==============================] - 12s 7ms/step - loss: 0.5115 - accuracy: 0.8219 - val_loss: 0.4764 - val_accuracy: 0.8356\n",
      "Epoch 4/100\n",
      "1719/1719 [==============================] - 12s 7ms/step - loss: 0.4757 - accuracy: 0.8340 - val_loss: 0.4514 - val_accuracy: 0.8456\n",
      "Epoch 5/100\n",
      "1719/1719 [==============================] - 12s 7ms/step - loss: 0.4518 - accuracy: 0.8420 - val_loss: 0.4337 - val_accuracy: 0.8490\n",
      "Epoch 6/100\n",
      "1719/1719 [==============================] - 12s 7ms/step - loss: 0.4338 - accuracy: 0.8481 - val_loss: 0.4201 - val_accuracy: 0.8562\n",
      "Epoch 7/100\n",
      "1719/1719 [==============================] - 12s 7ms/step - loss: 0.4200 - accuracy: 0.8523 - val_loss: 0.4094 - val_accuracy: 0.8594\n",
      "Epoch 8/100\n",
      "1719/1719 [==============================] - 12s 7ms/step - loss: 0.4081 - accuracy: 0.8566 - val_loss: 0.4018 - val_accuracy: 0.8632\n",
      "Epoch 9/100\n",
      "1719/1719 [==============================] - 12s 7ms/step - loss: 0.3983 - accuracy: 0.8600 - val_loss: 0.3925 - val_accuracy: 0.8670\n",
      "Epoch 10/100\n",
      "1719/1719 [==============================] - 12s 7ms/step - loss: 0.3897 - accuracy: 0.8630 - val_loss: 0.3881 - val_accuracy: 0.8656\n",
      "Epoch 11/100\n",
      "1719/1719 [==============================] - 12s 7ms/step - loss: 0.3822 - accuracy: 0.8647 - val_loss: 0.3808 - val_accuracy: 0.8694\n",
      "Epoch 12/100\n",
      "1719/1719 [==============================] - 12s 7ms/step - loss: 0.3753 - accuracy: 0.8674 - val_loss: 0.3802 - val_accuracy: 0.8688\n",
      "Epoch 13/100\n",
      "1719/1719 [==============================] - 12s 7ms/step - loss: 0.3694 - accuracy: 0.8686 - val_loss: 0.3733 - val_accuracy: 0.8682\n",
      "Epoch 14/100\n",
      "1719/1719 [==============================] - 12s 7ms/step - loss: 0.3636 - accuracy: 0.8718 - val_loss: 0.3685 - val_accuracy: 0.8710\n",
      "Epoch 15/100\n",
      "1719/1719 [==============================] - 12s 7ms/step - loss: 0.3582 - accuracy: 0.8733 - val_loss: 0.3659 - val_accuracy: 0.8730\n",
      "Epoch 16/100\n",
      "1719/1719 [==============================] - 12s 7ms/step - loss: 0.3534 - accuracy: 0.8752 - val_loss: 0.3620 - val_accuracy: 0.8732\n",
      "Epoch 17/100\n",
      "1719/1719 [==============================] - 12s 7ms/step - loss: 0.3488 - accuracy: 0.8766 - val_loss: 0.3600 - val_accuracy: 0.8718\n",
      "Epoch 18/100\n",
      "1719/1719 [==============================] - 12s 7ms/step - loss: 0.3443 - accuracy: 0.8782 - val_loss: 0.3562 - val_accuracy: 0.8716\n",
      "Epoch 19/100\n",
      "1719/1719 [==============================] - 12s 7ms/step - loss: 0.3405 - accuracy: 0.8797 - val_loss: 0.3538 - val_accuracy: 0.8744\n",
      "Epoch 20/100\n",
      "1719/1719 [==============================] - 12s 7ms/step - loss: 0.3367 - accuracy: 0.8806 - val_loss: 0.3511 - val_accuracy: 0.8744\n",
      "Epoch 21/100\n",
      "1719/1719 [==============================] - 12s 7ms/step - loss: 0.3329 - accuracy: 0.8813 - val_loss: 0.3475 - val_accuracy: 0.8768\n",
      "Epoch 22/100\n",
      "1719/1719 [==============================] - 11s 6ms/step - loss: 0.3294 - accuracy: 0.8831 - val_loss: 0.3467 - val_accuracy: 0.8780\n",
      "Epoch 23/100\n",
      "1719/1719 [==============================] - 11s 6ms/step - loss: 0.3261 - accuracy: 0.8840 - val_loss: 0.3445 - val_accuracy: 0.8748\n",
      "Epoch 24/100\n",
      "1719/1719 [==============================] - 12s 7ms/step - loss: 0.3230 - accuracy: 0.8853 - val_loss: 0.3441 - val_accuracy: 0.8780\n",
      "Epoch 25/100\n",
      "1719/1719 [==============================] - 12s 7ms/step - loss: 0.3199 - accuracy: 0.8860 - val_loss: 0.3431 - val_accuracy: 0.8782\n",
      "Epoch 26/100\n",
      "1719/1719 [==============================] - 12s 7ms/step - loss: 0.3170 - accuracy: 0.8876 - val_loss: 0.3386 - val_accuracy: 0.8776\n",
      "Epoch 27/100\n",
      "1719/1719 [==============================] - 12s 7ms/step - loss: 0.3141 - accuracy: 0.8883 - val_loss: 0.3360 - val_accuracy: 0.8794\n",
      "Epoch 28/100\n",
      "1719/1719 [==============================] - 12s 7ms/step - loss: 0.3115 - accuracy: 0.8897 - val_loss: 0.3357 - val_accuracy: 0.8782\n"
     ]
    }
   ],
   "source": [
    "model = keras.models.Sequential([\n",
    "    keras.layers.Flatten(input_shape=[28, 28]),\n",
    "    keras.layers.Dense(300, activation='relu'),\n",
    "    keras.layers.Dense(100, activation='relu'),\n",
    "    keras.layers.Dense(10, activation='softmax')\n",
    "])\n",
    "\n",
    "model.compile(loss=\"sparse_categorical_crossentropy\",\n",
    "              optimizer=keras.optimizers.SGD(0.001),\n",
    "              metrics=[\"accuracy\"])\n",
    "\n",
    "# Tensorboard, earlystopping, ModelCheckpoint\n",
    "logdir = './callbacks'\n",
    "if not os.path.exists(logdir):\n",
    "    os.mkdir(logdir)\n",
    "\n",
    "#模型保存路径\n",
    "output_model_file = os.path.join(logdir,\n",
    "                                 \"fashion_mnist_model.h5\")\n",
    "\n",
    "callbacks = [\n",
    "    keras.callbacks.TensorBoard(logdir),#画图使用\n",
    "    keras.callbacks.ModelCheckpoint(output_model_file,#保存模型的最佳参数\n",
    "                                    save_best_only = True),\n",
    "    #大家可以继续调小min_delta，默认监控的指标是验证集的monitor='val_loss'\n",
    "    keras.callbacks.EarlyStopping(patience=5, min_delta=1e-2),\n",
    "]\n",
    "#没有触发EarlyStopping的话，把epochs改大一些\n",
    "history = model.fit(x_train_std, y_train, epochs=100,\n",
    "                    validation_data=(x_valid_std, y_valid),\n",
    "                    callbacks = callbacks)"
   ],
   "metadata": {
    "collapsed": false,
    "ExecuteTime": {
     "start_time": "2023-07-19T10:11:08.193117Z",
     "end_time": "2023-07-19T10:16:43.356194Z"
    }
   }
  },
  {
   "cell_type": "code",
   "execution_count": 5,
   "outputs": [
    {
     "data": {
      "text/plain": "<Figure size 800x500 with 1 Axes>",
      "image/png": "[encoded data removed]"
     },
     "metadata": {},
     "output_type": "display_data"
    }
   ],
   "source": [
    "def plot_learning_curves(history):\n",
    "    pd.DataFrame(history.history).plot(figsize=(8, 5))\n",
    "    plt.grid(True)\n",
    "    plt.gca().set_ylim(0, 1)\n",
    "    plt.show()\n",
    "\n",
    "\n",
    "plot_learning_curves(history)"
   ],
   "metadata": {
    "collapsed": false,
    "ExecuteTime": {
     "start_time": "2023-07-19T10:16:43.362851Z",
     "end_time": "2023-07-19T10:16:43.693906Z"
    }
   }
  },
  {
   "cell_type": "code",
   "execution_count": 6,
   "outputs": [
    {
     "data": {
      "text/plain": "[0.3738242983818054, 0.8661999702453613]"
     },
     "execution_count": 6,
     "metadata": {},
     "output_type": "execute_result"
    }
   ],
   "source": [
    "model.evaluate(x_test_std, y_test, verbose=0)"
   ],
   "metadata": {
    "collapsed": false,
    "ExecuteTime": {
     "start_time": "2023-07-19T10:16:43.698003Z",
     "end_time": "2023-07-19T10:16:45.001824Z"
    }
   }
  }
 ],
 "metadata": {
  "kernelspec": {
   "display_name": "Python 3",
   "language": "python",
   "name": "python3"
  },
  "language_info": {
   "codemirror_mode": {
    "name": "ipython",
    "version": 2
   },
   "file_extension": ".py",
   "mimetype": "text/x-python",
   "name": "python",
   "nbconvert_exporter": "python",
   "pygments_lexer": "ipython2",
   "version": "2.7.6"
  }
 },
 "nbformat": 4,
 "nbformat_minor": 0
}
