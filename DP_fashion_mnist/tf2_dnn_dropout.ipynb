{
 "cells": [
  {
   "cell_type": "code",
   "execution_count": 1,
   "metadata": {
    "collapsed": true,
    "ExecuteTime": {
     "start_time": "2023-07-19T15:22:02.087852Z",
     "end_time": "2023-07-19T15:22:08.657171Z"
    }
   },
   "outputs": [
    {
     "name": "stderr",
     "output_type": "stream",
     "text": [
      "2023-07-19 15:22:04.438444: I tensorflow/tsl/cuda/cudart_stub.cc:28] Could not find cuda drivers on your machine, GPU will not be used.\n",
      "2023-07-19 15:22:04.785134: I tensorflow/tsl/cuda/cudart_stub.cc:28] Could not find cuda drivers on your machine, GPU will not be used.\n",
      "2023-07-19 15:22:04.792837: I tensorflow/core/platform/cpu_feature_guard.cc:182] This TensorFlow binary is optimized to use available CPU instructions in performance-critical operations.\n",
      "To enable the following instructions: AVX2 FMA, in other operations, rebuild TensorFlow with the appropriate compiler flags.\n",
      "2023-07-19 15:22:06.835429: W tensorflow/compiler/tf2tensorrt/utils/py_utils.cc:38] TF-TRT Warning: Could not find TensorRT\n"
     ]
    }
   ],
   "source": [
    "import matplotlib as mpl\n",
    "import matplotlib.pyplot as plt\n",
    "%matplotlib inline\n",
    "import numpy as np\n",
    "import sklearn\n",
    "import pandas as pd\n",
    "import os\n",
    "import sys\n",
    "import time\n",
    "import tensorflow as tf\n",
    "\n",
    "from tensorflow import keras"
   ]
  },
  {
   "cell_type": "code",
   "execution_count": 2,
   "outputs": [],
   "source": [
    "fashion_mnist = keras.datasets.fashion_mnist\n",
    "(x_train_all, y_train_all), (x_test, y_test) = fashion_mnist.load_data()\n",
    "x_valid, x_train = x_train_all[:5000], x_train_all[5000:]\n",
    "y_valid, y_train = y_train_all[:5000], y_train_all[5000:]"
   ],
   "metadata": {
    "collapsed": false,
    "ExecuteTime": {
     "start_time": "2023-07-19T15:22:08.660195Z",
     "end_time": "2023-07-19T15:22:10.314858Z"
    }
   }
  },
  {
   "cell_type": "code",
   "execution_count": 3,
   "outputs": [],
   "source": [
    "# x = (x - u) / std\n",
    "\n",
    "from sklearn.preprocessing import StandardScaler\n",
    "\n",
    "scaler = StandardScaler()\n",
    "# x_train: [None, 28, 28] -> [None, 784]\n",
    "x_train_scaled = scaler.fit_transform(\n",
    "    x_train.astype(np.float32).reshape(-1, 1)).reshape(-1, 28, 28)\n",
    "x_valid_scaled = scaler.transform(\n",
    "    x_valid.astype(np.float32).reshape(-1, 1)).reshape(-1, 28, 28)\n",
    "x_test_scaled = scaler.transform(\n",
    "    x_test.astype(np.float32).reshape(-1, 1)).reshape(-1, 28, 28)"
   ],
   "metadata": {
    "collapsed": false,
    "ExecuteTime": {
     "start_time": "2023-07-19T15:22:10.319455Z",
     "end_time": "2023-07-19T15:22:16.188085Z"
    }
   }
  },
  {
   "cell_type": "code",
   "execution_count": 4,
   "outputs": [],
   "source": [
    "# tf.keras.models.Sequential()\n",
    "\n",
    "model = keras.models.Sequential()\n",
    "model.add(keras.layers.Flatten(input_shape=[28, 28]))\n",
    "for _ in range(20):\n",
    "    model.add(keras.layers.Dense(100, activation=\"selu\"))\n",
    "#结果层\n",
    "model.add(keras.layers.AlphaDropout(rate=0.2))\n",
    "# AlphaDropout相对于普通Dropout优势: 1. 均值和方差不变 2. 归一化性质也不变\n",
    "# model.add(keras.layers.Dropout(rate=0.5))\n",
    "model.add(keras.layers.Dense(10, activation=\"softmax\"))\n",
    "\n",
    "model.compile(loss=\"sparse_categorical_crossentropy\",\n",
    "              optimizer=keras.optimizers.SGD(0.001),\n",
    "              metrics=[\"accuracy\"])"
   ],
   "metadata": {
    "collapsed": false,
    "ExecuteTime": {
     "start_time": "2023-07-19T15:22:16.189986Z",
     "end_time": "2023-07-19T15:22:16.679681Z"
    }
   }
  },
  {
   "cell_type": "code",
   "execution_count": 5,
   "outputs": [
    {
     "name": "stdout",
     "output_type": "stream",
     "text": [
      "[[ 1.  2.]\n",
      " [ 3.  4.]\n",
      " [ 5.  6.]\n",
      " [ 7.  8.]\n",
      " [ 9. 10.]\n",
      " [11. 12.]]\n"
     ]
    }
   ],
   "source": [
    "tf.random.set_seed(0)\n",
    "# layer = tf.keras.layers.Dropout(.5, input_shape=(2,))\n",
    "layer = tf.keras.layers.AlphaDropout(0.2, input_shape=(2,))  #改为0.2和0.1来查看效果\n",
    "data = np.arange(1,13).reshape(6, 2).astype(np.float32)\n",
    "print(data)"
   ],
   "metadata": {
    "collapsed": false,
    "ExecuteTime": {
     "start_time": "2023-07-19T15:22:16.690593Z",
     "end_time": "2023-07-19T15:22:16.696752Z"
    }
   }
  },
  {
   "cell_type": "code",
   "execution_count": 6,
   "outputs": [
    {
     "data": {
      "text/plain": "23"
     },
     "execution_count": 6,
     "metadata": {},
     "output_type": "execute_result"
    }
   ],
   "source": [
    "len(model.layers)"
   ],
   "metadata": {
    "collapsed": false,
    "ExecuteTime": {
     "start_time": "2023-07-19T15:22:16.699784Z",
     "end_time": "2023-07-19T15:22:16.710430Z"
    }
   }
  },
  {
   "cell_type": "code",
   "execution_count": 7,
   "outputs": [
    {
     "name": "stdout",
     "output_type": "stream",
     "text": [
      "Epoch 1/100\n",
      "1719/1719 [==============================] - 15s 8ms/step - loss: 0.9227 - accuracy: 0.6833 - val_loss: 0.5672 - val_accuracy: 0.8154\n",
      "Epoch 2/100\n",
      "  16/1719 [..............................] - ETA: 11s - loss: 0.6566 - accuracy: 0.7773"
     ]
    },
    {
     "name": "stderr",
     "output_type": "stream",
     "text": [
      "/home/jiangpeng/.virtualenvs/tf2/lib/python3.10/site-packages/keras/src/engine/training.py:3000: UserWarning: You are saving your model as an HDF5 file via `model.save()`. This file format is considered legacy. We recommend using instead the native Keras format, e.g. `model.save('my_model.keras')`.\n",
      "  saving_api.save_model(\n"
     ]
    },
    {
     "name": "stdout",
     "output_type": "stream",
     "text": [
      "1719/1719 [==============================] - 13s 8ms/step - loss: 0.5804 - accuracy: 0.8004 - val_loss: 0.5196 - val_accuracy: 0.8364\n",
      "Epoch 3/100\n",
      "1719/1719 [==============================] - 13s 8ms/step - loss: 0.5035 - accuracy: 0.8264 - val_loss: 0.5016 - val_accuracy: 0.8464\n",
      "Epoch 4/100\n",
      "1719/1719 [==============================] - 13s 7ms/step - loss: 0.4577 - accuracy: 0.8409 - val_loss: 0.4820 - val_accuracy: 0.8486\n",
      "Epoch 5/100\n",
      "1719/1719 [==============================] - 13s 7ms/step - loss: 0.4276 - accuracy: 0.8504 - val_loss: 0.4489 - val_accuracy: 0.8612\n",
      "Epoch 6/100\n",
      "1719/1719 [==============================] - 13s 8ms/step - loss: 0.4043 - accuracy: 0.8570 - val_loss: 0.4230 - val_accuracy: 0.8636\n",
      "Epoch 7/100\n",
      "1719/1719 [==============================] - 13s 8ms/step - loss: 0.3875 - accuracy: 0.8629 - val_loss: 0.4152 - val_accuracy: 0.8668\n",
      "Epoch 8/100\n",
      "1719/1719 [==============================] - 13s 7ms/step - loss: 0.3720 - accuracy: 0.8683 - val_loss: 0.4294 - val_accuracy: 0.8654\n",
      "Epoch 9/100\n",
      "1719/1719 [==============================] - 13s 7ms/step - loss: 0.3599 - accuracy: 0.8723 - val_loss: 0.4292 - val_accuracy: 0.8682\n",
      "Epoch 10/100\n",
      "1719/1719 [==============================] - 13s 8ms/step - loss: 0.3475 - accuracy: 0.8775 - val_loss: 0.4043 - val_accuracy: 0.8694\n",
      "Epoch 11/100\n",
      "1719/1719 [==============================] - 13s 8ms/step - loss: 0.3390 - accuracy: 0.8793 - val_loss: 0.4043 - val_accuracy: 0.8710\n",
      "Epoch 12/100\n",
      "1719/1719 [==============================] - 13s 7ms/step - loss: 0.3282 - accuracy: 0.8833 - val_loss: 0.4133 - val_accuracy: 0.8714\n",
      "Epoch 13/100\n",
      "1719/1719 [==============================] - 13s 7ms/step - loss: 0.3217 - accuracy: 0.8851 - val_loss: 0.4148 - val_accuracy: 0.8706\n",
      "Epoch 14/100\n",
      "1719/1719 [==============================] - 13s 7ms/step - loss: 0.3118 - accuracy: 0.8884 - val_loss: 0.4087 - val_accuracy: 0.8734\n",
      "Epoch 15/100\n",
      "1719/1719 [==============================] - 13s 7ms/step - loss: 0.3062 - accuracy: 0.8906 - val_loss: 0.3959 - val_accuracy: 0.8754\n",
      "Epoch 16/100\n",
      "1719/1719 [==============================] - 13s 7ms/step - loss: 0.2990 - accuracy: 0.8935 - val_loss: 0.4176 - val_accuracy: 0.8678\n",
      "Epoch 17/100\n",
      "1719/1719 [==============================] - 13s 7ms/step - loss: 0.2935 - accuracy: 0.8940 - val_loss: 0.4099 - val_accuracy: 0.8732\n",
      "Epoch 18/100\n",
      "1719/1719 [==============================] - 12s 7ms/step - loss: 0.2858 - accuracy: 0.8976 - val_loss: 0.4270 - val_accuracy: 0.8752\n",
      "Epoch 19/100\n",
      "1719/1719 [==============================] - 13s 7ms/step - loss: 0.2802 - accuracy: 0.9014 - val_loss: 0.4000 - val_accuracy: 0.8804\n",
      "Epoch 20/100\n",
      "1719/1719 [==============================] - 13s 7ms/step - loss: 0.2750 - accuracy: 0.9015 - val_loss: 0.4086 - val_accuracy: 0.8752\n"
     ]
    }
   ],
   "source": [
    "# Tensorboard, earlystopping, ModelCheckpoint\n",
    "logdir = './dnn-selu-dropout-callbacks'\n",
    "if not os.path.exists(logdir):\n",
    "    os.mkdir(logdir)\n",
    "output_model_file = os.path.join(logdir,\n",
    "                                 \"fashion_mnist_model.h5\")\n",
    "\n",
    "callbacks = [\n",
    "    keras.callbacks.TensorBoard(logdir),\n",
    "    keras.callbacks.ModelCheckpoint(output_model_file,\n",
    "                                    save_best_only=True),\n",
    "    keras.callbacks.EarlyStopping(patience=5, min_delta=1e-3),\n",
    "]\n",
    "history = model.fit(x_train_scaled, y_train, epochs=100,\n",
    "                    validation_data=(x_valid_scaled, y_valid),\n",
    "                    callbacks=callbacks)"
   ],
   "metadata": {
    "collapsed": false,
    "ExecuteTime": {
     "start_time": "2023-07-19T15:22:16.714420Z",
     "end_time": "2023-07-19T15:26:35.070418Z"
    }
   }
  },
  {
   "cell_type": "code",
   "execution_count": 8,
   "outputs": [
    {
     "data": {
      "text/plain": "{'loss': [0.9227370619773865,\n  0.5803525447845459,\n  0.5034892559051514,\n  0.45766642689704895,\n  0.427581787109375,\n  0.4042811095714569,\n  0.3874823749065399,\n  0.372010737657547,\n  0.35994207859039307,\n  0.34746184945106506,\n  0.3390052318572998,\n  0.32822009921073914,\n  0.3216590881347656,\n  0.31182006001472473,\n  0.3061710596084595,\n  0.2989684045314789,\n  0.29353421926498413,\n  0.2857654392719269,\n  0.2801976501941681,\n  0.27499228715896606],\n 'accuracy': [0.6833090782165527,\n  0.8004363775253296,\n  0.8263636231422424,\n  0.8409090638160706,\n  0.8503817915916443,\n  0.8570363521575928,\n  0.862927258014679,\n  0.868327260017395,\n  0.8723090887069702,\n  0.8774726986885071,\n  0.8792909383773804,\n  0.8832727074623108,\n  0.8851272463798523,\n  0.8883636593818665,\n  0.8906000256538391,\n  0.8935454487800598,\n  0.8939818143844604,\n  0.8976181745529175,\n  0.9013636112213135,\n  0.9014909267425537],\n 'val_loss': [0.567177951335907,\n  0.5196228623390198,\n  0.5016447305679321,\n  0.4820144474506378,\n  0.44891831278800964,\n  0.4229864776134491,\n  0.41519197821617126,\n  0.4293643534183502,\n  0.429180383682251,\n  0.40431272983551025,\n  0.4042874872684479,\n  0.4132758378982544,\n  0.4148167073726654,\n  0.4087146520614624,\n  0.3958651125431061,\n  0.4176037013530731,\n  0.40994828939437866,\n  0.42704537510871887,\n  0.3999622166156769,\n  0.4085836708545685],\n 'val_accuracy': [0.8154000043869019,\n  0.8363999724388123,\n  0.8464000225067139,\n  0.8485999703407288,\n  0.8611999750137329,\n  0.8636000156402588,\n  0.8668000102043152,\n  0.8654000163078308,\n  0.8682000041007996,\n  0.8694000244140625,\n  0.8709999918937683,\n  0.871399998664856,\n  0.8705999851226807,\n  0.8733999729156494,\n  0.8754000067710876,\n  0.8677999973297119,\n  0.873199999332428,\n  0.8751999735832214,\n  0.8804000020027161,\n  0.8751999735832214]}"
     },
     "execution_count": 8,
     "metadata": {},
     "output_type": "execute_result"
    }
   ],
   "source": [
    "history.history"
   ],
   "metadata": {
    "collapsed": false,
    "ExecuteTime": {
     "start_time": "2023-07-19T15:26:35.077129Z",
     "end_time": "2023-07-19T15:26:35.083743Z"
    }
   }
  },
  {
   "cell_type": "code",
   "execution_count": 9,
   "outputs": [
    {
     "data": {
      "text/plain": "<Figure size 800x500 with 1 Axes>",
      "image/png": "[encoded data removed]"
     },
     "metadata": {},
     "output_type": "display_data"
    }
   ],
   "source": [
    "def plot_learning_curves(history):\n",
    "    pd.DataFrame(history.history).plot(figsize=(8, 5))\n",
    "    plt.grid(True)\n",
    "    plt.gca().set_ylim(0, 3)\n",
    "    plt.show()\n",
    "\n",
    "plot_learning_curves(history)\n",
    "\n",
    "#如果初期变化效果不明显\n",
    "# 1. 参数众多，训练不充分\n",
    "# 2. 梯度消失 -> 链式法则 -> 复合函数f(g(x))求导，前期参数太多"
   ],
   "metadata": {
    "collapsed": false,
    "ExecuteTime": {
     "start_time": "2023-07-19T15:26:35.090401Z",
     "end_time": "2023-07-19T15:26:35.416134Z"
    }
   }
  },
  {
   "cell_type": "code",
   "execution_count": 10,
   "outputs": [
    {
     "data": {
      "text/plain": "[0.47404536604881287, 0.8618999719619751]"
     },
     "execution_count": 10,
     "metadata": {},
     "output_type": "execute_result"
    }
   ],
   "source": [
    "model.evaluate(x_test_scaled, y_test, verbose=0)"
   ],
   "metadata": {
    "collapsed": false,
    "ExecuteTime": {
     "start_time": "2023-07-19T15:26:35.421843Z",
     "end_time": "2023-07-19T15:26:37.315139Z"
    }
   }
  }
 ],
 "metadata": {
  "kernelspec": {
   "display_name": "Python 3",
   "language": "python",
   "name": "python3"
  },
  "language_info": {
   "codemirror_mode": {
    "name": "ipython",
    "version": 2
   },
   "file_extension": ".py",
   "mimetype": "text/x-python",
   "name": "python",
   "nbconvert_exporter": "python",
   "pygments_lexer": "ipython2",
   "version": "2.7.6"
  }
 },
 "nbformat": 4,
 "nbformat_minor": 0
}
