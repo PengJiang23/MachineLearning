{
 "cells": [
  {
   "cell_type": "code",
   "execution_count": 1,
   "metadata": {
    "collapsed": true,
    "ExecuteTime": {
     "start_time": "2023-07-19T15:17:02.334234Z",
     "end_time": "2023-07-19T15:17:18.914627Z"
    }
   },
   "outputs": [
    {
     "name": "stderr",
     "output_type": "stream",
     "text": [
      "2023-07-19 15:17:04.771530: I tensorflow/tsl/cuda/cudart_stub.cc:28] Could not find cuda drivers on your machine, GPU will not be used.\n",
      "2023-07-19 15:17:05.122157: I tensorflow/tsl/cuda/cudart_stub.cc:28] Could not find cuda drivers on your machine, GPU will not be used.\n",
      "2023-07-19 15:17:05.130017: I tensorflow/core/platform/cpu_feature_guard.cc:182] This TensorFlow binary is optimized to use available CPU instructions in performance-critical operations.\n",
      "To enable the following instructions: AVX2 FMA, in other operations, rebuild TensorFlow with the appropriate compiler flags.\n",
      "2023-07-19 15:17:07.188583: W tensorflow/compiler/tf2tensorrt/utils/py_utils.cc:38] TF-TRT Warning: Could not find TensorRT\n"
     ]
    }
   ],
   "source": [
    "import matplotlib as mpl\n",
    "import matplotlib.pyplot as plt\n",
    "%matplotlib inline\n",
    "import numpy as np\n",
    "import sklearn\n",
    "import pandas as pd\n",
    "import os\n",
    "import sys\n",
    "import time\n",
    "import tensorflow as tf\n",
    "\n",
    "from tensorflow import keras"
   ]
  },
  {
   "cell_type": "code",
   "execution_count": 2,
   "outputs": [],
   "source": [
    "fashion_mnist = keras.datasets.fashion_mnist\n",
    "(x_train_all, y_train_all), (x_test, y_test) = fashion_mnist.load_data()\n",
    "x_valid, x_train = x_train_all[:5000], x_train_all[5000:]\n",
    "y_valid, y_train = y_train_all[:5000], y_train_all[5000:]"
   ],
   "metadata": {
    "collapsed": false,
    "ExecuteTime": {
     "start_time": "2023-07-19T15:17:09.031850Z",
     "end_time": "2023-07-19T15:17:18.932686Z"
    }
   }
  },
  {
   "cell_type": "code",
   "execution_count": 3,
   "outputs": [],
   "source": [
    "# x = (x - u) / std\n",
    "\n",
    "from sklearn.preprocessing import StandardScaler\n",
    "\n",
    "scaler = StandardScaler()\n",
    "# x_train: [None, 28, 28] -> [None, 784]\n",
    "x_train_scaled = scaler.fit_transform(\n",
    "    x_train.astype(np.float32).reshape(-1, 1)).reshape(-1, 28, 28)\n",
    "x_valid_scaled = scaler.transform(\n",
    "    x_valid.astype(np.float32).reshape(-1, 1)).reshape(-1, 28, 28)\n",
    "x_test_scaled = scaler.transform(\n",
    "    x_test.astype(np.float32).reshape(-1, 1)).reshape(-1, 28, 28)"
   ],
   "metadata": {
    "collapsed": false,
    "ExecuteTime": {
     "start_time": "2023-07-19T15:17:10.740114Z",
     "end_time": "2023-07-19T15:17:18.934686Z"
    }
   }
  },
  {
   "cell_type": "code",
   "execution_count": 4,
   "outputs": [],
   "source": [
    "# tf.keras.models.Sequential()\n",
    "\n",
    "model = keras.models.Sequential()\n",
    "model.add(keras.layers.Flatten(input_shape=[28, 28]))\n",
    "#这次我们做20层\n",
    "for _ in range(20):\n",
    "    model.add(keras.layers.Dense(100, activation=\"selu\"))\n",
    "#结果层\n",
    "model.add(keras.layers.Dense(10, activation=\"softmax\"))\n",
    "\n",
    "model.compile(loss=\"sparse_categorical_crossentropy\",\n",
    "              optimizer=keras.optimizers.SGD(0.001),\n",
    "              metrics=[\"accuracy\"])"
   ],
   "metadata": {
    "collapsed": false,
    "ExecuteTime": {
     "start_time": "2023-07-19T15:17:16.336952Z",
     "end_time": "2023-07-19T15:17:18.936201Z"
    }
   }
  },
  {
   "cell_type": "code",
   "execution_count": 5,
   "outputs": [
    {
     "name": "stdout",
     "output_type": "stream",
     "text": [
      "Model: \"sequential\"\n",
      "_________________________________________________________________\n",
      " Layer (type)                Output Shape              Param #   \n",
      "=================================================================\n",
      " flatten (Flatten)           (None, 784)               0         \n",
      "                                                                 \n",
      " dense (Dense)               (None, 100)               78500     \n",
      "                                                                 \n",
      " dense_1 (Dense)             (None, 100)               10100     \n",
      "                                                                 \n",
      " dense_2 (Dense)             (None, 100)               10100     \n",
      "                                                                 \n",
      " dense_3 (Dense)             (None, 100)               10100     \n",
      "                                                                 \n",
      " dense_4 (Dense)             (None, 100)               10100     \n",
      "                                                                 \n",
      " dense_5 (Dense)             (None, 100)               10100     \n",
      "                                                                 \n",
      " dense_6 (Dense)             (None, 100)               10100     \n",
      "                                                                 \n",
      " dense_7 (Dense)             (None, 100)               10100     \n",
      "                                                                 \n",
      " dense_8 (Dense)             (None, 100)               10100     \n",
      "                                                                 \n",
      " dense_9 (Dense)             (None, 100)               10100     \n",
      "                                                                 \n",
      " dense_10 (Dense)            (None, 100)               10100     \n",
      "                                                                 \n",
      " dense_11 (Dense)            (None, 100)               10100     \n",
      "                                                                 \n",
      " dense_12 (Dense)            (None, 100)               10100     \n",
      "                                                                 \n",
      " dense_13 (Dense)            (None, 100)               10100     \n",
      "                                                                 \n",
      " dense_14 (Dense)            (None, 100)               10100     \n",
      "                                                                 \n",
      " dense_15 (Dense)            (None, 100)               10100     \n",
      "                                                                 \n",
      " dense_16 (Dense)            (None, 100)               10100     \n",
      "                                                                 \n",
      " dense_17 (Dense)            (None, 100)               10100     \n",
      "                                                                 \n",
      " dense_18 (Dense)            (None, 100)               10100     \n",
      "                                                                 \n",
      " dense_19 (Dense)            (None, 100)               10100     \n",
      "                                                                 \n",
      " dense_20 (Dense)            (None, 10)                1010      \n",
      "                                                                 \n",
      "=================================================================\n",
      "Total params: 271410 (1.04 MB)\n",
      "Trainable params: 271410 (1.04 MB)\n",
      "Non-trainable params: 0 (0.00 Byte)\n",
      "_________________________________________________________________\n"
     ]
    }
   ],
   "source": [
    "model.summary()"
   ],
   "metadata": {
    "collapsed": false,
    "ExecuteTime": {
     "start_time": "2023-07-19T15:17:16.842596Z",
     "end_time": "2023-07-19T15:17:18.944220Z"
    }
   }
  },
  {
   "cell_type": "code",
   "execution_count": 6,
   "outputs": [
    {
     "data": {
      "text/plain": "[<keras.src.layers.reshaping.flatten.Flatten at 0x7f3e0a7734c0>,\n <keras.src.layers.core.dense.Dense at 0x7f3e0a7bdcc0>,\n <keras.src.layers.core.dense.Dense at 0x7f3e0a7be140>,\n <keras.src.layers.core.dense.Dense at 0x7f3e0a7beaa0>,\n <keras.src.layers.core.dense.Dense at 0x7f3e0a8f47c0>,\n <keras.src.layers.core.dense.Dense at 0x7f3e0a8bbc70>,\n <keras.src.layers.core.dense.Dense at 0x7f3e0c372500>,\n <keras.src.layers.core.dense.Dense at 0x7f3e0a7be590>,\n <keras.src.layers.core.dense.Dense at 0x7f3e0a7beb90>,\n <keras.src.layers.core.dense.Dense at 0x7f3e071e48e0>,\n <keras.src.layers.core.dense.Dense at 0x7f3e071e51e0>,\n <keras.src.layers.core.dense.Dense at 0x7f3e071e5f00>,\n <keras.src.layers.core.dense.Dense at 0x7f3e071e6ad0>,\n <keras.src.layers.core.dense.Dense at 0x7f3e071e5d80>,\n <keras.src.layers.core.dense.Dense at 0x7f3e071e7cd0>,\n <keras.src.layers.core.dense.Dense at 0x7f3e0680c8b0>,\n <keras.src.layers.core.dense.Dense at 0x7f3e0680cd00>,\n <keras.src.layers.core.dense.Dense at 0x7f3e0680d8d0>,\n <keras.src.layers.core.dense.Dense at 0x7f3e0680e4a0>,\n <keras.src.layers.core.dense.Dense at 0x7f3e0680ed10>,\n <keras.src.layers.core.dense.Dense at 0x7f3e0680f8e0>,\n <keras.src.layers.core.dense.Dense at 0x7f3e0682c5e0>]"
     },
     "execution_count": 6,
     "metadata": {},
     "output_type": "execute_result"
    }
   ],
   "source": [
    "model.layers"
   ],
   "metadata": {
    "collapsed": false,
    "ExecuteTime": {
     "start_time": "2023-07-19T15:17:16.944049Z",
     "end_time": "2023-07-19T15:17:18.944220Z"
    }
   }
  },
  {
   "cell_type": "code",
   "execution_count": 7,
   "outputs": [
    {
     "name": "stdout",
     "output_type": "stream",
     "text": [
      "Epoch 1/100\n",
      "1719/1719 [==============================] - 15s 8ms/step - loss: 0.6826 - accuracy: 0.7595 - val_loss: 0.5036 - val_accuracy: 0.8178\n",
      "Epoch 2/100\n",
      "   8/1719 [..............................] - ETA: 12s - loss: 0.5917 - accuracy: 0.7930"
     ]
    },
    {
     "name": "stderr",
     "output_type": "stream",
     "text": [
      "/home/jiangpeng/.virtualenvs/tf2/lib/python3.10/site-packages/keras/src/engine/training.py:3000: UserWarning: You are saving your model as an HDF5 file via `model.save()`. This file format is considered legacy. We recommend using instead the native Keras format, e.g. `model.save('my_model.keras')`.\n",
      "  saving_api.save_model(\n"
     ]
    },
    {
     "name": "stdout",
     "output_type": "stream",
     "text": [
      "1719/1719 [==============================] - 12s 7ms/step - loss: 0.4714 - accuracy: 0.8310 - val_loss: 0.4451 - val_accuracy: 0.8444\n",
      "Epoch 3/100\n",
      "1719/1719 [==============================] - 13s 7ms/step - loss: 0.4215 - accuracy: 0.8476 - val_loss: 0.4249 - val_accuracy: 0.8454\n",
      "Epoch 4/100\n",
      "1719/1719 [==============================] - 12s 7ms/step - loss: 0.3904 - accuracy: 0.8581 - val_loss: 0.4090 - val_accuracy: 0.8570\n",
      "Epoch 5/100\n",
      "1719/1719 [==============================] - 12s 7ms/step - loss: 0.3684 - accuracy: 0.8661 - val_loss: 0.3841 - val_accuracy: 0.8644\n",
      "Epoch 6/100\n",
      "1719/1719 [==============================] - 12s 7ms/step - loss: 0.3516 - accuracy: 0.8727 - val_loss: 0.3783 - val_accuracy: 0.8666\n",
      "Epoch 7/100\n",
      "1719/1719 [==============================] - 12s 7ms/step - loss: 0.3361 - accuracy: 0.8773 - val_loss: 0.3765 - val_accuracy: 0.8648\n",
      "Epoch 8/100\n",
      "1719/1719 [==============================] - 12s 7ms/step - loss: 0.3240 - accuracy: 0.8817 - val_loss: 0.3781 - val_accuracy: 0.8672\n",
      "Epoch 9/100\n",
      "1719/1719 [==============================] - 12s 7ms/step - loss: 0.3133 - accuracy: 0.8849 - val_loss: 0.3719 - val_accuracy: 0.8686\n",
      "Epoch 10/100\n",
      "1719/1719 [==============================] - 12s 7ms/step - loss: 0.3033 - accuracy: 0.8896 - val_loss: 0.3538 - val_accuracy: 0.8742\n",
      "Epoch 11/100\n",
      "1719/1719 [==============================] - 12s 7ms/step - loss: 0.2938 - accuracy: 0.8928 - val_loss: 0.3549 - val_accuracy: 0.8756\n",
      "Epoch 12/100\n",
      "1719/1719 [==============================] - 12s 7ms/step - loss: 0.2854 - accuracy: 0.8952 - val_loss: 0.3608 - val_accuracy: 0.8748\n",
      "Epoch 13/100\n",
      "1719/1719 [==============================] - 12s 7ms/step - loss: 0.2783 - accuracy: 0.8976 - val_loss: 0.3552 - val_accuracy: 0.8780\n",
      "Epoch 14/100\n",
      "1719/1719 [==============================] - 12s 7ms/step - loss: 0.2702 - accuracy: 0.9013 - val_loss: 0.3477 - val_accuracy: 0.8748\n",
      "Epoch 15/100\n",
      "1719/1719 [==============================] - 12s 7ms/step - loss: 0.2634 - accuracy: 0.9045 - val_loss: 0.3472 - val_accuracy: 0.8816\n",
      "Epoch 16/100\n",
      "1719/1719 [==============================] - 12s 7ms/step - loss: 0.2570 - accuracy: 0.9068 - val_loss: 0.3521 - val_accuracy: 0.8764\n",
      "Epoch 17/100\n",
      "1719/1719 [==============================] - 12s 7ms/step - loss: 0.2513 - accuracy: 0.9077 - val_loss: 0.3561 - val_accuracy: 0.8794\n",
      "Epoch 18/100\n",
      "1719/1719 [==============================] - 13s 7ms/step - loss: 0.2449 - accuracy: 0.9114 - val_loss: 0.3550 - val_accuracy: 0.8784\n",
      "Epoch 19/100\n",
      "1719/1719 [==============================] - 12s 7ms/step - loss: 0.2395 - accuracy: 0.9126 - val_loss: 0.3578 - val_accuracy: 0.8768\n"
     ]
    }
   ],
   "source": [
    "# Tensorboard, earlystopping, ModelCheckpoint\n",
    "logdir = './dnn-selu'\n",
    "if not os.path.exists(logdir):\n",
    "    os.mkdir(logdir)\n",
    "output_model_file = os.path.join(logdir,\n",
    "                                 \"fashion_mnist_model.h5\")\n",
    "\n",
    "callbacks = [\n",
    "    keras.callbacks.TensorBoard(logdir),\n",
    "    keras.callbacks.ModelCheckpoint(output_model_file,\n",
    "                                    save_best_only=True),\n",
    "    keras.callbacks.EarlyStopping(patience=5, min_delta=1e-3),\n",
    "]\n",
    "history = model.fit(x_train_scaled, y_train, epochs=100,\n",
    "                    validation_data=(x_valid_scaled, y_valid),\n",
    "                    callbacks=callbacks)"
   ],
   "metadata": {
    "collapsed": false,
    "ExecuteTime": {
     "start_time": "2023-07-19T15:17:16.944967Z",
     "end_time": "2023-07-19T15:21:15.841649Z"
    }
   }
  },
  {
   "cell_type": "code",
   "execution_count": 8,
   "outputs": [
    {
     "data": {
      "text/plain": "{'loss': [0.6826015710830688,\n  0.47135117650032043,\n  0.4214681386947632,\n  0.3904416859149933,\n  0.36839738488197327,\n  0.35162457823753357,\n  0.33613282442092896,\n  0.32398703694343567,\n  0.31334054470062256,\n  0.30332744121551514,\n  0.2937752604484558,\n  0.2853720486164093,\n  0.2783302068710327,\n  0.270232230424881,\n  0.26342445611953735,\n  0.2570083737373352,\n  0.25132596492767334,\n  0.2449241429567337,\n  0.23951858282089233],\n 'accuracy': [0.7594909071922302,\n  0.8309999704360962,\n  0.847563624382019,\n  0.8581091165542603,\n  0.8660908937454224,\n  0.8726727366447449,\n  0.8773454427719116,\n  0.8817272782325745,\n  0.8849090933799744,\n  0.8896363377571106,\n  0.892799973487854,\n  0.8952181935310364,\n  0.897599995136261,\n  0.901309072971344,\n  0.9044908881187439,\n  0.9067636132240295,\n  0.9076545238494873,\n  0.9114000201225281,\n  0.9125636219978333],\n 'val_loss': [0.5035998821258545,\n  0.44512325525283813,\n  0.4248887598514557,\n  0.409006804227829,\n  0.3840837776660919,\n  0.3783450424671173,\n  0.3764802813529968,\n  0.3780757486820221,\n  0.37186452746391296,\n  0.35377803444862366,\n  0.3548978269100189,\n  0.3607657551765442,\n  0.3551686406135559,\n  0.347684770822525,\n  0.3471639156341553,\n  0.3521180748939514,\n  0.35607248544692993,\n  0.3550267219543457,\n  0.3578174412250519],\n 'val_accuracy': [0.817799985408783,\n  0.8443999886512756,\n  0.8453999757766724,\n  0.8569999933242798,\n  0.8644000291824341,\n  0.866599977016449,\n  0.864799976348877,\n  0.8672000169754028,\n  0.8686000108718872,\n  0.8741999864578247,\n  0.8755999803543091,\n  0.8748000264167786,\n  0.878000020980835,\n  0.8748000264167786,\n  0.881600022315979,\n  0.8763999938964844,\n  0.8794000148773193,\n  0.8784000277519226,\n  0.876800000667572]}"
     },
     "execution_count": 8,
     "metadata": {},
     "output_type": "execute_result"
    }
   ],
   "source": [
    "history.history"
   ],
   "metadata": {
    "collapsed": false,
    "ExecuteTime": {
     "start_time": "2023-07-19T15:21:15.847167Z",
     "end_time": "2023-07-19T15:21:15.860613Z"
    }
   }
  },
  {
   "cell_type": "code",
   "execution_count": 12,
   "outputs": [
    {
     "data": {
      "text/plain": "<Figure size 800x500 with 1 Axes>",
      "image/png": "[encoded data removed]"
     },
     "metadata": {},
     "output_type": "display_data"
    }
   ],
   "source": [
    "def plot_learning_curves(history):\n",
    "    pd.DataFrame(history.history).plot(figsize=(8, 5))\n",
    "    plt.grid(True)\n",
    "    plt.gca().set_ylim(0, 1)\n",
    "    plt.show()\n",
    "\n",
    "plot_learning_curves(history)\n",
    "# 1. 参数众多，训练不充分\n",
    "# 2. 梯度消失 -> 链式法则 -> 复合函数f(g(x))\n",
    "#    selu缓解梯度消失"
   ],
   "metadata": {
    "collapsed": false,
    "ExecuteTime": {
     "start_time": "2023-07-19T15:28:43.129470Z",
     "end_time": "2023-07-19T15:28:43.403843Z"
    }
   }
  },
  {
   "cell_type": "code",
   "execution_count": 10,
   "outputs": [
    {
     "data": {
      "text/plain": "[0.3906880021095276, 0.8651999831199646]"
     },
     "execution_count": 10,
     "metadata": {},
     "output_type": "execute_result"
    }
   ],
   "source": [
    "model.evaluate(x_test_scaled, y_test, verbose=0)"
   ],
   "metadata": {
    "collapsed": false,
    "ExecuteTime": {
     "start_time": "2023-07-19T15:21:16.167047Z",
     "end_time": "2023-07-19T15:21:17.532566Z"
    }
   }
  }
 ],
 "metadata": {
  "kernelspec": {
   "display_name": "Python 3",
   "language": "python",
   "name": "python3"
  },
  "language_info": {
   "codemirror_mode": {
    "name": "ipython",
    "version": 2
   },
   "file_extension": ".py",
   "mimetype": "text/x-python",
   "name": "python",
   "nbconvert_exporter": "python",
   "pygments_lexer": "ipython2",
   "version": "2.7.6"
  }
 },
 "nbformat": 4,
 "nbformat_minor": 0
}
