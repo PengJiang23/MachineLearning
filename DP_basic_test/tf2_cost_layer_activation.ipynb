{
 "cells": [
  {
   "cell_type": "markdown",
   "source": [
    "# tensorflow\n",
    "## 自定义cost function\n",
    "## 自定义layer\n",
    "## 自定义activation function"
   ],
   "metadata": {
    "collapsed": false
   }
  },
  {
   "cell_type": "code",
   "execution_count": 1,
   "outputs": [],
   "source": [
    "import matplotlib as mpl\n",
    "import matplotlib.pyplot as plt\n",
    "import numpy as np\n",
    "import sklearn\n",
    "import pandas as pd\n",
    "import os\n",
    "import sys\n",
    "import time\n",
    "import tensorflow as tf\n",
    "\n",
    "from tensorflow import keras"
   ],
   "metadata": {
    "collapsed": false,
    "ExecuteTime": {
     "start_time": "2023-07-25T13:14:52.412099Z",
     "end_time": "2023-07-25T13:14:54.647098Z"
    }
   }
  },
  {
   "cell_type": "code",
   "execution_count": 9,
   "outputs": [],
   "source": [
    "from sklearn.datasets import fetch_california_housing\n",
    "\n",
    "# 下载本地文件，修改fetch_california_housing 内部配置\n",
    "housing = fetch_california_housing()"
   ],
   "metadata": {
    "collapsed": false,
    "ExecuteTime": {
     "start_time": "2023-07-25T13:16:47.907319Z",
     "end_time": "2023-07-25T13:16:47.922066Z"
    }
   }
  },
  {
   "cell_type": "code",
   "execution_count": 15,
   "outputs": [],
   "source": [
    "from sklearn.model_selection import train_test_split\n",
    "\n",
    "x_train_all, x_test, y_train_all, y_test = train_test_split(housing.data, housing.target, random_state=7)\n",
    "\n",
    "x_train, x_valid, y_train, y_valid = train_test_split(x_train_all, y_train_all, random_state=11)"
   ],
   "metadata": {
    "collapsed": false,
    "ExecuteTime": {
     "start_time": "2023-07-25T13:17:42.378979Z",
     "end_time": "2023-07-25T13:17:42.395317Z"
    }
   }
  },
  {
   "cell_type": "code",
   "execution_count": 16,
   "outputs": [],
   "source": [
    "from sklearn.preprocessing import StandardScaler\n",
    "\n",
    "# 标准化\n",
    "scaler = StandardScaler()\n",
    "x_train_scaler = scaler.fit_transform(x_train)\n",
    "x_valid_scaler = scaler.transform(x_valid)\n",
    "x_test_scaler = scaler.transform(x_test)"
   ],
   "metadata": {
    "collapsed": false,
    "ExecuteTime": {
     "start_time": "2023-07-25T13:17:51.444461Z",
     "end_time": "2023-07-25T13:17:51.465909Z"
    }
   }
  },
  {
   "cell_type": "code",
   "execution_count": 59,
   "outputs": [
    {
     "name": "stdout",
     "output_type": "stream",
     "text": [
      "Model: \"sequential_14\"\n",
      "_________________________________________________________________\n",
      " Layer (type)                Output Shape              Param #   \n",
      "=================================================================\n",
      " dense_28 (Dense)            (None, 30)                270       \n",
      "                                                                 \n",
      " dense_29 (Dense)            (None, 1)                 31        \n",
      "                                                                 \n",
      "=================================================================\n",
      "Total params: 301\n",
      "Trainable params: 301\n",
      "Non-trainable params: 0\n",
      "_________________________________________________________________\n"
     ]
    }
   ],
   "source": [
    "# 自定义cost function\n",
    "def customized_mse(y_true, y_pred):\n",
    "    return tf.reduce_mean(tf.square(y_pred - y_true))\n",
    "\n",
    "# input_shape hiddenlayer-1th 指定输入shape\n",
    "model = keras.models.Sequential(\n",
    "    [keras.layers.Dense(30, activation='relu', input_shape=x_train.shape[1:]), keras.layers.Dense(1), ])\n",
    "model.summary()  # 相关参数、信息展示\n",
    "# 优化器adam 自动更新learning rate\n",
    "model.compile(loss=customized_mse, optimizer=\"sgd\", metrics=[\"mean_squared_error\"])\n",
    "callbacks = [keras.callbacks.EarlyStopping(patience=5, min_delta=1e-4)]"
   ],
   "metadata": {
    "collapsed": false,
    "ExecuteTime": {
     "start_time": "2023-07-25T13:48:37.219372Z",
     "end_time": "2023-07-25T13:48:37.269527Z"
    }
   }
  },
  {
   "cell_type": "code",
   "execution_count": 60,
   "outputs": [
    {
     "name": "stdout",
     "output_type": "stream",
     "text": [
      "Epoch 1/100\n",
      "363/363 [==============================] - 2s 4ms/step - loss: 1.0707 - mean_squared_error: 1.0707 - val_loss: 0.5260 - val_mean_squared_error: 0.5260\n",
      "Epoch 2/100\n",
      "363/363 [==============================] - 1s 3ms/step - loss: 0.4456 - mean_squared_error: 0.4456 - val_loss: 0.4518 - val_mean_squared_error: 0.4518\n",
      "Epoch 3/100\n",
      "363/363 [==============================] - 1s 3ms/step - loss: 0.4145 - mean_squared_error: 0.4145 - val_loss: 0.4309 - val_mean_squared_error: 0.4309\n",
      "Epoch 4/100\n",
      "363/363 [==============================] - 1s 3ms/step - loss: 0.3963 - mean_squared_error: 0.3963 - val_loss: 0.4115 - val_mean_squared_error: 0.4115\n",
      "Epoch 5/100\n",
      "363/363 [==============================] - 1s 3ms/step - loss: 0.3864 - mean_squared_error: 0.3864 - val_loss: 0.4050 - val_mean_squared_error: 0.4050\n",
      "Epoch 6/100\n",
      "363/363 [==============================] - 1s 3ms/step - loss: 0.3847 - mean_squared_error: 0.3847 - val_loss: 0.3964 - val_mean_squared_error: 0.3964\n",
      "Epoch 7/100\n",
      "363/363 [==============================] - 1s 3ms/step - loss: 0.3764 - mean_squared_error: 0.3764 - val_loss: 0.3913 - val_mean_squared_error: 0.3913\n",
      "Epoch 8/100\n",
      "363/363 [==============================] - 1s 3ms/step - loss: 0.3736 - mean_squared_error: 0.3736 - val_loss: 0.3857 - val_mean_squared_error: 0.3857\n",
      "Epoch 9/100\n",
      "363/363 [==============================] - 1s 3ms/step - loss: 0.3677 - mean_squared_error: 0.3677 - val_loss: 0.3824 - val_mean_squared_error: 0.3824\n",
      "Epoch 10/100\n",
      "363/363 [==============================] - 1s 3ms/step - loss: 0.3653 - mean_squared_error: 0.3653 - val_loss: 0.3759 - val_mean_squared_error: 0.3759\n",
      "Epoch 11/100\n",
      "363/363 [==============================] - 1s 3ms/step - loss: 0.3632 - mean_squared_error: 0.3632 - val_loss: 0.3759 - val_mean_squared_error: 0.3759\n",
      "Epoch 12/100\n",
      "363/363 [==============================] - 1s 3ms/step - loss: 0.3620 - mean_squared_error: 0.3620 - val_loss: 0.3769 - val_mean_squared_error: 0.3769\n",
      "Epoch 13/100\n",
      "363/363 [==============================] - 1s 3ms/step - loss: 0.3585 - mean_squared_error: 0.3585 - val_loss: 0.3693 - val_mean_squared_error: 0.3693\n",
      "Epoch 14/100\n",
      "363/363 [==============================] - 1s 3ms/step - loss: 0.3655 - mean_squared_error: 0.3655 - val_loss: 0.3673 - val_mean_squared_error: 0.3673\n",
      "Epoch 15/100\n",
      "363/363 [==============================] - 1s 3ms/step - loss: 0.3591 - mean_squared_error: 0.3591 - val_loss: 0.3728 - val_mean_squared_error: 0.3728\n",
      "Epoch 16/100\n",
      "363/363 [==============================] - 1s 3ms/step - loss: 0.3519 - mean_squared_error: 0.3519 - val_loss: 0.3637 - val_mean_squared_error: 0.3637\n",
      "Epoch 17/100\n",
      "363/363 [==============================] - 1s 3ms/step - loss: 0.3557 - mean_squared_error: 0.3557 - val_loss: 0.3834 - val_mean_squared_error: 0.3834\n",
      "Epoch 18/100\n",
      "363/363 [==============================] - 1s 3ms/step - loss: 0.3524 - mean_squared_error: 0.3524 - val_loss: 0.3612 - val_mean_squared_error: 0.3612\n",
      "Epoch 19/100\n",
      "363/363 [==============================] - 1s 3ms/step - loss: 0.3488 - mean_squared_error: 0.3488 - val_loss: 0.3580 - val_mean_squared_error: 0.3580\n",
      "Epoch 20/100\n",
      "363/363 [==============================] - 1s 3ms/step - loss: 0.3461 - mean_squared_error: 0.3461 - val_loss: 0.3613 - val_mean_squared_error: 0.3613\n",
      "Epoch 21/100\n",
      "363/363 [==============================] - 1s 3ms/step - loss: 0.3458 - mean_squared_error: 0.3458 - val_loss: 0.3559 - val_mean_squared_error: 0.3559\n",
      "Epoch 22/100\n",
      "363/363 [==============================] - 1s 3ms/step - loss: 0.3510 - mean_squared_error: 0.3510 - val_loss: 0.3619 - val_mean_squared_error: 0.3619\n",
      "Epoch 23/100\n",
      "363/363 [==============================] - 1s 3ms/step - loss: 0.3483 - mean_squared_error: 0.3483 - val_loss: 0.3559 - val_mean_squared_error: 0.3559\n",
      "Epoch 24/100\n",
      "363/363 [==============================] - 1s 3ms/step - loss: 0.3504 - mean_squared_error: 0.3504 - val_loss: 0.3552 - val_mean_squared_error: 0.3552\n",
      "Epoch 25/100\n",
      "363/363 [==============================] - 1s 3ms/step - loss: 0.3422 - mean_squared_error: 0.3422 - val_loss: 0.3517 - val_mean_squared_error: 0.3517\n",
      "Epoch 26/100\n",
      "363/363 [==============================] - 1s 3ms/step - loss: 0.3386 - mean_squared_error: 0.3386 - val_loss: 0.3564 - val_mean_squared_error: 0.3564\n",
      "Epoch 27/100\n",
      "363/363 [==============================] - 1s 3ms/step - loss: 0.3421 - mean_squared_error: 0.3421 - val_loss: 0.3527 - val_mean_squared_error: 0.3527\n",
      "Epoch 28/100\n",
      "363/363 [==============================] - 1s 3ms/step - loss: 0.3357 - mean_squared_error: 0.3357 - val_loss: 0.3501 - val_mean_squared_error: 0.3501\n",
      "Epoch 29/100\n",
      "363/363 [==============================] - 1s 3ms/step - loss: 0.3344 - mean_squared_error: 0.3344 - val_loss: 0.3591 - val_mean_squared_error: 0.3591\n",
      "Epoch 30/100\n",
      "363/363 [==============================] - 1s 4ms/step - loss: 0.3437 - mean_squared_error: 0.3437 - val_loss: 0.3490 - val_mean_squared_error: 0.3490\n",
      "Epoch 31/100\n",
      "363/363 [==============================] - 1s 3ms/step - loss: 0.3351 - mean_squared_error: 0.3351 - val_loss: 0.3484 - val_mean_squared_error: 0.3484\n",
      "Epoch 32/100\n",
      "363/363 [==============================] - 1s 3ms/step - loss: 0.3373 - mean_squared_error: 0.3373 - val_loss: 0.4149 - val_mean_squared_error: 0.4149\n",
      "Epoch 33/100\n",
      "363/363 [==============================] - 1s 3ms/step - loss: 0.3345 - mean_squared_error: 0.3345 - val_loss: 0.3429 - val_mean_squared_error: 0.3429\n",
      "Epoch 34/100\n",
      "363/363 [==============================] - 1s 3ms/step - loss: 0.3308 - mean_squared_error: 0.3308 - val_loss: 0.3556 - val_mean_squared_error: 0.3556\n",
      "Epoch 35/100\n",
      "363/363 [==============================] - 3s 7ms/step - loss: 0.3284 - mean_squared_error: 0.3284 - val_loss: 0.3545 - val_mean_squared_error: 0.3545\n",
      "Epoch 36/100\n",
      "363/363 [==============================] - 3s 8ms/step - loss: 0.3290 - mean_squared_error: 0.3290 - val_loss: 0.3542 - val_mean_squared_error: 0.3542\n",
      "Epoch 37/100\n",
      "363/363 [==============================] - 3s 8ms/step - loss: 0.3298 - mean_squared_error: 0.3298 - val_loss: 0.3373 - val_mean_squared_error: 0.3373\n",
      "Epoch 38/100\n",
      "363/363 [==============================] - 3s 7ms/step - loss: 0.3268 - mean_squared_error: 0.3268 - val_loss: 0.4610 - val_mean_squared_error: 0.4610\n",
      "Epoch 39/100\n",
      "363/363 [==============================] - 3s 9ms/step - loss: 0.3269 - mean_squared_error: 0.3269 - val_loss: 0.3391 - val_mean_squared_error: 0.3391\n",
      "Epoch 40/100\n",
      "363/363 [==============================] - 3s 7ms/step - loss: 0.3249 - mean_squared_error: 0.3249 - val_loss: 0.3346 - val_mean_squared_error: 0.3346\n",
      "Epoch 41/100\n",
      "363/363 [==============================] - 3s 9ms/step - loss: 0.3284 - mean_squared_error: 0.3284 - val_loss: 0.3446 - val_mean_squared_error: 0.3446\n",
      "Epoch 42/100\n",
      "363/363 [==============================] - 3s 7ms/step - loss: 0.3343 - mean_squared_error: 0.3343 - val_loss: 0.3343 - val_mean_squared_error: 0.3343\n",
      "Epoch 43/100\n",
      "363/363 [==============================] - 3s 7ms/step - loss: 0.3309 - mean_squared_error: 0.3309 - val_loss: 0.3404 - val_mean_squared_error: 0.3404\n",
      "Epoch 44/100\n",
      "363/363 [==============================] - 3s 7ms/step - loss: 0.3234 - mean_squared_error: 0.3234 - val_loss: 0.3381 - val_mean_squared_error: 0.3381\n",
      "Epoch 45/100\n",
      "363/363 [==============================] - 3s 7ms/step - loss: 0.3288 - mean_squared_error: 0.3288 - val_loss: 0.3339 - val_mean_squared_error: 0.3339\n",
      "Epoch 46/100\n",
      "363/363 [==============================] - 2s 7ms/step - loss: 0.3225 - mean_squared_error: 0.3225 - val_loss: 0.3411 - val_mean_squared_error: 0.3411\n",
      "Epoch 47/100\n",
      "363/363 [==============================] - 3s 9ms/step - loss: 0.3204 - mean_squared_error: 0.3204 - val_loss: 0.3344 - val_mean_squared_error: 0.3344\n",
      "Epoch 48/100\n",
      "363/363 [==============================] - 2s 6ms/step - loss: 0.3241 - mean_squared_error: 0.3241 - val_loss: 0.3357 - val_mean_squared_error: 0.3357\n",
      "Epoch 49/100\n",
      "363/363 [==============================] - 3s 8ms/step - loss: 0.3178 - mean_squared_error: 0.3178 - val_loss: 0.3300 - val_mean_squared_error: 0.3300\n",
      "Epoch 50/100\n",
      "363/363 [==============================] - 3s 8ms/step - loss: 0.3210 - mean_squared_error: 0.3210 - val_loss: 0.3249 - val_mean_squared_error: 0.3249\n",
      "Epoch 51/100\n",
      "363/363 [==============================] - 3s 8ms/step - loss: 0.3165 - mean_squared_error: 0.3165 - val_loss: 0.3256 - val_mean_squared_error: 0.3256\n",
      "Epoch 52/100\n",
      "363/363 [==============================] - 3s 7ms/step - loss: 0.3159 - mean_squared_error: 0.3159 - val_loss: 0.3244 - val_mean_squared_error: 0.3244\n",
      "Epoch 53/100\n",
      "363/363 [==============================] - 3s 8ms/step - loss: 0.3141 - mean_squared_error: 0.3141 - val_loss: 0.3356 - val_mean_squared_error: 0.3356\n",
      "Epoch 54/100\n",
      "363/363 [==============================] - 3s 7ms/step - loss: 0.3221 - mean_squared_error: 0.3221 - val_loss: 0.3271 - val_mean_squared_error: 0.3271\n",
      "Epoch 55/100\n",
      "363/363 [==============================] - 3s 9ms/step - loss: 0.3259 - mean_squared_error: 0.3259 - val_loss: 0.5569 - val_mean_squared_error: 0.5569\n",
      "Epoch 56/100\n",
      "363/363 [==============================] - 3s 7ms/step - loss: 0.3360 - mean_squared_error: 0.3360 - val_loss: 0.3375 - val_mean_squared_error: 0.3375\n",
      "Epoch 57/100\n",
      "363/363 [==============================] - 3s 7ms/step - loss: 0.3289 - mean_squared_error: 0.3289 - val_loss: 0.3276 - val_mean_squared_error: 0.3276\n"
     ]
    }
   ],
   "source": [
    "with tf.device('/GPU:0'):\n",
    "    history = model.fit(x_train_scaler, y_train,\n",
    "                        validation_data=(x_valid_scaler, y_valid),\n",
    "                        epochs=100,\n",
    "                        callbacks=callbacks)"
   ],
   "metadata": {
    "collapsed": false,
    "ExecuteTime": {
     "start_time": "2023-07-25T13:48:41.547879Z",
     "end_time": "2023-07-25T13:50:22.781276Z"
    }
   }
  },
  {
   "cell_type": "code",
   "execution_count": 61,
   "outputs": [
    {
     "data": {
      "text/plain": "<Figure size 800x500 with 1 Axes>",
      "image/png": "[encoded data removed]"
     },
     "metadata": {},
     "output_type": "display_data"
    }
   ],
   "source": [
    "def plot_learning_curves(history):\n",
    "    pd.DataFrame(history.history).plot(figsize=(8,5))\n",
    "    plt.grid(True)\n",
    "    plt.gca().set_ylim(0,2)\n",
    "    plt.show()\n",
    "plot_learning_curves(history)"
   ],
   "metadata": {
    "collapsed": false,
    "ExecuteTime": {
     "start_time": "2023-07-25T13:50:22.782276Z",
     "end_time": "2023-07-25T13:50:23.111594Z"
    }
   }
  },
  {
   "cell_type": "code",
   "execution_count": 62,
   "outputs": [
    {
     "data": {
      "text/plain": "[0.3348134756088257, 0.3348134756088257]"
     },
     "execution_count": 62,
     "metadata": {},
     "output_type": "execute_result"
    }
   ],
   "source": [
    "model.evaluate(x_test_scaler,y_test,verbose=0)"
   ],
   "metadata": {
    "collapsed": false,
    "ExecuteTime": {
     "start_time": "2023-07-25T13:50:23.098470Z",
     "end_time": "2023-07-25T13:50:23.779485Z"
    }
   }
  },
  {
   "cell_type": "code",
   "execution_count": 63,
   "outputs": [
    {
     "name": "stdout",
     "output_type": "stream",
     "text": [
      "Model: \"sequential_15\"\n",
      "_________________________________________________________________\n",
      " Layer (type)                Output Shape              Param #   \n",
      "=================================================================\n",
      " customized_dense_layer (Cus  (None, 30)               270       \n",
      " tomizedDenseLayer)                                              \n",
      "                                                                 \n",
      " customized_dense_layer_1 (C  (None, 1)                31        \n",
      " ustomizedDenseLayer)                                            \n",
      "                                                                 \n",
      "=================================================================\n",
      "Total params: 301\n",
      "Trainable params: 301\n",
      "Non-trainable params: 0\n",
      "_________________________________________________________________\n"
     ]
    }
   ],
   "source": [
    "# 自定义layers\n",
    "# tf.nn.softplus : log(1+e^x)\n",
    "customized_softplus = keras.layers.Lambda(lambda x: tf.math.log(1+tf.math.exp(x)))\n",
    "\n",
    "# layers\n",
    "class CustomizedDenseLayer(keras.layers.Layer):\n",
    "    def __init__(self, units, activation=None, **kwargs):\n",
    "        self.units = units\n",
    "        self.activation = keras.layers.Activation(activation)\n",
    "        super(CustomizedDenseLayer,self).__init__(**kwargs)\n",
    "\n",
    "    def build(self, input_shape):\n",
    "        # w初始分布\n",
    "        self.kernel = self.add_weight(name = 'kernel',\n",
    "                                      shape = (input_shape[1], self.units),\n",
    "                                      initializer = 'uniform',#使用均匀分布的方法去初始化kernel\n",
    "                                      trainable = True)\n",
    "        # b 偏置值\n",
    "        self.bias = self.add_weight(name = 'bias',\n",
    "                                    shape = (self.units, ),\n",
    "                                    initializer = 'zeros',\n",
    "                                    trainable = True)\n",
    "        #接着我们要继承父类的build\n",
    "        super(CustomizedDenseLayer, self).build(input_shape)\n",
    "\n",
    "    def call(self, x):\n",
    "        return self.activation(x @ self.kernel + self.bias)\n",
    "\n",
    "model = keras.models.Sequential([\n",
    "    CustomizedDenseLayer(30, activation='relu',\n",
    "                         input_shape=x_train.shape[1:]),  #这里传入的是特征数\n",
    "    CustomizedDenseLayer(1,activation=customized_softplus),\n",
    "])\n",
    "model.summary()\n",
    "model.compile(loss=\"mean_squared_error\", optimizer=\"sgd\")\n",
    "callbacks = [keras.callbacks.EarlyStopping(\n",
    "    patience=5, min_delta=1e-3)]"
   ],
   "metadata": {
    "collapsed": false,
    "ExecuteTime": {
     "start_time": "2023-07-25T14:00:56.544810Z",
     "end_time": "2023-07-25T14:00:56.596520Z"
    }
   }
  },
  {
   "cell_type": "code",
   "execution_count": 64,
   "outputs": [
    {
     "name": "stdout",
     "output_type": "stream",
     "text": [
      "Epoch 1/10\n",
      "363/363 [==============================] - 2s 4ms/step - loss: 1.2231 - val_loss: 0.6783\n",
      "Epoch 2/10\n",
      "363/363 [==============================] - 1s 3ms/step - loss: 0.5937 - val_loss: 0.5867\n",
      "Epoch 3/10\n",
      "363/363 [==============================] - 1s 3ms/step - loss: 0.5220 - val_loss: 0.5253\n",
      "Epoch 4/10\n",
      "363/363 [==============================] - 1s 3ms/step - loss: 0.4792 - val_loss: 0.4995\n",
      "Epoch 5/10\n",
      "363/363 [==============================] - 1s 3ms/step - loss: 0.4616 - val_loss: 0.4885\n",
      "Epoch 6/10\n",
      "363/363 [==============================] - 1s 3ms/step - loss: 0.4614 - val_loss: 0.4706\n",
      "Epoch 7/10\n",
      "363/363 [==============================] - 1s 3ms/step - loss: 0.4437 - val_loss: 0.4683\n",
      "Epoch 8/10\n",
      "363/363 [==============================] - 1s 3ms/step - loss: 0.4363 - val_loss: 0.4819\n",
      "Epoch 9/10\n",
      "363/363 [==============================] - 1s 3ms/step - loss: 0.4285 - val_loss: 0.4344\n",
      "Epoch 10/10\n",
      "363/363 [==============================] - 1s 3ms/step - loss: 0.4272 - val_loss: 0.4506\n"
     ]
    }
   ],
   "source": [
    "history = model.fit(x_train_scaler, y_train,\n",
    "                    validation_data=(x_valid_scaler,y_valid),\n",
    "                    epochs=10,\n",
    "                    callbacks=callbacks)"
   ],
   "metadata": {
    "collapsed": false,
    "ExecuteTime": {
     "start_time": "2023-07-25T14:01:48.270745Z",
     "end_time": "2023-07-25T14:01:59.780645Z"
    }
   }
  },
  {
   "cell_type": "code",
   "execution_count": 65,
   "outputs": [
    {
     "data": {
      "text/plain": "<Figure size 800x500 with 1 Axes>",
      "image/png": "[encoded data removed]"
     },
     "metadata": {},
     "output_type": "display_data"
    }
   ],
   "source": [
    "plot_learning_curves(history)"
   ],
   "metadata": {
    "collapsed": false,
    "ExecuteTime": {
     "start_time": "2023-07-25T14:02:01.120072Z",
     "end_time": "2023-07-25T14:02:01.211367Z"
    }
   }
  },
  {
   "cell_type": "code",
   "execution_count": 67,
   "outputs": [
    {
     "data": {
      "text/plain": "0.4461187422275543"
     },
     "execution_count": 67,
     "metadata": {},
     "output_type": "execute_result"
    }
   ],
   "source": [
    "model.evaluate(x_test_scaler,y_test,verbose=0)"
   ],
   "metadata": {
    "collapsed": false,
    "ExecuteTime": {
     "start_time": "2023-07-25T14:02:33.539677Z",
     "end_time": "2023-07-25T14:02:34.036951Z"
    }
   }
  },
  {
   "cell_type": "code",
   "execution_count": null,
   "outputs": [],
   "source": [],
   "metadata": {
    "collapsed": false
   }
  }
 ],
 "metadata": {
  "kernelspec": {
   "display_name": "Python 3",
   "language": "python",
   "name": "python3"
  },
  "language_info": {
   "codemirror_mode": {
    "name": "ipython",
    "version": 2
   },
   "file_extension": ".py",
   "mimetype": "text/x-python",
   "name": "python",
   "nbconvert_exporter": "python",
   "pygments_lexer": "ipython2",
   "version": "2.7.6"
  }
 },
 "nbformat": 4,
 "nbformat_minor": 0
}
