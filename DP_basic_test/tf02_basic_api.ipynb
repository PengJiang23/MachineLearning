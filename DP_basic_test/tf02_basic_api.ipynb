{
 "cells": [
  {
   "cell_type": "markdown",
   "source": [
    "#  tensorflow 张量基础\n",
    "## constant 常量张量\n",
    "## ragged.constant 缺省张量，非矩阵\n",
    "## sparsetensor 稀疏张量\n",
    "## variable 变量"
   ],
   "metadata": {
    "collapsed": false
   }
  },
  {
   "cell_type": "code",
   "execution_count": 2,
   "metadata": {
    "collapsed": true,
    "ExecuteTime": {
     "start_time": "2023-07-25T10:27:03.337266Z",
     "end_time": "2023-07-25T10:27:06.213626Z"
    }
   },
   "outputs": [],
   "source": [
    "import matplotlib as mpl\n",
    "import matplotlib.pyplot as plt\n",
    "%matplotlib inline\n",
    "import numpy as np\n",
    "import sklearn\n",
    "import pandas as pd\n",
    "import os\n",
    "import sys\n",
    "import time\n",
    "import tensorflow as tf\n",
    "\n",
    "from tensorflow import keras"
   ]
  },
  {
   "cell_type": "code",
   "execution_count": 4,
   "outputs": [
    {
     "name": "stdout",
     "output_type": "stream",
     "text": [
      "tf.Tensor(\n",
      "[[1. 2. 3.]\n",
      " [4. 5. 6.]], shape=(2, 3), dtype=float32)\n",
      "--------------------\n",
      "tf.Tensor(\n",
      "[[2. 3.]\n",
      " [5. 6.]], shape=(2, 2), dtype=float32)\n",
      "--------------------\n",
      "tf.Tensor([2. 5.], shape=(2,), dtype=float32)\n",
      "--------------------\n"
     ]
    },
    {
     "data": {
      "text/plain": "array([[1., 2., 3.],\n       [4., 5., 6.]], dtype=float32)"
     },
     "execution_count": 4,
     "metadata": {},
     "output_type": "execute_result"
    }
   ],
   "source": [
    "t = tf.constant([[1.,2.,3.], [4.,5.,6.]])\n",
    "\n",
    "print(t)\n",
    "print('-'*20)\n",
    "print(t[:,1:])\n",
    "print('-'*20)\n",
    "print(t[...,1])\n",
    "print('-'*20)\n",
    "type(t.numpy())\n",
    "q =t.numpy()\n",
    "q"
   ],
   "metadata": {
    "collapsed": false,
    "ExecuteTime": {
     "start_time": "2023-07-25T10:27:21.446075Z",
     "end_time": "2023-07-25T10:27:21.476075Z"
    }
   }
  },
  {
   "cell_type": "code",
   "execution_count": 6,
   "outputs": [
    {
     "data": {
      "text/plain": "<tf.Tensor: shape=(2, 3), dtype=float32, numpy=\narray([[1., 2., 3.],\n       [4., 5., 6.]], dtype=float32)>"
     },
     "execution_count": 6,
     "metadata": {},
     "output_type": "execute_result"
    }
   ],
   "source": [
    "t1 = tf.constant(q)\n",
    "t1"
   ],
   "metadata": {
    "collapsed": false,
    "ExecuteTime": {
     "start_time": "2023-07-25T10:27:54.437919Z",
     "end_time": "2023-07-25T10:27:54.459924Z"
    }
   }
  },
  {
   "cell_type": "code",
   "execution_count": 7,
   "outputs": [
    {
     "name": "stdout",
     "output_type": "stream",
     "text": [
      "tf.Tensor(\n",
      "[[11. 12. 13.]\n",
      " [14. 15. 16.]], shape=(2, 3), dtype=float32)\n",
      "--------------------\n",
      "tf.Tensor(\n",
      "[[ 1.  4.  9.]\n",
      " [16. 25. 36.]], shape=(2, 3), dtype=float32)\n",
      "--------------------\n",
      "tf.Tensor(\n",
      "[[1. 2. 3.]\n",
      " [4. 5. 6.]], shape=(2, 3), dtype=float32)\n",
      "--------------------\n",
      "tf.Tensor(\n",
      "[[1. 4.]\n",
      " [2. 5.]\n",
      " [3. 6.]], shape=(3, 2), dtype=float32)\n",
      "--------------------\n",
      "tf.Tensor(\n",
      "[[14. 32.]\n",
      " [32. 77.]], shape=(2, 2), dtype=float32)\n"
     ]
    }
   ],
   "source": [
    "print(t+10)\n",
    "print('-'*20)\n",
    "print(tf.square(t))\n",
    "print('-'*20)\n",
    "print(t)\n",
    "print('-'*20)\n",
    "print(tf.transpose(t))  # 转置\n",
    "print('-'*20)\n",
    "print(t @ tf.transpose(t))  # 矩阵乘法"
   ],
   "metadata": {
    "collapsed": false,
    "ExecuteTime": {
     "start_time": "2023-07-25T10:29:35.245039Z",
     "end_time": "2023-07-25T10:29:38.987563Z"
    }
   }
  },
  {
   "cell_type": "code",
   "execution_count": 8,
   "outputs": [
    {
     "name": "stdout",
     "output_type": "stream",
     "text": [
      "tf.Tensor(\n",
      "[[0.        0.6931472 1.0986123]\n",
      " [1.3862944 1.609438  1.7917595]], shape=(2, 3), dtype=float32)\n",
      "--------------------\n",
      "tf.Tensor(\n",
      "[[1.        1.4142135 1.7320508]\n",
      " [2.        2.2360678 2.4494896]], shape=(2, 3), dtype=float32)\n"
     ]
    }
   ],
   "source": [
    "print(tf.math.log(t))\n",
    "print('-'*20)\n",
    "print(tf.sqrt(t))"
   ],
   "metadata": {
    "collapsed": false,
    "ExecuteTime": {
     "start_time": "2023-07-25T10:30:52.964539Z",
     "end_time": "2023-07-25T10:30:53.023069Z"
    }
   }
  },
  {
   "cell_type": "code",
   "execution_count": 9,
   "outputs": [],
   "source": [
    "# ragged tensor  不规则张量非矩阵\n",
    "r = tf.ragged.constant([[11, 12], [21, 22, 23], [], [41]])\n",
    "# 只能取行"
   ],
   "metadata": {
    "collapsed": false,
    "ExecuteTime": {
     "start_time": "2023-07-25T10:33:12.983611Z",
     "end_time": "2023-07-25T10:33:13.024138Z"
    }
   }
  },
  {
   "cell_type": "code",
   "execution_count": 13,
   "outputs": [
    {
     "name": "stdout",
     "output_type": "stream",
     "text": [
      "<tf.RaggedTensor [[11, 12, 51, 52], [21, 22, 23], [], [41, 71]]>\n"
     ]
    }
   ],
   "source": [
    "r2 = tf.ragged.constant([[51, 52],[], [], [71]])\n",
    "\n",
    "print(tf.concat([r,r2],axis=1))"
   ],
   "metadata": {
    "collapsed": false,
    "ExecuteTime": {
     "start_time": "2023-07-25T10:34:05.355863Z",
     "end_time": "2023-07-25T10:34:05.441481Z"
    }
   }
  },
  {
   "cell_type": "code",
   "execution_count": 14,
   "outputs": [
    {
     "name": "stdout",
     "output_type": "stream",
     "text": [
      "tf.Tensor(\n",
      "[[51 52]\n",
      " [ 0  0]\n",
      " [ 0  0]\n",
      " [71  0]], shape=(4, 2), dtype=int32)\n"
     ]
    }
   ],
   "source": [
    "print(r2.to_tensor())\n",
    "# 深度学习必须为tensor 矩阵"
   ],
   "metadata": {
    "collapsed": false,
    "ExecuteTime": {
     "start_time": "2023-07-25T10:34:57.210864Z",
     "end_time": "2023-07-25T10:34:57.219872Z"
    }
   }
  },
  {
   "cell_type": "code",
   "execution_count": 17,
   "outputs": [
    {
     "name": "stdout",
     "output_type": "stream",
     "text": [
      "SparseTensor(indices=tf.Tensor(\n",
      "[[0 1]\n",
      " [1 0]\n",
      " [2 3]\n",
      " [3 2]], shape=(4, 2), dtype=int64), values=tf.Tensor([1. 2. 3. 5.], shape=(4,), dtype=float32), dense_shape=tf.Tensor([4 4], shape=(2,), dtype=int64))\n"
     ]
    },
    {
     "data": {
      "text/plain": "<tf.Tensor: shape=(4, 4), dtype=float32, numpy=\narray([[0., 1., 0., 0.],\n       [2., 0., 0., 0.],\n       [0., 0., 0., 3.],\n       [0., 0., 5., 0.]], dtype=float32)>"
     },
     "execution_count": 17,
     "metadata": {},
     "output_type": "execute_result"
    }
   ],
   "source": [
    "# sparse tensor 可以往前面补零,sparse tensor从第一行依次往下填位置\n",
    "#sparese tensor存储节省内存空间，磁盘空间\n",
    "s = tf.SparseTensor(indices = [[0, 1], [1, 0], [2, 3],[3,2]], #位置\n",
    "                    values = [1., 2., 3.,5],  #值\n",
    "                    dense_shape = [4, 4])  #维数\n",
    "print(s)\n",
    "tt = tf.sparse.to_dense(s)\n",
    "tt"
   ],
   "metadata": {
    "collapsed": false,
    "ExecuteTime": {
     "start_time": "2023-07-25T10:37:15.549238Z",
     "end_time": "2023-07-25T10:37:15.598364Z"
    }
   }
  },
  {
   "cell_type": "code",
   "execution_count": 20,
   "outputs": [
    {
     "name": "stdout",
     "output_type": "stream",
     "text": [
      "tf.Tensor(\n",
      "[[ 0.  2.  0.  0.]\n",
      " [ 4.  0.  0.  0.]\n",
      " [ 0.  0.  0.  6.]\n",
      " [ 0.  0. 10.  0.]], shape=(4, 4), dtype=float32)\n",
      "tf.Tensor(\n",
      "[[ 30.  40.]\n",
      " [ 20.  40.]\n",
      " [210. 240.]\n",
      " [250. 300.]], shape=(4, 2), dtype=float32)\n"
     ]
    }
   ],
   "source": [
    "s2 = s * 2\n",
    "print(tf.sparse.to_dense(s2))\n",
    "s4 = tf.constant([[10., 20.],\n",
    "                  [30., 40.],\n",
    "                  [50., 60.],\n",
    "                  [70., 80.]])\n",
    "# sparse tensor 与 tensor 相乘\n",
    "print(tf.sparse.sparse_dense_matmul(s, s4))"
   ],
   "metadata": {
    "collapsed": false,
    "ExecuteTime": {
     "start_time": "2023-07-25T10:39:26.770486Z",
     "end_time": "2023-07-25T10:39:26.795100Z"
    }
   }
  },
  {
   "cell_type": "code",
   "execution_count": 26,
   "outputs": [
    {
     "name": "stdout",
     "output_type": "stream",
     "text": [
      "tf.Tensor(\n",
      "[[0. 3. 1. 0.]\n",
      " [0. 0. 0. 0.]\n",
      " [0. 0. 0. 2.]], shape=(3, 4), dtype=float32)\n"
     ]
    }
   ],
   "source": [
    "# sparse tensor\n",
    "# sparse tensort 转为tensor  如果indices中位置无序必须要reorder\n",
    "s5 = tf.SparseTensor(indices = [[0, 2], [2, 3], [0, 1]],\n",
    "                    values = [1., 2., 3.],\n",
    "                    dense_shape = [3, 4])\n",
    "s8 = tf.sparse.reorder(s5)\n",
    "print(tf.sparse.to_dense(s8))"
   ],
   "metadata": {
    "collapsed": false,
    "ExecuteTime": {
     "start_time": "2023-07-25T10:43:03.631548Z",
     "end_time": "2023-07-25T10:43:03.690830Z"
    }
   }
  },
  {
   "cell_type": "code",
   "execution_count": 32,
   "outputs": [
    {
     "data": {
      "text/plain": "<tf.Variable 'Variable:0' shape=(2, 3) dtype=float32, numpy=\narray([[ 1., 29.,  3.],\n       [ 4.,  5.,  6.]], dtype=float32)>"
     },
     "execution_count": 32,
     "metadata": {},
     "output_type": "execute_result"
    }
   ],
   "source": [
    "# Variables  assign在原来空间进行修改 效率高\n",
    "v = tf.Variable([[1., 2., 3.], [4., 5.,6.]])\n",
    "# 变量修改需要用assign\n",
    "v[0,1].assign(29)\n",
    "v"
   ],
   "metadata": {
    "collapsed": false,
    "ExecuteTime": {
     "start_time": "2023-07-25T10:47:16.386821Z",
     "end_time": "2023-07-25T10:47:16.405064Z"
    }
   }
  },
  {
   "cell_type": "code",
   "execution_count": null,
   "outputs": [],
   "source": [],
   "metadata": {
    "collapsed": false
   }
  }
 ],
 "metadata": {
  "kernelspec": {
   "display_name": "Python 3",
   "language": "python",
   "name": "python3"
  },
  "language_info": {
   "codemirror_mode": {
    "name": "ipython",
    "version": 2
   },
   "file_extension": ".py",
   "mimetype": "text/x-python",
   "name": "python",
   "nbconvert_exporter": "python",
   "pygments_lexer": "ipython2",
   "version": "2.7.6"
  }
 },
 "nbformat": 4,
 "nbformat_minor": 0
}
