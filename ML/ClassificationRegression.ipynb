{
 "cells": [
  {
   "cell_type": "code",
   "execution_count": 1,
   "metadata": {
    "collapsed": true,
    "ExecuteTime": {
     "start_time": "2023-07-16T14:59:23.897870Z",
     "end_time": "2023-07-16T14:59:24.623246Z"
    }
   },
   "outputs": [],
   "source": [
    "from sklearn.datasets import load_iris, fetch_20newsgroups\n",
    "from sklearn.model_selection import train_test_split, GridSearchCV\n",
    "from sklearn.neighbors import KNeighborsClassifier\n",
    "from sklearn.preprocessing import StandardScaler\n",
    "from sklearn.feature_extraction.text import TfidfVectorizer\n",
    "from sklearn.naive_bayes import MultinomialNB\n",
    "from sklearn.metrics import classification_report\n",
    "from sklearn.feature_extraction import DictVectorizer\n",
    "from sklearn.tree import DecisionTreeClassifier, export_graphviz\n",
    "from sklearn.ensemble import RandomForestClassifier\n",
    "import pandas as pd\n",
    "import numpy as np\n",
    "from sklearn.metrics import roc_auc_score"
   ]
  },
  {
   "cell_type": "code",
   "execution_count": 5,
   "outputs": [
    {
     "name": "stdout",
     "output_type": "stream",
     "text": [
      "<class 'numpy.ndarray'>\n",
      "(150, 4)\n",
      "[0 0 0 0 0 0 0 0 0 0 0 0 0 0 0 0 0 0 0 0 0 0 0 0 0 0 0 0 0 0 0 0 0 0 0 0 0\n",
      " 0 0 0 0 0 0 0 0 0 0 0 0 0 1 1 1 1 1 1 1 1 1 1 1 1 1 1 1 1 1 1 1 1 1 1 1 1\n",
      " 1 1 1 1 1 1 1 1 1 1 1 1 1 1 1 1 1 1 1 1 1 1 1 1 1 1 2 2 2 2 2 2 2 2 2 2 2\n",
      " 2 2 2 2 2 2 2 2 2 2 2 2 2 2 2 2 2 2 2 2 2 2 2 2 2 2 2 2 2 2 2 2 2 2 2 2 2\n",
      " 2 2]\n",
      ".. _iris_dataset:\n",
      "\n",
      "Iris plants dataset\n",
      "--------------------\n",
      "\n",
      "**Data Set Characteristics:**\n",
      "\n",
      "    :Number of Instances: 150 (50 in each of three classes)\n",
      "    :Number of Attributes: 4 numeric, predictive attributes and the class\n",
      "    :Attribute Information:\n",
      "        - sepal length in cm\n",
      "        - sepal width in cm\n",
      "        - petal length in cm\n",
      "        - petal width in cm\n",
      "        - class:\n",
      "                - Iris-Setosa\n",
      "                - Iris-Versicolour\n",
      "                - Iris-Virginica\n",
      "                \n",
      "    :Summary Statistics:\n",
      "\n",
      "    ============== ==== ==== ======= ===== ====================\n",
      "                    Min  Max   Mean    SD   Class Correlation\n",
      "    ============== ==== ==== ======= ===== ====================\n",
      "    sepal length:   4.3  7.9   5.84   0.83    0.7826\n",
      "    sepal width:    2.0  4.4   3.05   0.43   -0.4194\n",
      "    petal length:   1.0  6.9   3.76   1.76    0.9490  (high!)\n",
      "    petal width:    0.1  2.5   1.20   0.76    0.9565  (high!)\n",
      "    ============== ==== ==== ======= ===== ====================\n",
      "\n",
      "    :Missing Attribute Values: None\n",
      "    :Class Distribution: 33.3% for each of 3 classes.\n",
      "    :Creator: R.A. Fisher\n",
      "    :Donor: Michael Marshall (MARSHALL%PLU@io.arc.nasa.gov)\n",
      "    :Date: July, 1988\n",
      "\n",
      "The famous Iris database, first used by Sir R.A. Fisher. The dataset is taken\n",
      "from Fisher's paper. Note that it's the same as in R, but not as in the UCI\n",
      "Machine Learning Repository, which has two wrong data points.\n",
      "\n",
      "This is perhaps the best known database to be found in the\n",
      "pattern recognition literature.  Fisher's paper is a classic in the field and\n",
      "is referenced frequently to this day.  (See Duda & Hart, for example.)  The\n",
      "data set contains 3 classes of 50 instances each, where each class refers to a\n",
      "type of iris plant.  One class is linearly separable from the other 2; the\n",
      "latter are NOT linearly separable from each other.\n",
      "\n",
      ".. topic:: References\n",
      "\n",
      "   - Fisher, R.A. \"The use of multiple measurements in taxonomic problems\"\n",
      "     Annual Eugenics, 7, Part II, 179-188 (1936); also in \"Contributions to\n",
      "     Mathematical Statistics\" (John Wiley, NY, 1950).\n",
      "   - Duda, R.O., & Hart, P.E. (1973) Pattern Classification and Scene Analysis.\n",
      "     (Q327.D83) John Wiley & Sons.  ISBN 0-471-22361-1.  See page 218.\n",
      "   - Dasarathy, B.V. (1980) \"Nosing Around the Neighborhood: A New System\n",
      "     Structure and Classification Rule for Recognition in Partially Exposed\n",
      "     Environments\".  IEEE Transactions on Pattern Analysis and Machine\n",
      "     Intelligence, Vol. PAMI-2, No. 1, 67-71.\n",
      "   - Gates, G.W. (1972) \"The Reduced Nearest Neighbor Rule\".  IEEE Transactions\n",
      "     on Information Theory, May 1972, 431-433.\n",
      "   - See also: 1988 MLC Proceedings, 54-64.  Cheeseman et al\"s AUTOCLASS II\n",
      "     conceptual clustering system finds 3 classes in the data.\n",
      "   - Many, many more ...\n",
      "********************\n",
      "['sepal length (cm)', 'sepal width (cm)', 'petal length (cm)', 'petal width (cm)']\n",
      "['setosa' 'versicolor' 'virginica']\n"
     ]
    }
   ],
   "source": [
    "# 鸢尾花数据集\n",
    "li = load_iris()\n",
    "\n",
    "print(type(li.data))\n",
    "\n",
    "print(li.data.shape)\n",
    "print(li.target)\n",
    "print(li.DESCR)\n",
    "print('*' * 20)\n",
    "print(li.feature_names)\n",
    "print(li.target_names)"
   ],
   "metadata": {
    "collapsed": false,
    "ExecuteTime": {
     "start_time": "2023-07-07T10:10:21.548695Z",
     "end_time": "2023-07-07T10:10:21.573832Z"
    }
   }
  },
  {
   "cell_type": "code",
   "execution_count": 6,
   "outputs": [
    {
     "name": "stdout",
     "output_type": "stream",
     "text": [
      "训练集特征值和目标值： [[6.5 2.8 4.6 1.5]\n",
      " [6.7 2.5 5.8 1.8]\n",
      " [6.8 3.  5.5 2.1]\n",
      " [5.1 3.5 1.4 0.3]\n",
      " [6.  2.2 5.  1.5]\n",
      " [6.3 2.9 5.6 1.8]\n",
      " [6.6 2.9 4.6 1.3]\n",
      " [7.7 2.6 6.9 2.3]\n",
      " [5.7 3.8 1.7 0.3]\n",
      " [5.  3.6 1.4 0.2]\n",
      " [4.8 3.  1.4 0.3]\n",
      " [5.2 2.7 3.9 1.4]\n",
      " [5.1 3.4 1.5 0.2]\n",
      " [5.5 3.5 1.3 0.2]\n",
      " [7.7 3.8 6.7 2.2]\n",
      " [6.9 3.1 5.4 2.1]\n",
      " [7.3 2.9 6.3 1.8]\n",
      " [6.4 2.8 5.6 2.2]\n",
      " [6.2 2.8 4.8 1.8]\n",
      " [6.  3.4 4.5 1.6]\n",
      " [7.7 2.8 6.7 2. ]\n",
      " [5.7 3.  4.2 1.2]\n",
      " [4.8 3.4 1.6 0.2]\n",
      " [5.7 2.5 5.  2. ]\n",
      " [6.3 2.7 4.9 1.8]\n",
      " [4.8 3.  1.4 0.1]\n",
      " [4.7 3.2 1.3 0.2]\n",
      " [6.5 3.  5.8 2.2]\n",
      " [4.6 3.4 1.4 0.3]\n",
      " [6.1 3.  4.9 1.8]\n",
      " [6.5 3.2 5.1 2. ]\n",
      " [6.7 3.1 4.4 1.4]\n",
      " [5.7 2.8 4.5 1.3]\n",
      " [6.7 3.3 5.7 2.5]\n",
      " [6.  3.  4.8 1.8]\n",
      " [5.1 3.8 1.6 0.2]\n",
      " [6.  2.2 4.  1. ]\n",
      " [6.4 2.9 4.3 1.3]\n",
      " [6.5 3.  5.5 1.8]\n",
      " [5.  2.3 3.3 1. ]\n",
      " [6.3 3.3 6.  2.5]\n",
      " [5.5 2.5 4.  1.3]\n",
      " [5.4 3.7 1.5 0.2]\n",
      " [4.9 3.1 1.5 0.2]\n",
      " [5.2 4.1 1.5 0.1]\n",
      " [6.7 3.3 5.7 2.1]\n",
      " [4.4 3.  1.3 0.2]\n",
      " [6.  2.7 5.1 1.6]\n",
      " [6.4 2.7 5.3 1.9]\n",
      " [5.9 3.  5.1 1.8]\n",
      " [5.2 3.5 1.5 0.2]\n",
      " [5.1 3.3 1.7 0.5]\n",
      " [5.8 2.7 4.1 1. ]\n",
      " [4.9 3.1 1.5 0.1]\n",
      " [7.4 2.8 6.1 1.9]\n",
      " [6.2 2.9 4.3 1.3]\n",
      " [7.6 3.  6.6 2.1]\n",
      " [6.7 3.  5.2 2.3]\n",
      " [6.3 2.3 4.4 1.3]\n",
      " [6.2 3.4 5.4 2.3]\n",
      " [7.2 3.6 6.1 2.5]\n",
      " [5.6 2.9 3.6 1.3]\n",
      " [5.7 4.4 1.5 0.4]\n",
      " [5.8 2.7 3.9 1.2]\n",
      " [4.5 2.3 1.3 0.3]\n",
      " [5.5 2.4 3.8 1.1]\n",
      " [6.9 3.1 4.9 1.5]\n",
      " [5.  3.4 1.6 0.4]\n",
      " [6.8 2.8 4.8 1.4]\n",
      " [5.  3.5 1.6 0.6]\n",
      " [4.8 3.4 1.9 0.2]\n",
      " [6.3 3.4 5.6 2.4]\n",
      " [5.6 2.8 4.9 2. ]\n",
      " [6.8 3.2 5.9 2.3]\n",
      " [5.  3.3 1.4 0.2]\n",
      " [5.1 3.7 1.5 0.4]\n",
      " [5.9 3.2 4.8 1.8]\n",
      " [4.6 3.1 1.5 0.2]\n",
      " [5.8 2.7 5.1 1.9]\n",
      " [4.8 3.1 1.6 0.2]\n",
      " [6.5 3.  5.2 2. ]\n",
      " [4.9 2.5 4.5 1.7]\n",
      " [4.6 3.2 1.4 0.2]\n",
      " [6.4 3.2 5.3 2.3]\n",
      " [4.3 3.  1.1 0.1]\n",
      " [5.6 3.  4.1 1.3]\n",
      " [4.4 2.9 1.4 0.2]\n",
      " [5.5 2.4 3.7 1. ]\n",
      " [5.  2.  3.5 1. ]\n",
      " [5.1 3.5 1.4 0.2]\n",
      " [4.9 3.  1.4 0.2]\n",
      " [4.9 2.4 3.3 1. ]\n",
      " [4.6 3.6 1.  0.2]\n",
      " [5.9 3.  4.2 1.5]\n",
      " [6.1 2.9 4.7 1.4]\n",
      " [5.  3.4 1.5 0.2]\n",
      " [6.7 3.1 4.7 1.5]\n",
      " [5.7 2.9 4.2 1.3]\n",
      " [6.2 2.2 4.5 1.5]\n",
      " [7.  3.2 4.7 1.4]\n",
      " [5.8 2.7 5.1 1.9]\n",
      " [5.4 3.4 1.7 0.2]\n",
      " [5.  3.  1.6 0.2]\n",
      " [6.1 2.6 5.6 1.4]\n",
      " [6.1 2.8 4.  1.3]\n",
      " [7.2 3.  5.8 1.6]\n",
      " [5.7 2.6 3.5 1. ]\n",
      " [6.3 2.8 5.1 1.5]\n",
      " [6.4 3.1 5.5 1.8]\n",
      " [6.3 2.5 4.9 1.5]\n",
      " [6.7 3.1 5.6 2.4]\n",
      " [4.9 3.6 1.4 0.1]] [1 2 2 0 2 2 1 2 0 0 0 1 0 0 2 2 2 2 2 1 2 1 0 2 2 0 0 2 0 2 2 1 1 2 2 0 1\n",
      " 1 2 1 2 1 0 0 0 2 0 1 2 2 0 0 1 0 2 1 2 2 1 2 2 1 0 1 0 1 1 0 1 0 0 2 2 2\n",
      " 0 0 1 0 2 0 2 2 0 2 0 1 0 1 1 0 0 1 0 1 1 0 1 1 1 1 2 0 0 2 1 2 1 2 2 1 2\n",
      " 0]\n",
      "训练集特征值shape (112, 4)\n",
      "测试集特征值和目标值： [[5.8 4.  1.2 0.2]\n",
      " [5.1 2.5 3.  1.1]\n",
      " [6.6 3.  4.4 1.4]\n",
      " [5.4 3.9 1.3 0.4]\n",
      " [7.9 3.8 6.4 2. ]\n",
      " [6.3 3.3 4.7 1.6]\n",
      " [6.9 3.1 5.1 2.3]\n",
      " [5.1 3.8 1.9 0.4]\n",
      " [4.7 3.2 1.6 0.2]\n",
      " [6.9 3.2 5.7 2.3]\n",
      " [5.6 2.7 4.2 1.3]\n",
      " [5.4 3.9 1.7 0.4]\n",
      " [7.1 3.  5.9 2.1]\n",
      " [6.4 3.2 4.5 1.5]\n",
      " [6.  2.9 4.5 1.5]\n",
      " [4.4 3.2 1.3 0.2]\n",
      " [5.8 2.6 4.  1.2]\n",
      " [5.6 3.  4.5 1.5]\n",
      " [5.4 3.4 1.5 0.4]\n",
      " [5.  3.2 1.2 0.2]\n",
      " [5.5 2.6 4.4 1.2]\n",
      " [5.4 3.  4.5 1.5]\n",
      " [6.7 3.  5.  1.7]\n",
      " [5.  3.5 1.3 0.3]\n",
      " [7.2 3.2 6.  1.8]\n",
      " [5.7 2.8 4.1 1.3]\n",
      " [5.5 4.2 1.4 0.2]\n",
      " [5.1 3.8 1.5 0.3]\n",
      " [6.1 2.8 4.7 1.2]\n",
      " [6.3 2.5 5.  1.9]\n",
      " [6.1 3.  4.6 1.4]\n",
      " [7.7 3.  6.1 2.3]\n",
      " [5.6 2.5 3.9 1.1]\n",
      " [6.4 2.8 5.6 2.1]\n",
      " [5.8 2.8 5.1 2.4]\n",
      " [5.3 3.7 1.5 0.2]\n",
      " [5.5 2.3 4.  1.3]\n",
      " [5.2 3.4 1.4 0.2]] [0 1 1 0 2 1 2 0 0 2 1 0 2 1 1 0 1 1 0 0 1 1 1 0 2 1 0 0 1 2 1 2 1 2 2 0 1\n",
      " 0]\n",
      "测试集特征值shape (38, 4)\n"
     ]
    }
   ],
   "source": [
    "# 数据分割  训练集、测试集\n",
    "\n",
    "x_train, x_test, y_train, y_test = train_test_split(li.data, li.target, test_size=0.25,\n",
    "                                                    random_state=1)  # random_state指定随机规则\n",
    "\n",
    "print(\"训练集特征值和目标值：\", x_train, y_train)\n",
    "print(\"训练集特征值shape\", x_train.shape)\n",
    "\n",
    "print(\"测试集特征值和目标值：\", x_test, y_test)\n",
    "print(\"测试集特征值shape\", x_test.shape)"
   ],
   "metadata": {
    "collapsed": false,
    "ExecuteTime": {
     "start_time": "2023-07-07T10:55:16.328710Z",
     "end_time": "2023-07-07T10:55:16.344855Z"
    }
   }
  },
  {
   "cell_type": "code",
   "execution_count": 15,
   "outputs": [],
   "source": [
    "news = fetch_20newsgroups(subset='all', data_home='./data')"
   ],
   "metadata": {
    "collapsed": false,
    "ExecuteTime": {
     "start_time": "2023-07-07T11:31:16.889701Z",
     "end_time": "2023-07-07T11:31:17.078461Z"
    }
   }
  },
  {
   "cell_type": "code",
   "execution_count": 14,
   "outputs": [],
   "source": [
    "# fit_transform 训练集用  transformer 测试集"
   ],
   "metadata": {
    "collapsed": false,
    "ExecuteTime": {
     "start_time": "2023-07-07T11:29:37.251862Z",
     "end_time": "2023-07-07T11:29:37.280379Z"
    }
   }
  },
  {
   "cell_type": "markdown",
   "source": [
    "# 分类估计器"
   ],
   "metadata": {
    "collapsed": false
   }
  },
  {
   "cell_type": "markdown",
   "source": [
    "## 1、K近邻"
   ],
   "metadata": {
    "collapsed": false
   }
  },
  {
   "cell_type": "code",
   "execution_count": 2,
   "outputs": [
    {
     "name": "stdout",
     "output_type": "stream",
     "text": [
      "   row_id       x       y  accuracy    time    place_id\n",
      "0       0  0.7941  9.0809        54  470702  8523065625\n",
      "1       1  5.9567  4.7968        13  186555  1757726713\n",
      "2       2  8.3078  7.0407        74  322648  1137537235\n",
      "(29118021, 6)\n"
     ]
    }
   ],
   "source": [
    "# K近邻\n",
    "\"\"\"\n",
    "K-近邻预测用户签到位置\n",
    ":return:None\n",
    "\"\"\"\n",
    "# 读取数据\n",
    "data = pd.read_csv(\"./data/FBlocation/train.csv\")\n",
    "\n",
    "print(data.head(3))\n",
    "print(data.shape)"
   ],
   "metadata": {
    "collapsed": false,
    "ExecuteTime": {
     "start_time": "2023-07-10T11:15:25.492421Z",
     "end_time": "2023-07-10T11:15:33.927059Z"
    }
   }
  },
  {
   "cell_type": "markdown",
   "source": [
    "## 数据预处理"
   ],
   "metadata": {
    "collapsed": false
   }
  },
  {
   "cell_type": "code",
   "execution_count": 3,
   "outputs": [
    {
     "name": "stdout",
     "output_type": "stream",
     "text": [
      "600        1970-01-01 18:09:40\n",
      "957        1970-01-10 02:11:10\n",
      "4345       1970-01-05 15:08:02\n",
      "4735       1970-01-06 23:03:03\n",
      "5580       1970-01-09 11:26:50\n",
      "                   ...        \n",
      "29100203   1970-01-01 10:33:56\n",
      "29108443   1970-01-07 23:22:04\n",
      "29109993   1970-01-08 15:03:14\n",
      "29111539   1970-01-04 00:53:41\n",
      "29112154   1970-01-08 23:01:07\n",
      "Name: time, Length: 17710, dtype: datetime64[ns]\n",
      "--------------------\n",
      "DatetimeIndex(['1970-01-01 18:09:40', '1970-01-10 02:11:10',\n",
      "               '1970-01-05 15:08:02', '1970-01-06 23:03:03',\n",
      "               '1970-01-09 11:26:50', '1970-01-02 16:25:07',\n",
      "               '1970-01-04 15:52:57', '1970-01-01 10:13:36',\n",
      "               '1970-01-09 15:26:06', '1970-01-08 23:52:02',\n",
      "               ...\n",
      "               '1970-01-07 10:03:36', '1970-01-09 11:44:34',\n",
      "               '1970-01-04 08:07:44', '1970-01-04 15:47:47',\n",
      "               '1970-01-08 01:24:11', '1970-01-01 10:33:56',\n",
      "               '1970-01-07 23:22:04', '1970-01-08 15:03:14',\n",
      "               '1970-01-04 00:53:41', '1970-01-08 23:01:07'],\n",
      "              dtype='datetime64[ns]', name='time', length=17710, freq=None)\n",
      "--------------------\n",
      "--------------------\n"
     ]
    },
    {
     "data": {
      "text/plain": "            row_id       x       y  accuracy    place_id  day  hour  weekday\n600            600  1.2214  2.7023        17  6683426742    1    18        3\n957            957  1.1832  2.6891        58  6683426742   10     2        5\n4345          4345  1.1935  2.6550        11  6889790653    5    15        0\n4735          4735  1.1452  2.6074        49  6822359752    6    23        1\n5580          5580  1.0089  2.7287        19  1527921905    9    11        4\n...            ...     ...     ...       ...         ...  ...   ...      ...\n29100203  29100203  1.0129  2.6775        12  3312463746    1    10        3\n29108443  29108443  1.1474  2.6840        36  3533177779    7    23        2\n29109993  29109993  1.0240  2.7238        62  6424972551    8    15        3\n29111539  29111539  1.2032  2.6796        87  3533177779    4     0        6\n29112154  29112154  1.1070  2.5419       178  4932578245    8    23        3\n\n[17710 rows x 8 columns]",
      "text/html": "<div>\n<style scoped>\n    .dataframe tbody tr th:only-of-type {\n        vertical-align: middle;\n    }\n\n    .dataframe tbody tr th {\n        vertical-align: top;\n    }\n\n    .dataframe thead th {\n        text-align: right;\n    }\n</style>\n<table border=\"1\" class=\"dataframe\">\n  <thead>\n    <tr style=\"text-align: right;\">\n      <th></th>\n      <th>row_id</th>\n      <th>x</th>\n      <th>y</th>\n      <th>accuracy</th>\n      <th>place_id</th>\n      <th>day</th>\n      <th>hour</th>\n      <th>weekday</th>\n    </tr>\n  </thead>\n  <tbody>\n    <tr>\n      <th>600</th>\n      <td>600</td>\n      <td>1.2214</td>\n      <td>2.7023</td>\n      <td>17</td>\n      <td>6683426742</td>\n      <td>1</td>\n      <td>18</td>\n      <td>3</td>\n    </tr>\n    <tr>\n      <th>957</th>\n      <td>957</td>\n      <td>1.1832</td>\n      <td>2.6891</td>\n      <td>58</td>\n      <td>6683426742</td>\n      <td>10</td>\n      <td>2</td>\n      <td>5</td>\n    </tr>\n    <tr>\n      <th>4345</th>\n      <td>4345</td>\n      <td>1.1935</td>\n      <td>2.6550</td>\n      <td>11</td>\n      <td>6889790653</td>\n      <td>5</td>\n      <td>15</td>\n      <td>0</td>\n    </tr>\n    <tr>\n      <th>4735</th>\n      <td>4735</td>\n      <td>1.1452</td>\n      <td>2.6074</td>\n      <td>49</td>\n      <td>6822359752</td>\n      <td>6</td>\n      <td>23</td>\n      <td>1</td>\n    </tr>\n    <tr>\n      <th>5580</th>\n      <td>5580</td>\n      <td>1.0089</td>\n      <td>2.7287</td>\n      <td>19</td>\n      <td>1527921905</td>\n      <td>9</td>\n      <td>11</td>\n      <td>4</td>\n    </tr>\n    <tr>\n      <th>...</th>\n      <td>...</td>\n      <td>...</td>\n      <td>...</td>\n      <td>...</td>\n      <td>...</td>\n      <td>...</td>\n      <td>...</td>\n      <td>...</td>\n    </tr>\n    <tr>\n      <th>29100203</th>\n      <td>29100203</td>\n      <td>1.0129</td>\n      <td>2.6775</td>\n      <td>12</td>\n      <td>3312463746</td>\n      <td>1</td>\n      <td>10</td>\n      <td>3</td>\n    </tr>\n    <tr>\n      <th>29108443</th>\n      <td>29108443</td>\n      <td>1.1474</td>\n      <td>2.6840</td>\n      <td>36</td>\n      <td>3533177779</td>\n      <td>7</td>\n      <td>23</td>\n      <td>2</td>\n    </tr>\n    <tr>\n      <th>29109993</th>\n      <td>29109993</td>\n      <td>1.0240</td>\n      <td>2.7238</td>\n      <td>62</td>\n      <td>6424972551</td>\n      <td>8</td>\n      <td>15</td>\n      <td>3</td>\n    </tr>\n    <tr>\n      <th>29111539</th>\n      <td>29111539</td>\n      <td>1.2032</td>\n      <td>2.6796</td>\n      <td>87</td>\n      <td>3533177779</td>\n      <td>4</td>\n      <td>0</td>\n      <td>6</td>\n    </tr>\n    <tr>\n      <th>29112154</th>\n      <td>29112154</td>\n      <td>1.1070</td>\n      <td>2.5419</td>\n      <td>178</td>\n      <td>4932578245</td>\n      <td>8</td>\n      <td>23</td>\n      <td>3</td>\n    </tr>\n  </tbody>\n</table>\n<p>17710 rows × 8 columns</p>\n</div>"
     },
     "execution_count": 3,
     "metadata": {},
     "output_type": "execute_result"
    }
   ],
   "source": [
    "# 数据预处理\n",
    "# 数据减少（降低计算时间）\n",
    "data = data.query('x>1.0 & x<1.25& y>2.5&y<2.75')\n",
    "# 1、time进行转换，获取相应的day、weekday、hour重要时间特征\n",
    "# time-> 标准时间格式\n",
    "time_value = pd.to_datetime(data['time'], unit='s')\n",
    "print(time_value)\n",
    "# 转为时间索引，后续可以方便提取时间中的相关信息\n",
    "time_value = pd.DatetimeIndex(time_value)\n",
    "print('-' * 20)\n",
    "print(time_value)\n",
    "print('-' * 20)\n",
    "# 从time_value中提取信息，插入到data中\n",
    "data.insert(data.shape[1], 'day', time_value.day)\n",
    "data.insert(data.shape[1], 'hour', time_value.hour)\n",
    "data.insert(data.shape[1], 'weekday', time_value.weekday)\n",
    "# 删除原来时间戳time\n",
    "data = data.drop(['time'], axis=1)\n",
    "print('-' * 20)\n",
    "data"
   ],
   "metadata": {
    "collapsed": false,
    "ExecuteTime": {
     "start_time": "2023-07-10T11:15:33.925054Z",
     "end_time": "2023-07-10T11:15:34.287592Z"
    }
   }
  },
  {
   "cell_type": "markdown",
   "source": [
    "## data特征筛选"
   ],
   "metadata": {
    "collapsed": false
   }
  },
  {
   "cell_type": "code",
   "execution_count": 4,
   "outputs": [
    {
     "name": "stdout",
     "output_type": "stream",
     "text": [
      "            row_id     x     y  accuracy   day  hour  weekday\n",
      "place_id                                                     \n",
      "1012023972       1     1     1         1     1     1        1\n",
      "1057182134       1     1     1         1     1     1        1\n",
      "1059958036       3     3     3         3     3     3        3\n",
      "1085266789       1     1     1         1     1     1        1\n",
      "1097200869    1044  1044  1044      1044  1044  1044     1044\n",
      "...            ...   ...   ...       ...   ...   ...      ...\n",
      "9904182060       1     1     1         1     1     1        1\n",
      "9915093501       1     1     1         1     1     1        1\n",
      "9946198589       1     1     1         1     1     1        1\n",
      "9950190890       1     1     1         1     1     1        1\n",
      "9980711012       5     5     5         5     5     5        5\n",
      "\n",
      "[805 rows x 7 columns]\n",
      "            row_id       x       y  accuracy    place_id  day  hour  weekday\n",
      "600            600  1.2214  2.7023        17  6683426742    1    18        3\n",
      "957            957  1.1832  2.6891        58  6683426742   10     2        5\n",
      "4345          4345  1.1935  2.6550        11  6889790653    5    15        0\n",
      "4735          4735  1.1452  2.6074        49  6822359752    6    23        1\n",
      "5580          5580  1.0089  2.7287        19  1527921905    9    11        4\n",
      "...            ...     ...     ...       ...         ...  ...   ...      ...\n",
      "29100203  29100203  1.0129  2.6775        12  3312463746    1    10        3\n",
      "29108443  29108443  1.1474  2.6840        36  3533177779    7    23        2\n",
      "29109993  29109993  1.0240  2.7238        62  6424972551    8    15        3\n",
      "29111539  29111539  1.2032  2.6796        87  3533177779    4     0        6\n",
      "29112154  29112154  1.1070  2.5419       178  4932578245    8    23        3\n",
      "\n",
      "[16918 rows x 8 columns]\n",
      "(16918, 6)\n",
      "Index(['x', 'y', 'accuracy', 'day', 'hour', 'weekday'], dtype='object')\n"
     ]
    }
   ],
   "source": [
    "# 查看各个地方place_id的打卡人数量\n",
    "place_count = data.groupby('place_id').count()\n",
    "print(place_count)\n",
    "# 针对一些访问人数少的地点进行数据筛选，认为这些地点是噪音\n",
    "tf = place_count[place_count.row_id > 3].reset_index()\n",
    "# 根据tf对data数据完成筛选\n",
    "data = data[data['place_id'].isin(tf.place_id)]\n",
    "print(data)\n",
    "#\n",
    "#\n",
    "# 获得数据中特征值和目标值（place_id）\n",
    "y = data['place_id']\n",
    "x = data.drop(['place_id'], axis=1)\n",
    "# 无用特征值，舍弃\n",
    "x = x.drop(['row_id'], axis=1)\n",
    "print(x.shape)\n",
    "print(x.columns)\n",
    "\n",
    "# 数据集进行分割，75/25\n",
    "x_train, x_test, y_train, y_test = train_test_split(x, y, test_size=0.25, random_state=1)"
   ],
   "metadata": {
    "collapsed": false,
    "ExecuteTime": {
     "start_time": "2023-07-10T11:15:34.288593Z",
     "end_time": "2023-07-10T11:15:34.333618Z"
    }
   }
  },
  {
   "cell_type": "markdown",
   "source": [
    "# 特征工程"
   ],
   "metadata": {
    "collapsed": false
   }
  },
  {
   "cell_type": "code",
   "execution_count": 5,
   "outputs": [
    {
     "name": "stdout",
     "output_type": "stream",
     "text": [
      "[ 1.12295735  2.63237278 81.34938525  5.10064628 11.44293821  3.10135561]\n",
      "[5.98489138e-03 4.86857391e-03 1.19597480e+04 7.32837915e+00\n",
      " 4.83742660e+01 2.81838404e+00]\n",
      "--------------------\n",
      "[ 1.12134206  2.6342161  81.72907801  5.03404255 11.55248227  3.10378251]\n",
      "[5.93758840e-03 4.92155888e-03 1.21106023e+04 7.52886475e+00\n",
      " 4.76543378e+01 2.70057671e+00]\n"
     ]
    }
   ],
   "source": [
    "# 标准化、归一化\n",
    "std = StandardScaler()\n",
    "# 对训练集，测试集进行标准化\n",
    "x_train = std.fit_transform(x_train)\n",
    "print(std.mean_)\n",
    "print(std.var_)\n",
    "x_test = std.fit_transform(x_test)\n",
    "print('-' * 20)\n",
    "print(std.mean_)\n",
    "print(std.var_)"
   ],
   "metadata": {
    "collapsed": false,
    "ExecuteTime": {
     "start_time": "2023-07-10T11:18:19.506630Z",
     "end_time": "2023-07-10T11:18:19.520793Z"
    }
   }
  },
  {
   "cell_type": "code",
   "execution_count": 9,
   "outputs": [
    {
     "name": "stdout",
     "output_type": "stream",
     "text": [
      "[5689129232 1097200869 2355236719 ... 4932578245 6424972551 4492549925]\n",
      "准确率0.4806146572104019\n"
     ]
    }
   ],
   "source": [
    "# 模型训练\n",
    "knn = KNeighborsClassifier(n_neighbors=5)\n",
    "knn.fit(x_train, y_train)\n",
    "y_predict = knn.predict(x_test)\n",
    "print(y_predict)\n",
    "print('准确率%s' % knn.score(x_test, y_test))"
   ],
   "metadata": {
    "collapsed": false,
    "ExecuteTime": {
     "start_time": "2023-07-10T11:25:41.156693Z",
     "end_time": "2023-07-10T11:25:41.292474Z"
    }
   }
  },
  {
   "cell_type": "code",
   "execution_count": 12,
   "outputs": [
    {
     "name": "stderr",
     "output_type": "stream",
     "text": [
      "C:\\DevEnvironment\\Python\\lib\\site-packages\\sklearn\\model_selection\\_split.py:700: UserWarning: The least populated class in y has only 1 members, which is less than n_splits=3.\n",
      "  warnings.warn(\n"
     ]
    },
    {
     "name": "stdout",
     "output_type": "stream",
     "text": [
      "在测试集上准确率： 0.47848699763593383\n",
      "--------------------\n",
      "在交叉验证当中最好的结果： 0.4596467484726366\n",
      "--------------------\n",
      "选择最好的模型是： KNeighborsClassifier(n_neighbors=10)\n",
      "--------------------\n",
      "每个超参数每次交叉验证的结果： {'mean_fit_time': array([0.00555468, 0.00602126, 0.00729974, 0.00718379, 0.00591946]), 'std_fit_time': array([4.17948835e-04, 3.20321964e-05, 3.27611013e-03, 1.56505279e-03,\n",
      "       6.53461818e-04]), 'mean_score_time': array([0.05285891, 0.05778893, 0.0867668 , 0.07324497, 0.07537476]), 'std_score_time': array([0.00155763, 0.00317488, 0.03040918, 0.00253189, 0.00068106]), 'param_n_neighbors': masked_array(data=[3, 5, 10, 12, 15],\n",
      "             mask=[False, False, False, False, False],\n",
      "       fill_value='?',\n",
      "            dtype=object), 'params': [{'n_neighbors': 3}, {'n_neighbors': 5}, {'n_neighbors': 10}, {'n_neighbors': 12}, {'n_neighbors': 15}], 'split0_test_score': array([0.44468085, 0.4607565 , 0.46170213, 0.45650118, 0.45508274]), 'split1_test_score': array([0.43390873, 0.45660913, 0.45542681, 0.45329865, 0.44809648]), 'split2_test_score': array([0.43982029, 0.45684559, 0.4618113 , 0.45897375, 0.46062899]), 'mean_test_score': array([0.43946996, 0.45807041, 0.45964675, 0.45625786, 0.45460274]), 'std_test_score': array([0.00440467, 0.00190181, 0.00298428, 0.00232323, 0.00512762]), 'rank_test_score': array([5, 2, 1, 3, 4])}\n"
     ]
    }
   ],
   "source": [
    "# 调参--网格搜索法\n",
    "param = {'n_neighbors': [3, 5, 10, 12, 15]}\n",
    "# 网格搜索，cv3折交叉验证：2折训练，1折验证\n",
    "gc = GridSearchCV(knn, param_grid=param, cv=3)\n",
    "gc.fit(x_train, y_train)\n",
    "\n",
    "print(\"在测试集上准确率：\", gc.score(x_test, y_test))\n",
    "print('-' * 20)\n",
    "print(\"在交叉验证当中最好的结果：\", gc.best_score_)\n",
    "print('-' * 20)\n",
    "print(\"选择最好的模型是：\", gc.best_estimator_)\n",
    "print('-' * 20)\n",
    "print(\"每个超参数每次交叉验证的结果：\", gc.cv_results_)"
   ],
   "metadata": {
    "collapsed": false,
    "ExecuteTime": {
     "start_time": "2023-07-10T11:33:45.732852Z",
     "end_time": "2023-07-10T11:33:46.971462Z"
    }
   }
  },
  {
   "cell_type": "markdown",
   "source": [
    "## 2、朴素贝叶斯"
   ],
   "metadata": {
    "collapsed": false
   }
  },
  {
   "cell_type": "code",
   "execution_count": 6,
   "outputs": [
    {
     "name": "stdout",
     "output_type": "stream",
     "text": [
      "18846\n",
      "[10  3 17 ...  3  1  7]\n",
      "['alt.atheism', 'comp.graphics', 'comp.os.ms-windows.misc', 'comp.sys.ibm.pc.hardware', 'comp.sys.mac.hardware', 'comp.windows.x', 'misc.forsale', 'rec.autos', 'rec.motorcycles', 'rec.sport.baseball', 'rec.sport.hockey', 'sci.crypt', 'sci.electronics', 'sci.med', 'sci.space', 'soc.religion.christian', 'talk.politics.guns', 'talk.politics.mideast', 'talk.politics.misc', 'talk.religion.misc']\n",
      "预测的文章类别 [16 19 18 ... 13  7 14]\n",
      "测试集准确率 0.8518675721561969\n",
      "精确率和召回率（该文本中召回率无用）                           precision    recall  f1-score   support\n",
      "\n",
      "             alt.atheism       0.91      0.77      0.83       199\n",
      "           comp.graphics       0.83      0.79      0.81       242\n",
      " comp.os.ms-windows.misc       0.89      0.83      0.86       263\n",
      "comp.sys.ibm.pc.hardware       0.80      0.83      0.81       262\n",
      "   comp.sys.mac.hardware       0.90      0.88      0.89       234\n",
      "          comp.windows.x       0.92      0.85      0.88       230\n",
      "            misc.forsale       0.96      0.67      0.79       257\n",
      "               rec.autos       0.90      0.87      0.88       265\n",
      "         rec.motorcycles       0.90      0.95      0.92       251\n",
      "      rec.sport.baseball       0.89      0.96      0.93       226\n",
      "        rec.sport.hockey       0.95      0.98      0.96       262\n",
      "               sci.crypt       0.76      0.97      0.85       257\n",
      "         sci.electronics       0.84      0.80      0.82       229\n",
      "                 sci.med       0.97      0.86      0.91       249\n",
      "               sci.space       0.92      0.96      0.94       256\n",
      "  soc.religion.christian       0.55      0.98      0.70       243\n",
      "      talk.politics.guns       0.76      0.96      0.85       234\n",
      "   talk.politics.mideast       0.93      0.99      0.96       224\n",
      "      talk.politics.misc       0.98      0.56      0.72       197\n",
      "      talk.religion.misc       0.97      0.26      0.41       132\n",
      "\n",
      "                accuracy                           0.85      4712\n",
      "               macro avg       0.88      0.84      0.84      4712\n",
      "            weighted avg       0.87      0.85      0.85      4712\n",
      "\n",
      "auc 0.8827602448315142\n"
     ]
    }
   ],
   "source": [
    "# 朴素贝叶斯文本分类\n",
    "news = fetch_20newsgroups(subset='all', data_home='data')\n",
    "\n",
    "print(len(news.data))\n",
    "print(news.target)\n",
    "print(news.target_names)\n",
    "\n",
    "x_train, x_test, y_train, y_test = train_test_split(news.data, news.target, test_size=0.25, random_state=1)\n",
    "\n",
    "# 文本数据特征抽取\n",
    "tf = TfidfVectorizer()\n",
    "\n",
    "x_train = tf.fit_transform(x_train)\n",
    "\n",
    "x_test = tf.transform(x_test)\n",
    "\n",
    "mlt = MultinomialNB(alpha=1.0)\n",
    "\n",
    "mlt.fit(x_train, y_train)\n",
    "\n",
    "y_predict = mlt.predict(x_test)\n",
    "\n",
    "print('预测的文章类别', y_predict)\n",
    "\n",
    "print('测试集准确率', mlt.score(x_test, y_test))\n",
    "\n",
    "print('精确率和召回率（该文本中召回率无用）', classification_report(y_test, y_predict, target_names=news.target_names))\n",
    "\n",
    "y_test = np.where(y_test == 0, 1, 0)\n",
    "y_predict = np.where(y_predict == 0, 1, 0)\n",
    "\n",
    "print('auc', roc_auc_score(y_test, y_predict))\n"
   ],
   "metadata": {
    "collapsed": false,
    "ExecuteTime": {
     "start_time": "2023-07-11T09:18:21.864056Z",
     "end_time": "2023-07-11T09:18:24.273652Z"
    }
   }
  },
  {
   "cell_type": "markdown",
   "source": [
    "## 3、决策树"
   ],
   "metadata": {
    "collapsed": false
   }
  },
  {
   "cell_type": "code",
   "execution_count": 19,
   "outputs": [
    {
     "name": "stdout",
     "output_type": "stream",
     "text": [
      "<class 'pandas.core.frame.DataFrame'>\n",
      "RangeIndex: 1313 entries, 0 to 1312\n",
      "Data columns (total 11 columns):\n",
      " #   Column     Non-Null Count  Dtype  \n",
      "---  ------     --------------  -----  \n",
      " 0   row.names  1313 non-null   int64  \n",
      " 1   pclass     1313 non-null   object \n",
      " 2   survived   1313 non-null   int64  \n",
      " 3   name       1313 non-null   object \n",
      " 4   age        633 non-null    float64\n",
      " 5   embarked   821 non-null    object \n",
      " 6   home.dest  754 non-null    object \n",
      " 7   room       77 non-null     object \n",
      " 8   ticket     69 non-null     object \n",
      " 9   boat       347 non-null    object \n",
      " 10  sex        1313 non-null   object \n",
      "dtypes: float64(1), int64(2), object(8)\n",
      "memory usage: 113.0+ KB\n",
      "    pclass        age     sex\n",
      "949    3rd  31.194181    male\n",
      "213    1st  31.194181    male\n",
      "88     1st  50.000000    male\n",
      "261    1st  49.000000    male\n",
      "434    2nd  24.000000  female\n",
      "--------------------\n",
      "<class 'numpy.ndarray'>\n",
      "--------------------\n",
      "['age' 'pclass=1st' 'pclass=2nd' 'pclass=3rd' 'sex=female' 'sex=male']\n",
      "--------------------\n",
      "[[31.19418104  0.          0.          1.          0.          1.        ]\n",
      " [31.19418104  1.          0.          0.          0.          1.        ]\n",
      " [50.          1.          0.          0.          0.          1.        ]\n",
      " ...\n",
      " [31.19418104  0.          0.          1.          0.          1.        ]\n",
      " [56.          1.          0.          0.          0.          1.        ]\n",
      " [31.19418104  0.          0.          1.          1.          0.        ]]\n"
     ]
    },
    {
     "name": "stderr",
     "output_type": "stream",
     "text": [
      "C:\\Users\\JP\\AppData\\Local\\Temp\\ipykernel_8764\\4122828498.py:10: SettingWithCopyWarning: \n",
      "A value is trying to be set on a copy of a slice from a DataFrame\n",
      "\n",
      "See the caveats in the documentation: https://pandas.pydata.org/pandas-docs/stable/user_guide/indexing.html#returning-a-view-versus-a-copy\n",
      "  x['age'].fillna(x['age'].mean(),inplace=True)\n"
     ]
    }
   ],
   "source": [
    "# 决策树对泰坦尼克号生死预测\n",
    "# 数据读取\n",
    "titan = pd.read_csv('./data/titanic.txt')\n",
    "# 处理数据, 指定确认特征值，目标值\n",
    "x = titan[['pclass', 'age', 'sex']]\n",
    "y = titan['survived']\n",
    "titan.info()\n",
    "\n",
    "# 发现age存在缺失值问题\n",
    "x['age'].fillna(x['age'].mean(), inplace=True)\n",
    "\n",
    "x_train, x_test, y_train, y_test = train_test_split(x, y, test_size=0.25)\n",
    "\n",
    "print(x_train.head())\n",
    "\n",
    "# 特征处理\n",
    "dict = DictVectorizer(sparse=False)\n",
    "\n",
    "x_train = dict.fit_transform(x_train.to_dict(orient='records'))\n",
    "print('-' * 20)\n",
    "print(type(x_train))\n",
    "print('-' * 20)\n",
    "print(dict.get_feature_names_out())\n",
    "print('-' * 20)\n",
    "x_test = dict.transform(x_test.to_dict(orient='records'))\n",
    "print(x_train)"
   ],
   "metadata": {
    "collapsed": false,
    "ExecuteTime": {
     "start_time": "2023-07-11T10:09:57.874905Z",
     "end_time": "2023-07-11T10:09:57.900916Z"
    }
   }
  },
  {
   "cell_type": "code",
   "execution_count": 17,
   "outputs": [
    {
     "name": "stdout",
     "output_type": "stream",
     "text": [
      "准确率 0.8145896656534954\n"
     ]
    }
   ],
   "source": [
    "# 决策树\n",
    "dec = DecisionTreeClassifier()\n",
    "dec.fit(x_train, y_train)\n",
    "print('准确率', dec.score(x_test, y_test))\n",
    "# 导出结构\n",
    "export_graphviz(dec, out_file='tree.dot',\n",
    "                feature_names=['年龄', 'pclass=1st', 'pclass=2nd', 'pclass=3rd', '女性', '男性'])"
   ],
   "metadata": {
    "collapsed": false,
    "ExecuteTime": {
     "start_time": "2023-07-11T09:57:38.483078Z",
     "end_time": "2023-07-11T09:57:38.501054Z"
    }
   }
  },
  {
   "cell_type": "code",
   "execution_count": 21,
   "outputs": [
    {
     "name": "stdout",
     "output_type": "stream",
     "text": [
      "准确率： 0.8054711246200608\n",
      "查看选择的参数模型： {'max_depth': 3, 'n_estimators': 300}\n",
      "选择最好的模型是： RandomForestClassifier(max_depth=3, n_estimators=300, n_jobs=-1)\n",
      "每个超参数每次交叉验证的结果： {'mean_fit_time': array([1.01925508, 0.42893537, 0.69065396, 0.14514105, 0.18362768,\n",
      "       0.26390648, 0.41690604, 0.04562529, 0.06909124, 0.08954366,\n",
      "       0.14094289, 0.19539825, 0.26668715, 0.41428328, 0.04555702,\n",
      "       0.06511323, 0.08765817, 0.14722466, 0.18983603, 0.27683663,\n",
      "       0.40984472, 0.04512095, 0.06796122, 0.09002097, 0.14648183,\n",
      "       0.18820341, 0.27698922, 0.43711082, 0.04662267, 0.07098659,\n",
      "       0.09098212, 0.15113529, 0.20324477, 0.2755185 , 0.43467355,\n",
      "       0.04625034, 0.06809553, 0.09448322, 0.14921331, 0.1925571 ,\n",
      "       0.29479567, 0.42418679]), 'std_fit_time': array([1.35226117e+00, 2.38037877e-01, 4.70134675e-01, 1.03910724e-03,\n",
      "       8.19903372e-04, 5.42927703e-03, 1.43647301e-02, 3.77337504e-03,\n",
      "       4.39298002e-03, 2.13725770e-03, 1.02069889e-03, 1.60352697e-02,\n",
      "       1.01701046e-03, 1.79503077e-02, 4.98718024e-04, 1.32984663e-03,\n",
      "       1.73233480e-04, 1.68561608e-03, 4.53290946e-03, 1.78686021e-02,\n",
      "       2.06397260e-03, 1.49552858e-03, 1.69817205e-03, 2.00354491e-03,\n",
      "       1.23055689e-03, 9.20430157e-04, 6.29474834e-03, 2.36982717e-02,\n",
      "       3.34665782e-03, 9.86677372e-04, 3.41214787e-03, 5.28229826e-03,\n",
      "       1.65814568e-02, 5.82511654e-03, 1.73619414e-02, 1.94800868e-03,\n",
      "       1.90302608e-03, 1.50160118e-03, 1.72693179e-03, 3.44708964e-03,\n",
      "       1.43546123e-02, 2.65266844e-03]), 'mean_score_time': array([0.02324518, 0.03301358, 0.02929481, 0.05121716, 0.05488888,\n",
      "       0.0804352 , 0.11201088, 0.01402299, 0.01705535, 0.02646057,\n",
      "       0.03638617, 0.0534157 , 0.07988358, 0.1128792 , 0.01383456,\n",
      "       0.01716876, 0.02614943, 0.03407613, 0.05167325, 0.0806977 ,\n",
      "       0.11128855, 0.01416413, 0.01813491, 0.03812623, 0.03336271,\n",
      "       0.05426677, 0.08148726, 0.11420616, 0.01398484, 0.01836268,\n",
      "       0.02586039, 0.03520687, 0.05375687, 0.08106836, 0.11520998,\n",
      "       0.0143319 , 0.01786351, 0.02522182, 0.03509053, 0.05516497,\n",
      "       0.07973043, 0.11801449]), 'std_score_time': array([1.83398523e-03, 4.54292336e-03, 2.52168103e-03, 2.16758854e-02,\n",
      "       1.29487250e-03, 9.14905616e-04, 2.05823990e-03, 3.58264850e-05,\n",
      "       3.73077330e-04, 1.23167331e-03, 8.67614051e-04, 5.18177879e-04,\n",
      "       2.72942175e-04, 3.14928659e-03, 8.45689674e-04, 6.11560805e-04,\n",
      "       3.81972128e-04, 1.35412672e-03, 1.41936776e-03, 1.64212836e-03,\n",
      "       2.05561729e-03, 8.54373022e-04, 2.04619666e-04, 1.52261744e-02,\n",
      "       8.59689269e-04, 2.31878683e-03, 8.21593568e-04, 1.68065666e-03,\n",
      "       3.70698562e-04, 6.34189158e-04, 3.07301808e-04, 1.60637091e-03,\n",
      "       9.52024112e-04, 1.20360862e-03, 5.06765830e-04, 4.76212145e-04,\n",
      "       8.70240812e-04, 8.67404604e-04, 1.32082443e-03, 5.57679840e-04,\n",
      "       1.39729732e-03, 2.63764710e-03]), 'param_max_depth': masked_array(data=[2, 2, 2, 2, 2, 2, 2, 3, 3, 3, 3, 3, 3, 3, 5, 5, 5, 5,\n",
      "                   5, 5, 5, 8, 8, 8, 8, 8, 8, 8, 15, 15, 15, 15, 15, 15,\n",
      "                   15, 25, 25, 25, 25, 25, 25, 25],\n",
      "             mask=[False, False, False, False, False, False, False, False,\n",
      "                   False, False, False, False, False, False, False, False,\n",
      "                   False, False, False, False, False, False, False, False,\n",
      "                   False, False, False, False, False, False, False, False,\n",
      "                   False, False, False, False, False, False, False, False,\n",
      "                   False, False],\n",
      "       fill_value='?',\n",
      "            dtype=object), 'param_n_estimators': masked_array(data=[80, 120, 200, 300, 500, 800, 1200, 80, 120, 200, 300,\n",
      "                   500, 800, 1200, 80, 120, 200, 300, 500, 800, 1200, 80,\n",
      "                   120, 200, 300, 500, 800, 1200, 80, 120, 200, 300, 500,\n",
      "                   800, 1200, 80, 120, 200, 300, 500, 800, 1200],\n",
      "             mask=[False, False, False, False, False, False, False, False,\n",
      "                   False, False, False, False, False, False, False, False,\n",
      "                   False, False, False, False, False, False, False, False,\n",
      "                   False, False, False, False, False, False, False, False,\n",
      "                   False, False, False, False, False, False, False, False,\n",
      "                   False, False],\n",
      "       fill_value='?',\n",
      "            dtype=object), 'params': [{'max_depth': 2, 'n_estimators': 80}, {'max_depth': 2, 'n_estimators': 120}, {'max_depth': 2, 'n_estimators': 200}, {'max_depth': 2, 'n_estimators': 300}, {'max_depth': 2, 'n_estimators': 500}, {'max_depth': 2, 'n_estimators': 800}, {'max_depth': 2, 'n_estimators': 1200}, {'max_depth': 3, 'n_estimators': 80}, {'max_depth': 3, 'n_estimators': 120}, {'max_depth': 3, 'n_estimators': 200}, {'max_depth': 3, 'n_estimators': 300}, {'max_depth': 3, 'n_estimators': 500}, {'max_depth': 3, 'n_estimators': 800}, {'max_depth': 3, 'n_estimators': 1200}, {'max_depth': 5, 'n_estimators': 80}, {'max_depth': 5, 'n_estimators': 120}, {'max_depth': 5, 'n_estimators': 200}, {'max_depth': 5, 'n_estimators': 300}, {'max_depth': 5, 'n_estimators': 500}, {'max_depth': 5, 'n_estimators': 800}, {'max_depth': 5, 'n_estimators': 1200}, {'max_depth': 8, 'n_estimators': 80}, {'max_depth': 8, 'n_estimators': 120}, {'max_depth': 8, 'n_estimators': 200}, {'max_depth': 8, 'n_estimators': 300}, {'max_depth': 8, 'n_estimators': 500}, {'max_depth': 8, 'n_estimators': 800}, {'max_depth': 8, 'n_estimators': 1200}, {'max_depth': 15, 'n_estimators': 80}, {'max_depth': 15, 'n_estimators': 120}, {'max_depth': 15, 'n_estimators': 200}, {'max_depth': 15, 'n_estimators': 300}, {'max_depth': 15, 'n_estimators': 500}, {'max_depth': 15, 'n_estimators': 800}, {'max_depth': 15, 'n_estimators': 1200}, {'max_depth': 25, 'n_estimators': 80}, {'max_depth': 25, 'n_estimators': 120}, {'max_depth': 25, 'n_estimators': 200}, {'max_depth': 25, 'n_estimators': 300}, {'max_depth': 25, 'n_estimators': 500}, {'max_depth': 25, 'n_estimators': 800}, {'max_depth': 25, 'n_estimators': 1200}], 'split0_test_score': array([0.84146341, 0.84146341, 0.84146341, 0.84146341, 0.84146341,\n",
      "       0.84146341, 0.8445122 , 0.85060976, 0.85060976, 0.85060976,\n",
      "       0.84756098, 0.85060976, 0.85060976, 0.85060976, 0.82926829,\n",
      "       0.83536585, 0.84146341, 0.83841463, 0.83536585, 0.83536585,\n",
      "       0.83231707, 0.82317073, 0.82317073, 0.82317073, 0.82317073,\n",
      "       0.82317073, 0.82621951, 0.82317073, 0.82621951, 0.82317073,\n",
      "       0.82012195, 0.82621951, 0.82317073, 0.82621951, 0.82317073,\n",
      "       0.82621951, 0.82317073, 0.82926829, 0.82621951, 0.82621951,\n",
      "       0.82621951, 0.82621951]), 'split1_test_score': array([0.80487805, 0.80487805, 0.80182927, 0.80487805, 0.80182927,\n",
      "       0.80182927, 0.80182927, 0.81097561, 0.80792683, 0.81707317,\n",
      "       0.81707317, 0.81707317, 0.81097561, 0.81707317, 0.81402439,\n",
      "       0.80792683, 0.81402439, 0.81707317, 0.81402439, 0.81402439,\n",
      "       0.81707317, 0.80182927, 0.80487805, 0.80792683, 0.80487805,\n",
      "       0.80487805, 0.80487805, 0.80487805, 0.79878049, 0.79573171,\n",
      "       0.79573171, 0.79573171, 0.79573171, 0.79573171, 0.79573171,\n",
      "       0.79573171, 0.79573171, 0.79573171, 0.79573171, 0.79573171,\n",
      "       0.79573171, 0.79573171]), 'split2_test_score': array([0.80792683, 0.80792683, 0.80487805, 0.80792683, 0.80792683,\n",
      "       0.80792683, 0.80792683, 0.81097561, 0.81097561, 0.81097561,\n",
      "       0.81707317, 0.81097561, 0.81707317, 0.81097561, 0.81097561,\n",
      "       0.81097561, 0.81097561, 0.81097561, 0.81097561, 0.81097561,\n",
      "       0.81097561, 0.78963415, 0.7804878 , 0.7804878 , 0.78353659,\n",
      "       0.78353659, 0.78353659, 0.7804878 , 0.7804878 , 0.78353659,\n",
      "       0.78353659, 0.78353659, 0.78353659, 0.78353659, 0.7804878 ,\n",
      "       0.7804878 , 0.78353659, 0.7804878 , 0.7804878 , 0.7804878 ,\n",
      "       0.7804878 , 0.78353659]), 'mean_test_score': array([0.81808943, 0.81808943, 0.81605691, 0.81808943, 0.81707317,\n",
      "       0.81707317, 0.81808943, 0.82418699, 0.82317073, 0.82621951,\n",
      "       0.82723577, 0.82621951, 0.82621951, 0.82621951, 0.81808943,\n",
      "       0.81808943, 0.82215447, 0.82215447, 0.82012195, 0.82012195,\n",
      "       0.82012195, 0.80487805, 0.80284553, 0.80386179, 0.80386179,\n",
      "       0.80386179, 0.80487805, 0.80284553, 0.80182927, 0.80081301,\n",
      "       0.79979675, 0.80182927, 0.80081301, 0.80182927, 0.79979675,\n",
      "       0.80081301, 0.80081301, 0.80182927, 0.80081301, 0.80081301,\n",
      "       0.80081301, 0.80182927]), 'std_test_score': array([0.0165747 , 0.0165747 , 0.01800818, 0.0165747 , 0.01742523,\n",
      "       0.01742523, 0.01884882, 0.01868372, 0.0194422 , 0.01742523,\n",
      "       0.01437209, 0.01742523, 0.01742523, 0.01742523, 0.00800204,\n",
      "       0.01227952, 0.0137101 , 0.01176406, 0.01085069, 0.01085069,\n",
      "       0.00897537, 0.01385994, 0.0174844 , 0.01766072, 0.01619652,\n",
      "       0.01619652, 0.01742523, 0.0174844 , 0.01879395, 0.0165747 ,\n",
      "       0.01520999, 0.01795073, 0.0165747 , 0.01795073, 0.01766072,\n",
      "       0.01901249, 0.0165747 , 0.02037595, 0.01901249, 0.01901249,\n",
      "       0.01901249, 0.01795073]), 'rank_test_score': array([13, 13, 21, 13, 19, 19, 13,  6,  7,  2,  1,  2,  2,  2, 17, 17,  8,\n",
      "        8, 10, 10, 10, 22, 27, 24, 24, 24, 22, 27, 32, 34, 41, 29, 34, 29,\n",
      "       41, 34, 34, 32, 34, 34, 34, 29])}\n"
     ]
    }
   ],
   "source": [
    "# 随机森林\n",
    "# n_jobs多线程\n",
    "rf = RandomForestClassifier(n_jobs=-1)\n",
    "param = {'n_estimators': [80, 120, 200, 300, 500, 800, 1200], 'max_depth': [2, 3, 5, 8, 15, 25]}\n",
    "\n",
    "gc = GridSearchCV(rf, param_grid=param, cv=3)\n",
    "gc.fit(x_train, y_train)\n",
    "\n",
    "print(\"准确率：\", gc.score(x_test, y_test))\n",
    "\n",
    "print(\"查看选择的参数模型：\", gc.best_params_)\n",
    "\n",
    "print(\"选择最好的模型是：\", gc.best_estimator_)\n",
    "\n",
    "print(\"每个超参数每次交叉验证的结果：\", gc.cv_results_)\n"
   ],
   "metadata": {
    "collapsed": false,
    "ExecuteTime": {
     "start_time": "2023-07-11T10:10:15.268207Z",
     "end_time": "2023-07-11T10:10:50.104720Z"
    }
   }
  },
  {
   "cell_type": "markdown",
   "source": [
    "# 回归估计器"
   ],
   "metadata": {
    "collapsed": false
   }
  },
  {
   "cell_type": "code",
   "execution_count": 2,
   "outputs": [],
   "source": [
    "from sklearn.linear_model import LinearRegression, SGDRegressor, Ridge, LogisticRegression, Lasso\n",
    "from sklearn.model_selection import train_test_split\n",
    "from sklearn.preprocessing import StandardScaler\n",
    "from sklearn.metrics import mean_squared_error, classification_report, roc_auc_score\n",
    "import joblib"
   ],
   "metadata": {
    "collapsed": false,
    "ExecuteTime": {
     "start_time": "2023-07-16T14:59:32.338992Z",
     "end_time": "2023-07-16T14:59:32.365179Z"
    }
   }
  },
  {
   "cell_type": "code",
   "execution_count": 3,
   "outputs": [
    {
     "name": "stdout",
     "output_type": "stream",
     "text": [
      "<class 'pandas.core.frame.DataFrame'>\n",
      "RangeIndex: 506 entries, 0 to 505\n",
      "Data columns (total 14 columns):\n",
      " #   Column   Non-Null Count  Dtype  \n",
      "---  ------   --------------  -----  \n",
      " 0   CRIM     506 non-null    float64\n",
      " 1   ZN       506 non-null    float64\n",
      " 2   INDUS    506 non-null    float64\n",
      " 3   CHAS     506 non-null    int64  \n",
      " 4   NOX      506 non-null    float64\n",
      " 5   RM       506 non-null    float64\n",
      " 6   AGE      506 non-null    float64\n",
      " 7   DIS      506 non-null    float64\n",
      " 8   RAD      506 non-null    int64  \n",
      " 9   TAX      506 non-null    int64  \n",
      " 10  PTRATIO  506 non-null    float64\n",
      " 11  B        506 non-null    float64\n",
      " 12  LSTAT    506 non-null    float64\n",
      " 13  MEDV     506 non-null    float64\n",
      "dtypes: float64(11), int64(3)\n",
      "memory usage: 55.5 KB\n"
     ]
    }
   ],
   "source": [
    "lb = pd.read_csv('./data/boston.txt')\n",
    "x = lb[['CRIM', 'ZN', 'INDUS', 'CHAS', 'NOX', 'RM', 'AGE', 'DIS', 'RAD', 'TAX', 'PTRATIO', 'B', 'LSTAT']]\n",
    "y = lb[['MEDV']]\n",
    "lb.info()"
   ],
   "metadata": {
    "collapsed": false,
    "ExecuteTime": {
     "start_time": "2023-07-16T14:59:32.894765Z",
     "end_time": "2023-07-16T14:59:32.926210Z"
    }
   }
  },
  {
   "cell_type": "code",
   "execution_count": 30,
   "outputs": [
    {
     "name": "stdout",
     "output_type": "stream",
     "text": [
      "(379, 13)\n",
      "     MEDV\n",
      "502  20.6\n",
      "172  23.1\n",
      "80   28.0\n",
      "46   20.0\n",
      "318  23.1\n",
      "..    ...\n",
      "255  20.9\n",
      "72   22.8\n",
      "396  12.5\n",
      "235  24.0\n",
      "37   21.0\n",
      "\n",
      "[379 rows x 1 columns]\n"
     ]
    },
    {
     "data": {
      "text/plain": "array([[-0.19582006],\n       [ 0.0847902 ],\n       [ 0.63478631],\n       [-0.26316652],\n       [ 0.0847902 ],\n       [ 0.298054  ],\n       [-1.41928078],\n       [ 0.17458549],\n       [ 1.54396354],\n       [-1.0039776 ],\n       [-1.08254847],\n       [ 1.95926673],\n       [-1.34070991],\n       [-0.19582006],\n       [-0.51010354],\n       [-0.31928857],\n       [ 0.15213666],\n       [ 0.69090836],\n       [ 0.21948313],\n       [ 0.16336107],\n       [-0.36418621],\n       [ 0.67968395],\n       [-0.20704447],\n       [ 1.28580211],\n       [-0.88050909],\n       [-0.21826888],\n       [-0.71214293],\n       [-1.01520201],\n       [ 0.9490698 ],\n       [ 0.57866426],\n       [ 0.23070754],\n       [ 0.23070754],\n       [ 0.30927841],\n       [ 2.40824314],\n       [-0.04990272],\n       [ 0.43274692],\n       [-0.91418232],\n       [-0.17337123],\n       [-0.25194211],\n       [ 0.0847902 ],\n       [-1.03765083],\n       [-0.68969411],\n       [ 0.27560518],\n       [-0.2407177 ],\n       [ 0.01744374],\n       [-0.84683585],\n       [ 0.71335718],\n       [-0.25194211],\n       [ 0.11846343],\n       [ 1.08376272],\n       [-0.36418621],\n       [ 3.10415658],\n       [-0.16214682],\n       [-0.07235154],\n       [-0.03867831],\n       [-0.57745001],\n       [ 0.89294775],\n       [-1.12744611],\n       [-0.10602477],\n       [-0.20704447],\n       [ 1.44294385],\n       [-0.30806416],\n       [-0.03867831],\n       [-0.07235154],\n       [-0.92540673],\n       [-0.139698  ],\n       [-0.82438703],\n       [-1.17234375],\n       [-0.26316652],\n       [ 2.12763288],\n       [-0.40908385],\n       [ 3.10415658],\n       [ 3.10415658],\n       [-0.44275708],\n       [-0.49887913],\n       [ 0.64601072],\n       [-0.70091852],\n       [-0.57745001],\n       [ 0.70213277],\n       [ 0.14091225],\n       [-0.21826888],\n       [-0.30806416],\n       [-0.39785944],\n       [ 0.02866815],\n       [-0.52132795],\n       [ 0.91539657],\n       [-0.4652059 ],\n       [-0.19582006],\n       [ 0.23070754],\n       [-0.5662256 ],\n       [-1.01520201],\n       [ 0.05111697],\n       [-0.20704447],\n       [-0.12847359],\n       [-0.39785944],\n       [-0.38663503],\n       [-0.4652059 ],\n       [ 0.0847902 ],\n       [ 1.16233359],\n       [ 0.1858099 ],\n       [-1.36315873],\n       [-0.31928857],\n       [ 1.20723123],\n       [-1.0039776 ],\n       [-0.80193821],\n       [ 0.27560518],\n       [ 0.21948313],\n       [-1.4417296 ],\n       [ 0.20825872],\n       [-0.43153267],\n       [ 2.43069196],\n       [ 3.10415658],\n       [ 0.26438077],\n       [-0.09480036],\n       [-1.56519811],\n       [-0.06112713],\n       [ 3.10415658],\n       [ 0.16336107],\n       [ 1.12866036],\n       [ 0.23070754],\n       [-0.53255237],\n       [ 0.83682569],\n       [-1.43050519],\n       [-0.63357206],\n       [-0.95907996],\n       [ 1.08376272],\n       [-0.70091852],\n       [-1.57642252],\n       [ 0.47764456],\n       [-0.90295791],\n       [-0.82438703],\n       [ 0.67968395],\n       [ 1.10621154],\n       [-0.58867442],\n       [ 0.79192805],\n       [-1.34070991],\n       [-0.62234765],\n       [ 1.02764067],\n       [ 0.57866426],\n       [ 2.73375104],\n       [ 0.57866426],\n       [-0.57745001],\n       [ 0.11846343],\n       [ 1.03886508],\n       [-0.95907996],\n       [-0.03867831],\n       [-0.59989883],\n       [ 0.27560518],\n       [ 0.21948313],\n       [ 0.32050282],\n       [-0.12847359],\n       [-0.19582006],\n       [-0.40908385],\n       [-1.8794816 ],\n       [-0.34173739],\n       [-0.28561534],\n       [-0.00500508],\n       [-0.22949329],\n       [-1.16111934],\n       [ 0.17458549],\n       [-0.65602088],\n       [-1.02642642],\n       [ 1.21845564],\n       [-1.3294855 ],\n       [-1.66621781],\n       [ 0.57866426],\n       [-0.44275708],\n       [ 0.09601461],\n       [-0.95907996],\n       [ 1.46539267],\n       [ 0.07356579],\n       [ 0.298054  ],\n       [-1.69989104],\n       [-0.8917335 ],\n       [-1.52030047],\n       [ 0.03989256],\n       [-1.03765083],\n       [-0.38663503],\n       [ 0.298054  ],\n       [-1.5539737 ],\n       [-0.70091852],\n       [ 0.74703041],\n       [ 0.0847902 ],\n       [-0.34173739],\n       [ 1.20723123],\n       [ 0.25315636],\n       [ 0.07356579],\n       [-0.80193821],\n       [ 0.53376662],\n       [-0.30806416],\n       [ 0.24193195],\n       [-0.22949329],\n       [ 1.40927062],\n       [-0.58867442],\n       [-0.75704057],\n       [ 0.45519574],\n       [ 0.02866815],\n       [-0.75704057],\n       [ 0.74703041],\n       [-0.12847359],\n       [ 0.00621933],\n       [-0.99275319],\n       [-1.19479257],\n       [-0.58867442],\n       [ 1.05008949],\n       [ 0.71335718],\n       [ 0.26438077],\n       [-0.37541062],\n       [-1.69989104],\n       [-0.95907996],\n       [-1.07132406],\n       [ 1.55518795],\n       [ 1.83579821],\n       [-0.43153267],\n       [ 0.75825482],\n       [-0.21826888],\n       [-1.23969022],\n       [-0.55500119],\n       [-1.53152488],\n       [-0.38663503],\n       [ 0.09601461],\n       [-0.01622949],\n       [ 0.75825482],\n       [ 1.37559739],\n       [ 0.298054  ],\n       [ 0.09601461],\n       [ 1.74600293],\n       [-1.72233986],\n       [-0.4652059 ],\n       [-0.34173739],\n       [ 0.48886897],\n       [-0.3529618 ],\n       [ 0.87049892],\n       [-0.19582006],\n       [ 3.10415658],\n       [-0.40908385],\n       [-0.19582006],\n       [ 0.98274303],\n       [-0.93663114],\n       [-0.51010354],\n       [ 2.23987698],\n       [-0.7907138 ],\n       [-0.43153267],\n       [-0.10602477],\n       [-0.82438703],\n       [-0.18459565],\n       [-0.10602477],\n       [-0.07235154],\n       [-0.03867831],\n       [ 1.03886508],\n       [-0.03867831],\n       [-1.36315873],\n       [ 0.02866815],\n       [-0.26316652],\n       [-0.51010354],\n       [-0.98152878],\n       [-1.18356816],\n       [-0.33051298],\n       [-0.10602477],\n       [ 1.18478241],\n       [-0.17337123],\n       [ 0.97151862],\n       [-0.54377678],\n       [-0.77948939],\n       [-1.29581227],\n       [ 1.3868218 ],\n       [ 0.298054  ],\n       [ 2.96946365],\n       [ 2.29599904],\n       [-0.31928857],\n       [ 0.87049892],\n       [-0.01622949],\n       [ 3.10415658],\n       [ 0.0847902 ],\n       [ 1.13988477],\n       [-0.30806416],\n       [-0.83561144],\n       [ 0.45519574],\n       [ 1.64498324],\n       [ 0.19703431],\n       [ 0.24193195],\n       [ 0.15213666],\n       [-1.72233986],\n       [-0.01622949],\n       [ 0.10723902],\n       [-0.75704057],\n       [-1.0039776 ],\n       [ 0.93784539],\n       [-0.00500508],\n       [-0.55500119],\n       [ 3.10415658],\n       [ 0.06234138],\n       [-0.29683975],\n       [-0.75704057],\n       [-0.51010354],\n       [-1.28458786],\n       [ 1.43171944],\n       [-0.74581616],\n       [ 3.10415658],\n       [ 0.05111697],\n       [-0.27439093],\n       [-0.25194211],\n       [-0.33051298],\n       [ 2.65518017],\n       [ 0.09601461],\n       [ 1.7123297 ],\n       [ 0.0847902 ],\n       [-0.94785555],\n       [ 1.22968006],\n       [ 1.19600682],\n       [-0.27439093],\n       [-0.22949329],\n       [ 3.10415658],\n       [-0.33051298],\n       [-0.31928857],\n       [ 0.05111697],\n       [-0.64479647],\n       [-0.26316652],\n       [ 0.26438077],\n       [ 2.5878337 ],\n       [ 1.24090447],\n       [-0.10602477],\n       [-0.33051298],\n       [-1.94682807],\n       [-1.67744222],\n       [-0.25194211],\n       [-1.08254847],\n       [-0.22949329],\n       [-0.92540673],\n       [-0.45398149],\n       [-0.27439093],\n       [ 0.10723902],\n       [ 1.58886119],\n       [-0.26316652],\n       [-0.51010354],\n       [-1.52030047],\n       [-0.08357595],\n       [-0.08357595],\n       [-0.80193821],\n       [-0.28561534],\n       [-0.15092241],\n       [ 0.53376662],\n       [-0.62234765],\n       [-0.8917335 ],\n       [ 0.01744374],\n       [-0.42030826],\n       [-0.25194211],\n       [-0.30806416],\n       [ 0.298054  ],\n       [-0.55500119],\n       [-0.29683975],\n       [-1.94682807],\n       [-0.6784697 ],\n       [-1.03765083],\n       [ 0.81437687],\n       [-1.03765083],\n       [-0.36418621],\n       [-1.14989493],\n       [-0.07235154],\n       [-0.04990272],\n       [ 1.21845564],\n       [ 0.8480501 ],\n       [ 1.46539267],\n       [-0.81316262],\n       [ 1.02764067],\n       [-0.07235154],\n       [-0.66724529],\n       [-0.90295791],\n       [-1.18356816],\n       [-0.92540673],\n       [-0.139698  ],\n       [-0.44275708],\n       [ 2.93579042],\n       [-0.95907996],\n       [-0.16214682],\n       [ 0.05111697],\n       [-1.10499729],\n       [ 0.1858099 ],\n       [-0.15092241]])"
     },
     "execution_count": 30,
     "metadata": {},
     "output_type": "execute_result"
    }
   ],
   "source": [
    "# 分割数据集到训练集和测试集\n",
    "x_train, x_test, y_train, y_test = train_test_split(x, y, test_size=0.25, random_state=1)\n",
    "#\n",
    "print(x_train.shape)\n",
    "#\n",
    "# # 进行标准化处理(?) 目标值处理？\n",
    "# # 特征值和目标值是都必须进行标准化处理, 实例化两个标准化API\n",
    "std_x = StandardScaler()\n",
    "#\n",
    "x_train = std_x.fit_transform(x_train)\n",
    "x_test = std_x.transform(x_test)\n",
    "\n",
    "# 目标值进行了标准化\n",
    "std_y = StandardScaler()\n",
    "#\n",
    "temp = y_train\n",
    "print(temp)\n",
    "y_train = std_y.fit_transform(y_train)  # 目标值是一维的，这里需要传进去2维的.reshape(-1,1)\n",
    "\n",
    "y_test = std_y.transform(y_test)\n",
    "y_train"
   ],
   "metadata": {
    "collapsed": false,
    "ExecuteTime": {
     "start_time": "2023-07-16T15:34:47.736318Z",
     "end_time": "2023-07-16T15:34:47.764126Z"
    }
   }
  },
  {
   "cell_type": "code",
   "execution_count": 16,
   "outputs": [
    {
     "name": "stdout",
     "output_type": "stream",
     "text": [
      "回归系数 [[-0.12026411  0.15044778  0.02951803  0.07470354 -0.28043353  0.22170939\n",
      "   0.02190624 -0.35275513  0.29939558 -0.2028089  -0.23911894  0.06305081\n",
      "  -0.45259462]]\n",
      "正规方程测试集里面每个房子的预测价格： [[32.37816533]\n",
      " [27.95684437]\n",
      " [18.07213891]\n",
      " [21.63166556]\n",
      " [18.93029508]\n",
      " [19.96277202]\n",
      " [32.2834674 ]\n",
      " [18.06715668]\n",
      " [24.72989076]\n",
      " [26.85359369]]\n",
      "正规方程的均方误差： 0.2758842244225055\n",
      "保存的模型预测的结果： [[ 1.12620955]\n",
      " [ 0.62994234]\n",
      " [-0.47955756]\n",
      " [-0.08002168]\n",
      " [-0.38323459]\n",
      " [-0.26734514]\n",
      " [ 1.11558027]\n",
      " [-0.48011678]\n",
      " [ 0.26773583]\n",
      " [ 0.50610896]\n",
      " [ 0.54872518]\n",
      " [ 0.69878929]\n",
      " [-0.12984488]\n",
      " [ 0.51624959]\n",
      " [ 0.11609798]\n",
      " [-0.16307075]\n",
      " [-0.58671359]\n",
      " [ 1.72804157]\n",
      " [ 0.91761907]\n",
      " [-1.56015899]\n",
      " [-0.16601029]\n",
      " [-0.68746111]\n",
      " [ 0.31332585]\n",
      " [ 0.27297733]\n",
      " [ 1.01697482]\n",
      " [-1.27028638]\n",
      " [-0.95672557]\n",
      " [-0.62211389]\n",
      " [ 1.5267197 ]\n",
      " [-0.8563123 ]\n",
      " [-0.12405138]\n",
      " [-0.91970532]\n",
      " [ 2.28757241]\n",
      " [-0.50574043]\n",
      " [-0.05595243]\n",
      " [-0.21806897]\n",
      " [-0.54345359]\n",
      " [ 0.52264682]\n",
      " [-1.40720286]\n",
      " [-0.26284251]\n",
      " [ 0.21619076]\n",
      " [-0.14338071]\n",
      " [ 0.79988591]\n",
      " [-0.65772411]\n",
      " [-0.33180076]\n",
      " [-0.87514574]\n",
      " [ 1.91418761]\n",
      " [-0.47664284]\n",
      " [ 0.43517699]\n",
      " [-0.1950607 ]\n",
      " [ 0.30927175]\n",
      " [ 0.24009869]\n",
      " [ 0.30063331]\n",
      " [ 0.50569088]\n",
      " [-1.94512422]\n",
      " [ 0.20018782]\n",
      " [-1.30384514]\n",
      " [ 0.50366068]\n",
      " [-0.6220835 ]\n",
      " [ 1.47453167]\n",
      " [-0.31823582]\n",
      " [ 0.57109939]\n",
      " [-0.64702253]\n",
      " [-0.35840699]\n",
      " [-1.27347275]\n",
      " [ 1.08939349]\n",
      " [ 1.56941248]\n",
      " [-0.05443313]\n",
      " [ 0.27738264]\n",
      " [ 0.33502069]\n",
      " [ 0.11486652]\n",
      " [-1.72418493]\n",
      " [-0.61811069]\n",
      " [-0.23281138]\n",
      " [-0.17910595]\n",
      " [-0.05448418]\n",
      " [ 1.32820326]\n",
      " [ 0.62880761]\n",
      " [ 0.28237344]\n",
      " [ 1.3569826 ]\n",
      " [-0.41845418]\n",
      " [ 0.18839435]\n",
      " [ 1.35925408]\n",
      " [-1.01266   ]\n",
      " [-0.18286696]\n",
      " [ 0.87704764]\n",
      " [-0.59247755]\n",
      " [ 0.20839319]\n",
      " [-0.35514837]\n",
      " [-0.60196364]\n",
      " [ 0.50091753]\n",
      " [ 2.09695301]\n",
      " [-0.88638171]\n",
      " [ 0.10386413]\n",
      " [-0.83134257]\n",
      " [-0.04651539]\n",
      " [ 0.05322503]\n",
      " [ 0.76551368]\n",
      " [ 1.61168478]\n",
      " [-0.21671192]\n",
      " [-0.50247036]\n",
      " [-0.5438412 ]\n",
      " [ 0.3061877 ]\n",
      " [-0.04061622]\n",
      " [-1.57793495]\n",
      " [-0.09235677]\n",
      " [-0.65513559]\n",
      " [ 1.19613535]\n",
      " [ 0.24158778]\n",
      " [ 0.30758487]\n",
      " [ 1.79047623]\n",
      " [ 0.73947994]\n",
      " [-0.84068691]\n",
      " [ 1.39163914]\n",
      " [ 1.47665016]\n",
      " [ 1.18433322]\n",
      " [-0.15308932]\n",
      " [-0.63598571]\n",
      " [ 1.33600772]\n",
      " [ 1.87079503]\n",
      " [-0.08675261]\n",
      " [-0.74431491]\n",
      " [ 0.55971944]\n",
      " [-0.40532352]\n",
      " [ 0.55334   ]\n",
      " [-0.13251185]\n",
      " [ 0.4108134 ]]\n",
      "正规方程的均方误差： 0.2758842244225055\n",
      "正规方程inverse后的均方误差： 21.897765396049497\n"
     ]
    }
   ],
   "source": [
    "# # estimator预测\n",
    "# # # 正规方程求解方式预测结果，正规方程进行线性回归\n",
    "lr = LinearRegression()\n",
    "# #\n",
    "lr.fit(x_train, y_train)\n",
    "#\n",
    "print('回归系数', lr.coef_)  #回归系数可以看特征与目标之间的相关性\n",
    "#\n",
    "y_predict = lr.predict(x_test)\n",
    "# 预测测试集的房子价格，通过inverse得到真正的房子价格\n",
    "y_lr_predict = std_y.inverse_transform(y_predict)\n",
    "# 保存训练好的模型\n",
    "joblib.dump(lr, \"./test.pkl\")\n",
    "# numpy nparray\n",
    "print(\"正规方程测试集里面每个房子的预测价格：\", y_lr_predict[:10])\n",
    "print(\"正规方程的均方误差：\", mean_squared_error(y_test, y_predict))\n",
    "\n",
    "model = joblib.load(\"./test.pkl\")\n",
    "# # 因为目标值进行了标准化，一定要把预测后的值逆向转换回来\n",
    "y_predict = model.predict(x_test)\n",
    "\n",
    "#\n",
    "print(\"保存的模型预测的结果：\", y_predict)\n",
    "print(\"正规方程的均方误差：\", mean_squared_error(y_test, y_predict))\n",
    "\n",
    "print(\"正规方程inverse后的均方误差：\", mean_squared_error(std_y.inverse_transform(y_test),\n",
    "                                                         std_y.inverse_transform(y_predict)))"
   ],
   "metadata": {
    "collapsed": false,
    "ExecuteTime": {
     "start_time": "2023-07-16T14:58:44.939189Z",
     "end_time": "2023-07-16T14:58:44.956205Z"
    }
   }
  },
  {
   "cell_type": "code",
   "execution_count": 14,
   "outputs": [
    {
     "name": "stdout",
     "output_type": "stream",
     "text": [
      "回归系数 [-0.09852439  0.08806775 -0.02550401  0.08037284 -0.18837667  0.26227175\n",
      " -0.0052782  -0.26428155  0.12660814 -0.04476513 -0.22535461  0.07244962\n",
      " -0.42356913]\n",
      "(127, 1)\n",
      "预测房价 [[30.66292458]\n",
      " [28.19475027]\n",
      " [18.16877108]\n",
      " [22.41828876]\n",
      " [18.48583383]\n",
      " [20.48564984]\n",
      " [30.49792739]\n",
      " [18.46134478]\n",
      " [23.96593299]\n",
      " [27.0145357 ]\n",
      " [26.46244625]\n",
      " [29.31505489]\n",
      " [21.62018423]\n",
      " [26.00827615]\n",
      " [23.02535706]\n",
      " [19.66339065]\n",
      " [17.09533109]\n",
      " [37.8802213 ]\n",
      " [30.00842928]\n",
      " [ 9.66056251]\n",
      " [20.85566835]\n",
      " [17.11581033]\n",
      " [25.29343348]\n",
      " [25.13463035]\n",
      " [30.64887931]\n",
      " [10.57550216]\n",
      " [14.24726679]\n",
      " [18.9386976 ]\n",
      " [35.82060167]\n",
      " [14.12488706]\n",
      " [23.42481421]\n",
      " [14.5799433 ]\n",
      " [40.94425859]\n",
      " [18.04455821]\n",
      " [23.90495484]\n",
      " [21.02536425]\n",
      " [17.61820462]\n",
      " [27.97239404]\n",
      " [ 8.38361003]\n",
      " [19.54788528]\n",
      " [26.25853528]\n",
      " [21.85412175]\n",
      " [28.80312899]\n",
      " [15.67296453]\n",
      " [18.7252092 ]\n",
      " [14.87105913]\n",
      " [39.65083594]\n",
      " [17.72306571]\n",
      " [25.69332046]\n",
      " [20.66965923]\n",
      " [24.89047973]\n",
      " [24.48180201]\n",
      " [25.5707183 ]\n",
      " [26.42850612]\n",
      " [ 6.96425987]\n",
      " [23.95251348]\n",
      " [10.73663319]\n",
      " [26.58761327]\n",
      " [17.39676584]\n",
      " [35.7473921 ]\n",
      " [19.39963155]\n",
      " [27.52325244]\n",
      " [16.04693973]\n",
      " [18.08513467]\n",
      " [11.24107421]\n",
      " [31.59003464]\n",
      " [36.64268795]\n",
      " [24.94628717]\n",
      " [24.50687248]\n",
      " [24.92875431]\n",
      " [24.02456704]\n",
      " [ 6.50023747]\n",
      " [15.8083098 ]\n",
      " [21.07215584]\n",
      " [20.86677379]\n",
      " [21.18385106]\n",
      " [33.28692283]\n",
      " [28.322209  ]\n",
      " [26.14889833]\n",
      " [32.84454467]\n",
      " [19.13028719]\n",
      " [24.33911784]\n",
      " [34.63575511]\n",
      " [13.72635582]\n",
      " [22.72279008]\n",
      " [30.10005883]\n",
      " [17.12570111]\n",
      " [24.99866487]\n",
      " [19.70108081]\n",
      " [17.61888881]\n",
      " [26.96117844]\n",
      " [41.34689452]\n",
      " [16.52512684]\n",
      " [23.54983555]\n",
      " [14.88174598]\n",
      " [22.34643858]\n",
      " [23.21315903]\n",
      " [27.63918547]\n",
      " [36.6232339 ]\n",
      " [21.03956363]\n",
      " [16.69168505]\n",
      " [17.80341854]\n",
      " [25.45562317]\n",
      " [22.19173399]\n",
      " [ 8.06693442]\n",
      " [22.07399507]\n",
      " [15.08065677]\n",
      " [32.46417992]\n",
      " [23.95943155]\n",
      " [25.71458445]\n",
      " [38.08351945]\n",
      " [28.50515355]\n",
      " [14.52223104]\n",
      " [33.24634941]\n",
      " [35.11154783]\n",
      " [33.7918084 ]\n",
      " [21.04405184]\n",
      " [17.01068697]\n",
      " [33.3036259 ]\n",
      " [39.09308071]\n",
      " [23.34179397]\n",
      " [15.82875838]\n",
      " [28.02941713]\n",
      " [18.98964272]\n",
      " [26.90005426]\n",
      " [21.62720183]\n",
      " [25.89767124]]\n",
      "预测和真实均方差 21.68893085793695\n"
     ]
    },
    {
     "name": "stderr",
     "output_type": "stream",
     "text": [
      "C:\\DevEnvironment\\Python\\lib\\site-packages\\sklearn\\utils\\validation.py:1143: DataConversionWarning: A column-vector y was passed when a 1d array was expected. Please change the shape of y to (n_samples, ), for example using ravel().\n",
      "  y = column_or_1d(y, warn=True)\n"
     ]
    }
   ],
   "source": [
    "# 梯度下降SGD\n",
    "# eta0 可以影响learning rate\n",
    "# alpha 学习率\n",
    "sgd = SGDRegressor(eta0=0.008)\n",
    "\n",
    "# train\n",
    "sgd.fit(x_train, y_train)\n",
    "print('回归系数', sgd.coef_)\n",
    "# predict\n",
    "print(sgd.predict(x_test).reshape(-1, 1).shape)\n",
    "y_sgd_predict = std_y.inverse_transform(sgd.predict(x_test).reshape(-1, 1))\n",
    "print('预测房价', y_sgd_predict)\n",
    "print('预测和真实均方误差', mean_squared_error(std_y.inverse_transform(y_test), y_sgd_predict))"
   ],
   "metadata": {
    "collapsed": false,
    "ExecuteTime": {
     "start_time": "2023-07-16T15:03:01.808215Z",
     "end_time": "2023-07-16T15:03:01.821685Z"
    }
   }
  },
  {
   "cell_type": "code",
   "execution_count": 31,
   "outputs": [
    {
     "name": "stdout",
     "output_type": "stream",
     "text": [
      "预测值 [[32.27788712]\n",
      " [27.97062942]\n",
      " [18.08221734]\n",
      " [21.67911955]\n",
      " [18.89989493]\n",
      " [19.99160849]\n",
      " [32.18850163]\n",
      " [18.09317271]\n",
      " [24.69100707]\n",
      " [26.86143218]\n",
      " [27.18175379]\n",
      " [28.60639171]\n",
      " [21.22024431]\n",
      " [26.90759817]\n",
      " [23.36023739]\n",
      " [20.82838756]\n",
      " [17.11921307]\n",
      " [37.71889428]\n",
      " [30.50280732]\n",
      " [ 8.51737251]\n",
      " [20.8658213 ]\n",
      " [16.26699766]\n",
      " [25.13723959]\n",
      " [24.78750631]\n",
      " [31.36906826]\n",
      " [11.02639904]\n",
      " [13.8611032 ]\n",
      " [16.92095375]\n",
      " [35.91514277]\n",
      " [14.69059275]\n",
      " [21.36068096]\n",
      " [14.18562312]\n",
      " [42.61367958]\n",
      " [17.84368512]\n",
      " [21.96313651]\n",
      " [20.44038919]\n",
      " [17.50625425]\n",
      " [27.03785018]\n",
      " [ 9.75450729]\n",
      " [19.97716177]\n",
      " [24.38128039]\n",
      " [21.09695451]\n",
      " [29.42411173]\n",
      " [16.4538311 ]\n",
      " [19.3553426 ]\n",
      " [14.57575771]\n",
      " [39.38727906]\n",
      " [18.07722696]\n",
      " [26.19148035]\n",
      " [20.62897054]\n",
      " [25.0780679 ]\n",
      " [24.48221524]\n",
      " [25.04274754]\n",
      " [26.82288291]\n",
      " [ 5.16530701]\n",
      " [24.11001356]\n",
      " [10.74334899]\n",
      " [26.81266559]\n",
      " [16.84043883]\n",
      " [35.46885367]\n",
      " [19.4992683 ]\n",
      " [27.4305732 ]\n",
      " [16.55526972]\n",
      " [19.10861747]\n",
      " [11.03414315]\n",
      " [32.01128871]\n",
      " [36.31428646]\n",
      " [22.02675874]\n",
      " [24.79328005]\n",
      " [25.30301219]\n",
      " [23.39457276]\n",
      " [ 6.97822486]\n",
      " [16.78821598]\n",
      " [20.31227638]\n",
      " [20.76723742]\n",
      " [21.82115663]\n",
      " [34.11520552]\n",
      " [27.97085178]\n",
      " [24.90472736]\n",
      " [34.34472252]\n",
      " [18.64862768]\n",
      " [24.04408473]\n",
      " [34.46117556]\n",
      " [13.35306256]\n",
      " [20.82723562]\n",
      " [30.15698983]\n",
      " [17.06915946]\n",
      " [24.23340061]\n",
      " [19.21474374]\n",
      " [17.02220458]\n",
      " [26.80619291]\n",
      " [41.00866872]\n",
      " [14.58411259]\n",
      " [23.28051541]\n",
      " [14.94742156]\n",
      " [21.94810172]\n",
      " [22.83667308]\n",
      " [29.07738101]\n",
      " [36.6733122 ]\n",
      " [20.45632757]\n",
      " [17.82371761]\n",
      " [17.51037237]\n",
      " [25.08410255]\n",
      " [21.98669898]\n",
      " [ 8.29245278]\n",
      " [21.55665323]\n",
      " [16.45430498]\n",
      " [32.96526053]\n",
      " [24.467673  ]\n",
      " [25.11817732]\n",
      " [38.25886408]\n",
      " [28.90530285]\n",
      " [14.85081139]\n",
      " [34.64913731]\n",
      " [35.45759382]\n",
      " [32.9362144 ]\n",
      " [20.9790252 ]\n",
      " [16.7079227 ]\n",
      " [34.19146909]\n",
      " [38.98886919]\n",
      " [21.67645897]\n",
      " [15.72828073]\n",
      " [27.35409898]\n",
      " [18.73844409]\n",
      " [27.25224162]\n",
      " [21.19295694]\n",
      " [25.98995967]]\n",
      "均方误差 21.68893085793695\n"
     ]
    }
   ],
   "source": [
    "# 岭回归,线性回归+l2正则化\n",
    "rd = Ridge(alpha=0.9)\n",
    "rd.fit(x_train, y_train)\n",
    "y_rd_predict = std_y.inverse_transform(rd.predict(x_test))\n",
    "\n",
    "print('预测值', y_rd_predict)\n",
    "print('均方误差', mean_squared_error(std_y.inverse_transform(y_test), y_sgd_predict))"
   ],
   "metadata": {
    "collapsed": false,
    "ExecuteTime": {
     "start_time": "2023-07-16T18:05:37.852297Z",
     "end_time": "2023-07-16T18:05:37.868212Z"
    }
   }
  },
  {
   "cell_type": "markdown",
   "source": [
    "## 逻辑回归"
   ],
   "metadata": {
    "collapsed": false
   }
  },
  {
   "cell_type": "code",
   "execution_count": 34,
   "outputs": [
    {
     "name": "stdout",
     "output_type": "stream",
     "text": [
      "     Sample code number  Clump Thickness  Uniformity of Cell Size   \n",
      "0               1000025                5                        1  \\\n",
      "1               1002945                5                        4   \n",
      "2               1015425                3                        1   \n",
      "3               1016277                6                        8   \n",
      "4               1017023                4                        1   \n",
      "..                  ...              ...                      ...   \n",
      "694              776715                3                        1   \n",
      "695              841769                2                        1   \n",
      "696              888820                5                       10   \n",
      "697              897471                4                        8   \n",
      "698              897471                4                        8   \n",
      "\n",
      "     Uniformity of Cell Shape  Marginal Adhesion  Single Epithelial Cell Size   \n",
      "0                           1                  1                            2  \\\n",
      "1                           4                  5                            7   \n",
      "2                           1                  1                            2   \n",
      "3                           8                  1                            3   \n",
      "4                           1                  3                            2   \n",
      "..                        ...                ...                          ...   \n",
      "694                         1                  1                            3   \n",
      "695                         1                  1                            2   \n",
      "696                        10                  3                            7   \n",
      "697                         6                  4                            3   \n",
      "698                         8                  5                            4   \n",
      "\n",
      "    Bare Nuclei  Bland Chromatin  Normal Nucleoli  Mitoses  Class  \n",
      "0             1                3                1        1      2  \n",
      "1            10                3                2        1      2  \n",
      "2             2                3                1        1      2  \n",
      "3             4                3                7        1      2  \n",
      "4             1                3                1        1      2  \n",
      "..          ...              ...              ...      ...    ...  \n",
      "694           2                1                1        1      2  \n",
      "695           1                1                1        1      2  \n",
      "696           3                8               10        2      4  \n",
      "697           4               10                6        1      4  \n",
      "698           5               10                4        1      4  \n",
      "\n",
      "[699 rows x 11 columns]\n"
     ]
    }
   ],
   "source": [
    "# 逻辑回归\n",
    "\"\"\"\n",
    "    逻辑回归做二分类进行癌症预测（根据细胞的属性特征）\n",
    "    :return: NOne\n",
    "    \"\"\"\n",
    "# 构造列标签名字\n",
    "column = ['Sample code number', 'Clump Thickness', 'Uniformity of Cell Size', 'Uniformity of Cell Shape',\n",
    "          'Marginal Adhesion', 'Single Epithelial Cell Size', 'Bare Nuclei', 'Bland Chromatin', 'Normal Nucleoli',\n",
    "          'Mitoses', 'Class']\n",
    "\n",
    "# 读取数据\n",
    "data = pd.read_csv(\n",
    "    \"https://archive.ics.uci.edu/ml/machine-learning-databases/breast-cancer-wisconsin/breast-cancer-wisconsin.data\",\n",
    "    names=column)\n",
    "\n",
    "print(data)\n"
   ],
   "metadata": {
    "collapsed": false,
    "ExecuteTime": {
     "start_time": "2023-07-16T18:09:09.413615Z",
     "end_time": "2023-07-16T18:09:10.351490Z"
    }
   }
  },
  {
   "cell_type": "code",
   "execution_count": 39,
   "outputs": [
    {
     "name": "stdout",
     "output_type": "stream",
     "text": [
      "[[ 1.1750048   1.05701464  1.14506786  0.70357337 -0.23757271  1.64306556\n",
      "   0.60961872  0.99178725  0.78437265]]\n",
      "[2 2 4 2 2 2 2 4 2 4 4 4 4 4 4 2 2 4 4 2 4 4 2 2 4 2 4 2 4 2 2 2 2 2 2 2 2\n",
      " 2 4 4 2 4 2 4 2 2 4 2 4 2 2 2 4 2 4 4 2 4 2 2 2 2 2 2 4 2 2 2 4 4 2 2 2 2\n",
      " 2 4 2 4 4 4 2 4 2 4 4 2 2 2 2 2 2 2 2 4 4 2 2 2 2 4 2 2 4 4 4 4 2 2 2 4 4\n",
      " 4 2 2 2 2 4 2 4 4 4 4 4 2 2 2 2 2 2 4 2 4 4 2 2 4 2 2 2 2 2 4 2 2 4 2 4 2\n",
      " 2 4 4 4 2 2 2 2 2 2 2 2 2 2 4 2 4 2 4 2 2 4 2]\n",
      "准确率 0.9415204678362573\n",
      "召回率               precision    recall  f1-score   support\n",
      "\n",
      "          良性       0.95      0.95      0.95       106\n",
      "          恶行       0.92      0.92      0.92        65\n",
      "\n",
      "    accuracy                           0.94       171\n",
      "   macro avg       0.94      0.94      0.94       171\n",
      "weighted avg       0.94      0.94      0.94       171\n",
      "\n",
      "auc 0.9379535558780843\n"
     ]
    }
   ],
   "source": [
    "# dataset中缺失值用？代替\n",
    "data = data.replace(to_replace='?', value=np.nan)\n",
    "data = data.dropna()\n",
    "x_train,x_test,y_train,y_test = train_test_split(data[column[1:10]], data[column[10]], test_size=0.25)\n",
    "\n",
    "std = StandardScaler()\n",
    "x_train = std.fit_transform(x_train)\n",
    "x_test = std.transform(x_test)\n",
    "\n",
    "# logisticregression 预测\n",
    "# C为正则化力度\n",
    "lg = LogisticRegression(C=1)\n",
    "lg.fit(x_train,y_train)\n",
    "print(lg.coef_)\n",
    "\n",
    "y_predict = lg.predict(x_test)\n",
    "\n",
    "print(y_predict)\n",
    "\n",
    "print('准确率', lg.score(x_test,y_test))\n",
    "print('召回率', classification_report(y_test,y_predict,labels=[2,4],target_names=['良性','恶行']))\n",
    "print('auc',roc_auc_score(y_test,y_predict))"
   ],
   "metadata": {
    "collapsed": false,
    "ExecuteTime": {
     "start_time": "2023-07-16T21:08:01.521202Z",
     "end_time": "2023-07-16T21:08:01.569179Z"
    }
   }
  },
  {
   "cell_type": "markdown",
   "source": [
    "# 无监督学习 聚类kmeans"
   ],
   "metadata": {
    "collapsed": false
   }
  },
  {
   "cell_type": "code",
   "execution_count": 40,
   "outputs": [],
   "source": [
    "import pandas as pd\n",
    "from sklearn.decomposition import PCA\n",
    "from sklearn.cluster import KMeans\n",
    "import matplotlib.pyplot as plt\n",
    "from sklearn.metrics import silhouette_score"
   ],
   "metadata": {
    "collapsed": false,
    "ExecuteTime": {
     "start_time": "2023-07-16T21:08:36.267681Z",
     "end_time": "2023-07-16T21:08:36.596734Z"
    }
   }
  },
  {
   "cell_type": "code",
   "execution_count": 41,
   "outputs": [
    {
     "data": {
      "text/plain": "   order_id  product_id  add_to_cart_order  reordered        product_name   \n0         2       33120                  1          1  Organic Egg Whites  \\\n1        26       33120                  5          0  Organic Egg Whites   \n2       120       33120                 13          0  Organic Egg Whites   \n\n   aisle_id  department_id  user_id eval_set  order_number  order_dow   \n0        86             16   202279    prior             3          5  \\\n1        86             16   153404    prior             2          0   \n2        86             16    23750    prior            11          6   \n\n   order_hour_of_day  days_since_prior_order aisle  \n0                  9                     8.0  eggs  \n1                 16                     7.0  eggs  \n2                  8                    10.0  eggs  ",
      "text/html": "<div>\n<style scoped>\n    .dataframe tbody tr th:only-of-type {\n        vertical-align: middle;\n    }\n\n    .dataframe tbody tr th {\n        vertical-align: top;\n    }\n\n    .dataframe thead th {\n        text-align: right;\n    }\n</style>\n<table border=\"1\" class=\"dataframe\">\n  <thead>\n    <tr style=\"text-align: right;\">\n      <th></th>\n      <th>order_id</th>\n      <th>product_id</th>\n      <th>add_to_cart_order</th>\n      <th>reordered</th>\n      <th>product_name</th>\n      <th>aisle_id</th>\n      <th>department_id</th>\n      <th>user_id</th>\n      <th>eval_set</th>\n      <th>order_number</th>\n      <th>order_dow</th>\n      <th>order_hour_of_day</th>\n      <th>days_since_prior_order</th>\n      <th>aisle</th>\n    </tr>\n  </thead>\n  <tbody>\n    <tr>\n      <th>0</th>\n      <td>2</td>\n      <td>33120</td>\n      <td>1</td>\n      <td>1</td>\n      <td>Organic Egg Whites</td>\n      <td>86</td>\n      <td>16</td>\n      <td>202279</td>\n      <td>prior</td>\n      <td>3</td>\n      <td>5</td>\n      <td>9</td>\n      <td>8.0</td>\n      <td>eggs</td>\n    </tr>\n    <tr>\n      <th>1</th>\n      <td>26</td>\n      <td>33120</td>\n      <td>5</td>\n      <td>0</td>\n      <td>Organic Egg Whites</td>\n      <td>86</td>\n      <td>16</td>\n      <td>153404</td>\n      <td>prior</td>\n      <td>2</td>\n      <td>0</td>\n      <td>16</td>\n      <td>7.0</td>\n      <td>eggs</td>\n    </tr>\n    <tr>\n      <th>2</th>\n      <td>120</td>\n      <td>33120</td>\n      <td>13</td>\n      <td>0</td>\n      <td>Organic Egg Whites</td>\n      <td>86</td>\n      <td>16</td>\n      <td>23750</td>\n      <td>prior</td>\n      <td>11</td>\n      <td>6</td>\n      <td>8</td>\n      <td>10.0</td>\n      <td>eggs</td>\n    </tr>\n  </tbody>\n</table>\n</div>"
     },
     "execution_count": 41,
     "metadata": {},
     "output_type": "execute_result"
    }
   ],
   "source": [
    "# 读取四张表的数据\n",
    "#读取了订单和产品的关联，csv比较大  order\\product id\n",
    "prior = pd.read_csv(\"./data/instacart/order_products__prior.csv\")\n",
    "#产品id和产品名称的对应           product\\aisle\\department id\n",
    "products = pd.read_csv(\"./data/instacart/products.csv\")\n",
    "#订单id和用户id的对应，csv比较大    order\\user id\n",
    "orders = pd.read_csv(\"./data/instacart/orders.csv\")\n",
    "#超市的过道，过道放的产品的品类       aisle id\n",
    "aisles = pd.read_csv(\"./data/instacart/aisles.csv\")\n",
    "# 合并四张表到一张表  （用户-物品类别）\n",
    "_mg = pd.merge(prior, products, on=['product_id', 'product_id'])\n",
    "_mg = pd.merge(_mg, orders, on=['order_id', 'order_id'])\n",
    "mt = pd.merge(_mg, aisles, on=['aisle_id', 'aisle_id'])\n",
    "mt.head(3)"
   ],
   "metadata": {
    "collapsed": false,
    "ExecuteTime": {
     "start_time": "2023-07-16T21:15:33.452925Z",
     "end_time": "2023-07-16T21:15:57.096780Z"
    }
   }
  },
  {
   "cell_type": "code",
   "execution_count": 45,
   "outputs": [
    {
     "name": "stdout",
     "output_type": "stream",
     "text": [
      "aisle    air fresheners candles  asian foods  baby accessories   \n",
      "user_id                                                          \n",
      "1                             0            0                 0  \\\n",
      "2                             0            3                 0   \n",
      "3                             0            0                 0   \n",
      "\n",
      "aisle    baby bath body care  baby food formula  bakery desserts   \n",
      "user_id                                                            \n",
      "1                          0                  0                0  \\\n",
      "2                          0                  0                0   \n",
      "3                          0                  0                0   \n",
      "\n",
      "aisle    baking ingredients  baking supplies decor  beauty  beers coolers   \n",
      "user_id                                                                     \n",
      "1                         0                      0       0              0  \\\n",
      "2                         2                      0       0              0   \n",
      "3                         0                      0       0              0   \n",
      "\n",
      "aisle    ...  spreads  tea  tofu meat alternatives  tortillas flat bread   \n",
      "user_id  ...                                                               \n",
      "1        ...        1    0                       0                     0  \\\n",
      "2        ...        3    1                       1                     0   \n",
      "3        ...        4    1                       0                     0   \n",
      "\n",
      "aisle    trail mix snack mix  trash bags liners  vitamins supplements   \n",
      "user_id                                                                 \n",
      "1                          0                  0                     0  \\\n",
      "2                          0                  0                     0   \n",
      "3                          0                  0                     0   \n",
      "\n",
      "aisle    water seltzer sparkling water  white wines  yogurt  \n",
      "user_id                                                      \n",
      "1                                    0            0       1  \n",
      "2                                    2            0      42  \n",
      "3                                    2            0       0  \n",
      "\n",
      "[3 rows x 134 columns]\n",
      "(32434489, 14)\n",
      "aisle    air fresheners candles  asian foods  baby accessories   \n",
      "user_id                                                          \n",
      "1                             0            0                 0  \\\n",
      "2                             0            3                 0   \n",
      "3                             0            0                 0   \n",
      "\n",
      "aisle    baby bath body care  baby food formula  bakery desserts   \n",
      "user_id                                                            \n",
      "1                          0                  0                0  \\\n",
      "2                          0                  0                0   \n",
      "3                          0                  0                0   \n",
      "\n",
      "aisle    baking ingredients  baking supplies decor  beauty  beers coolers   \n",
      "user_id                                                                     \n",
      "1                         0                      0       0              0  \\\n",
      "2                         2                      0       0              0   \n",
      "3                         0                      0       0              0   \n",
      "\n",
      "aisle    ...  spreads  tea  tofu meat alternatives  tortillas flat bread   \n",
      "user_id  ...                                                               \n",
      "1        ...        1    0                       0                     0  \\\n",
      "2        ...        3    1                       1                     0   \n",
      "3        ...        4    1                       0                     0   \n",
      "\n",
      "aisle    trail mix snack mix  trash bags liners  vitamins supplements   \n",
      "user_id                                                                 \n",
      "1                          0                  0                     0  \\\n",
      "2                          0                  0                     0   \n",
      "3                          0                  0                     0   \n",
      "\n",
      "aisle    water seltzer sparkling water  white wines  yogurt  \n",
      "user_id                                                      \n",
      "1                                    0            0       1  \n",
      "2                                    2            0      42  \n",
      "3                                    2            0       0  \n",
      "\n",
      "[3 rows x 134 columns]\n"
     ]
    }
   ],
   "source": [
    "print(mt.shape)\n",
    "\n",
    "# 交叉表  crosstab 参数 列   行\n",
    "cross = pd.crosstab(mt['user_id'],mt['aisle'])\n",
    "print(cross.head(3))"
   ],
   "metadata": {
    "collapsed": false,
    "ExecuteTime": {
     "start_time": "2023-07-16T21:24:26.669330Z",
     "end_time": "2023-07-16T21:25:13.731534Z"
    }
   }
  },
  {
   "cell_type": "code",
   "execution_count": 49,
   "outputs": [
    {
     "name": "stdout",
     "output_type": "stream",
     "text": [
      "(206209, 134)\n",
      "(206209, 27)\n",
      "1004.1432723456559\n",
      "-679.1472242904147\n"
     ]
    }
   ],
   "source": [
    "print(cross.shape)\n",
    "# pca 降维\n",
    "pca = PCA(n_components=0.9)\n",
    "data = pca.fit_transform(cross)\n",
    "# 特征数从134-> 27\n",
    "print(data.shape)\n",
    "print(data.max())\n",
    "print(data.min())"
   ],
   "metadata": {
    "collapsed": false,
    "ExecuteTime": {
     "start_time": "2023-07-16T21:30:09.741172Z",
     "end_time": "2023-07-16T21:30:11.301952Z"
    }
   }
  },
  {
   "cell_type": "code",
   "execution_count": 61,
   "outputs": [
    {
     "name": "stderr",
     "output_type": "stream",
     "text": [
      "C:\\DevEnvironment\\Python\\lib\\site-packages\\sklearn\\cluster\\_kmeans.py:870: FutureWarning: The default value of `n_init` will change from 10 to 'auto' in 1.4. Set the value of `n_init` explicitly to suppress the warning\n",
      "  warnings.warn(\n"
     ]
    },
    {
     "data": {
      "text/plain": "KMeans(n_clusters=4)",
      "text/html": "<style>#sk-container-id-4 {color: black;background-color: white;}#sk-container-id-4 pre{padding: 0;}#sk-container-id-4 div.sk-toggleable {background-color: white;}#sk-container-id-4 label.sk-toggleable__label {cursor: pointer;display: block;width: 100%;margin-bottom: 0;padding: 0.3em;box-sizing: border-box;text-align: center;}#sk-container-id-4 label.sk-toggleable__label-arrow:before {content: \"▸\";float: left;margin-right: 0.25em;color: #696969;}#sk-container-id-4 label.sk-toggleable__label-arrow:hover:before {color: black;}#sk-container-id-4 div.sk-estimator:hover label.sk-toggleable__label-arrow:before {color: black;}#sk-container-id-4 div.sk-toggleable__content {max-height: 0;max-width: 0;overflow: hidden;text-align: left;background-color: #f0f8ff;}#sk-container-id-4 div.sk-toggleable__content pre {margin: 0.2em;color: black;border-radius: 0.25em;background-color: #f0f8ff;}#sk-container-id-4 input.sk-toggleable__control:checked~div.sk-toggleable__content {max-height: 200px;max-width: 100%;overflow: auto;}#sk-container-id-4 input.sk-toggleable__control:checked~label.sk-toggleable__label-arrow:before {content: \"▾\";}#sk-container-id-4 div.sk-estimator input.sk-toggleable__control:checked~label.sk-toggleable__label {background-color: #d4ebff;}#sk-container-id-4 div.sk-label input.sk-toggleable__control:checked~label.sk-toggleable__label {background-color: #d4ebff;}#sk-container-id-4 input.sk-hidden--visually {border: 0;clip: rect(1px 1px 1px 1px);clip: rect(1px, 1px, 1px, 1px);height: 1px;margin: -1px;overflow: hidden;padding: 0;position: absolute;width: 1px;}#sk-container-id-4 div.sk-estimator {font-family: monospace;background-color: #f0f8ff;border: 1px dotted black;border-radius: 0.25em;box-sizing: border-box;margin-bottom: 0.5em;}#sk-container-id-4 div.sk-estimator:hover {background-color: #d4ebff;}#sk-container-id-4 div.sk-parallel-item::after {content: \"\";width: 100%;border-bottom: 1px solid gray;flex-grow: 1;}#sk-container-id-4 div.sk-label:hover label.sk-toggleable__label {background-color: #d4ebff;}#sk-container-id-4 div.sk-serial::before {content: \"\";position: absolute;border-left: 1px solid gray;box-sizing: border-box;top: 0;bottom: 0;left: 50%;z-index: 0;}#sk-container-id-4 div.sk-serial {display: flex;flex-direction: column;align-items: center;background-color: white;padding-right: 0.2em;padding-left: 0.2em;position: relative;}#sk-container-id-4 div.sk-item {position: relative;z-index: 1;}#sk-container-id-4 div.sk-parallel {display: flex;align-items: stretch;justify-content: center;background-color: white;position: relative;}#sk-container-id-4 div.sk-item::before, #sk-container-id-4 div.sk-parallel-item::before {content: \"\";position: absolute;border-left: 1px solid gray;box-sizing: border-box;top: 0;bottom: 0;left: 50%;z-index: -1;}#sk-container-id-4 div.sk-parallel-item {display: flex;flex-direction: column;z-index: 1;position: relative;background-color: white;}#sk-container-id-4 div.sk-parallel-item:first-child::after {align-self: flex-end;width: 50%;}#sk-container-id-4 div.sk-parallel-item:last-child::after {align-self: flex-start;width: 50%;}#sk-container-id-4 div.sk-parallel-item:only-child::after {width: 0;}#sk-container-id-4 div.sk-dashed-wrapped {border: 1px dashed gray;margin: 0 0.4em 0.5em 0.4em;box-sizing: border-box;padding-bottom: 0.4em;background-color: white;}#sk-container-id-4 div.sk-label label {font-family: monospace;font-weight: bold;display: inline-block;line-height: 1.2em;}#sk-container-id-4 div.sk-label-container {text-align: center;}#sk-container-id-4 div.sk-container {/* jupyter's `normalize.less` sets `[hidden] { display: none; }` but bootstrap.min.css set `[hidden] { display: none !important; }` so we also need the `!important` here to be able to override the default hidden behavior on the sphinx rendered scikit-learn.org. See: https://github.com/scikit-learn/scikit-learn/issues/21755 */display: inline-block !important;position: relative;}#sk-container-id-4 div.sk-text-repr-fallback {display: none;}</style><div id=\"sk-container-id-4\" class=\"sk-top-container\"><div class=\"sk-text-repr-fallback\"><pre>KMeans(n_clusters=4)</pre><b>In a Jupyter environment, please rerun this cell to show the HTML representation or trust the notebook. <br />On GitHub, the HTML representation is unable to render, please try loading this page with nbviewer.org.</b></div><div class=\"sk-container\" hidden><div class=\"sk-item\"><div class=\"sk-estimator sk-toggleable\"><input class=\"sk-toggleable__control sk-hidden--visually\" id=\"sk-estimator-id-4\" type=\"checkbox\" checked><label for=\"sk-estimator-id-4\" class=\"sk-toggleable__label sk-toggleable__label-arrow\">KMeans</label><div class=\"sk-toggleable__content\"><pre>KMeans(n_clusters=4)</pre></div></div></div></div></div>"
     },
     "execution_count": 61,
     "metadata": {},
     "output_type": "execute_result"
    }
   ],
   "source": [
    "# 预分类\n",
    "km = KMeans(n_clusters=4)\n",
    "km.fit(data[:500])"
   ],
   "metadata": {
    "collapsed": false,
    "ExecuteTime": {
     "start_time": "2023-07-16T21:35:44.495328Z",
     "end_time": "2023-07-16T21:35:44.639342Z"
    }
   }
  },
  {
   "cell_type": "code",
   "execution_count": 62,
   "outputs": [],
   "source": [
    "predict = km.predict(data[:500])"
   ],
   "metadata": {
    "collapsed": false,
    "ExecuteTime": {
     "start_time": "2023-07-16T21:35:46.147644Z",
     "end_time": "2023-07-16T21:35:46.172237Z"
    }
   }
  },
  {
   "cell_type": "code",
   "execution_count": 63,
   "outputs": [
    {
     "data": {
      "text/plain": "500"
     },
     "execution_count": 63,
     "metadata": {},
     "output_type": "execute_result"
    }
   ],
   "source": [
    "len(predict)"
   ],
   "metadata": {
    "collapsed": false,
    "ExecuteTime": {
     "start_time": "2023-07-16T21:35:47.584198Z",
     "end_time": "2023-07-16T21:35:47.606593Z"
    }
   }
  },
  {
   "cell_type": "code",
   "execution_count": 69,
   "outputs": [
    {
     "data": {
      "text/plain": "<matplotlib.collections.PathCollection at 0x17eb6b644c0>"
     },
     "execution_count": 69,
     "metadata": {},
     "output_type": "execute_result"
    },
    {
     "data": {
      "text/plain": "<Figure size 2000x2000 with 1 Axes>",
      "image/png": "[encoded data removed]"
     },
     "metadata": {},
     "output_type": "display_data"
    }
   ],
   "source": [
    "plt.figure(figsize=(20,20))\n",
    "colored = ['orange', 'green', 'blue', 'purple']\n",
    "colr = [colored[i] for i in predict]\n",
    "x = data[:500]\n",
    "plt.scatter(x[:,2],x[:,20],color=colr)\n"
   ],
   "metadata": {
    "collapsed": false,
    "ExecuteTime": {
     "start_time": "2023-07-16T21:38:26.206683Z",
     "end_time": "2023-07-16T21:38:26.397842Z"
    }
   }
  },
  {
   "cell_type": "code",
   "execution_count": 71,
   "outputs": [
    {
     "data": {
      "text/plain": "Text(0, 0.5, '20')"
     },
     "execution_count": 71,
     "metadata": {},
     "output_type": "execute_result"
    },
    {
     "data": {
      "text/plain": "<Figure size 640x480 with 1 Axes>",
      "image/png": "[encoded data removed]"
     },
     "metadata": {},
     "output_type": "display_data"
    }
   ],
   "source": [
    "plt.xlabel('1')\n",
    "plt.ylabel('20')"
   ],
   "metadata": {
    "collapsed": false,
    "ExecuteTime": {
     "start_time": "2023-07-16T21:39:08.651595Z",
     "end_time": "2023-07-16T21:39:08.717564Z"
    }
   }
  },
  {
   "cell_type": "code",
   "execution_count": 72,
   "outputs": [
    {
     "data": {
      "text/plain": "0.6091068899459956"
     },
     "execution_count": 72,
     "metadata": {},
     "output_type": "execute_result"
    }
   ],
   "source": [
    "# 评判聚类效果，轮廓系数，聚类效果很难超过0.7，可以通过这个得分去调整上面KMeans的n_clusters\n",
    "silhouette_score(x, predict)"
   ],
   "metadata": {
    "collapsed": false,
    "ExecuteTime": {
     "start_time": "2023-07-16T21:39:36.498652Z",
     "end_time": "2023-07-16T21:39:36.569503Z"
    }
   }
  },
  {
   "cell_type": "code",
   "execution_count": 73,
   "outputs": [
    {
     "name": "stderr",
     "output_type": "stream",
     "text": [
      "C:\\DevEnvironment\\Python\\lib\\site-packages\\sklearn\\cluster\\_kmeans.py:870: FutureWarning: The default value of `n_init` will change from 10 to 'auto' in 1.4. Set the value of `n_init` explicitly to suppress the warning\n",
      "  warnings.warn(\n"
     ]
    },
    {
     "data": {
      "text/plain": "0.6779999767609067"
     },
     "execution_count": 73,
     "metadata": {},
     "output_type": "execute_result"
    }
   ],
   "source": [
    "#改为2时的结果\n",
    "km = KMeans(n_clusters=2)\n",
    "km.fit(x)  #开始训练\n",
    "predict = km.predict(x)\n",
    "silhouette_score(x, predict)"
   ],
   "metadata": {
    "collapsed": false,
    "ExecuteTime": {
     "start_time": "2023-07-16T21:39:38.346956Z",
     "end_time": "2023-07-16T21:39:38.504392Z"
    }
   }
  },
  {
   "cell_type": "code",
   "execution_count": null,
   "outputs": [],
   "source": [],
   "metadata": {
    "collapsed": false
   }
  }
 ],
 "metadata": {
  "kernelspec": {
   "display_name": "Python 3",
   "language": "python",
   "name": "python3"
  },
  "language_info": {
   "codemirror_mode": {
    "name": "ipython",
    "version": 2
   },
   "file_extension": ".py",
   "mimetype": "text/x-python",
   "name": "python",
   "nbconvert_exporter": "python",
   "pygments_lexer": "ipython2",
   "version": "2.7.6"
  }
 },
 "nbformat": 4,
 "nbformat_minor": 0
}
